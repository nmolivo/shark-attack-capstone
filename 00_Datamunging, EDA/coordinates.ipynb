{
 "cells": [
  {
   "cell_type": "code",
   "execution_count": 29,
   "metadata": {
    "collapsed": true
   },
   "outputs": [],
   "source": [
    "import pandas as pd\n",
    "from pygeocoder import Geocoder\n",
    "from time import sleep\n",
    "import numpy as np"
   ]
  },
  {
   "cell_type": "code",
   "execution_count": 6,
   "metadata": {
    "collapsed": false
   },
   "outputs": [
    {
     "data": {
      "text/plain": [
       "Index(['Unnamed: 0', 'Case Number', 'Date', 'Year', 'Type', 'Country', 'Area',\n",
       "       'Location', 'Activity', 'Name', 'Sex ', 'Age', 'Injury', 'Fatal (Y/N)',\n",
       "       'Time', 'Species ', 'Investigator or Source', 'pdf', 'href formula',\n",
       "       'href', 'ts_year', 'ts_month', 'ts_day', 'ts_time', 'ts_date'],\n",
       "      dtype='object')"
      ]
     },
     "execution_count": 6,
     "metadata": {},
     "output_type": "execute_result"
    }
   ],
   "source": [
    "df = pd.read_csv('02_df.csv')\n",
    "df.columns"
   ]
  },
  {
   "cell_type": "code",
   "execution_count": 7,
   "metadata": {
    "collapsed": true
   },
   "outputs": [],
   "source": [
    "df['loc_str'] = df['Location'] + \" \" + df['Area'] + \" \"+ df['Country']"
   ]
  },
  {
   "cell_type": "code",
   "execution_count": 8,
   "metadata": {
    "collapsed": false
   },
   "outputs": [
    {
     "data": {
      "text/plain": [
       "0                  Manuelita Cocos Island COSTA RICA\n",
       "1                  Manuelita Cocos Island COSTA RICA\n",
       "2                                                NaN\n",
       "3    Stillwater Cove, Monterey County California USA\n",
       "4        Floridana Beach, Brevard County Florida USA\n",
       "Name: loc_str, dtype: object"
      ]
     },
     "execution_count": 8,
     "metadata": {},
     "output_type": "execute_result"
    }
   ],
   "source": [
    "df['loc_str'].head()"
   ]
  },
  {
   "cell_type": "code",
   "execution_count": 9,
   "metadata": {
    "collapsed": false
   },
   "outputs": [
    {
     "data": {
      "text/plain": [
       "1342"
      ]
     },
     "execution_count": 9,
     "metadata": {},
     "output_type": "execute_result"
    }
   ],
   "source": [
    "len(df)"
   ]
  },
  {
   "cell_type": "code",
   "execution_count": 20,
   "metadata": {
    "collapsed": false
   },
   "outputs": [
    {
     "name": "stdout",
     "output_type": "stream",
     "text": [
      "Record 0, sleeping 10 seconds...\n",
      "Record 10, sleeping 10 seconds...\n",
      "Record 20, sleeping 10 seconds...\n",
      "Record 30, sleeping 10 seconds...\n",
      "Record 40, sleeping 10 seconds...\n",
      "Record 50, sleeping 10 seconds...\n",
      "Record 60, sleeping 10 seconds...\n",
      "Record 70, sleeping 10 seconds...\n",
      "Record 80, sleeping 10 seconds...\n",
      "Record 90, sleeping 10 seconds...\n",
      "Record 100, sleeping 10 seconds...\n",
      "Record 110, sleeping 10 seconds...\n",
      "Record 120, sleeping 10 seconds...\n",
      "Record 130, sleeping 10 seconds...\n",
      "Record 140, sleeping 10 seconds...\n",
      "Record 150, sleeping 10 seconds...\n",
      "Record 160, sleeping 10 seconds...\n",
      "Record 170, sleeping 10 seconds...\n",
      "Record 180, sleeping 10 seconds...\n",
      "Record 190, sleeping 10 seconds...\n",
      "Record 200, sleeping 10 seconds...\n",
      "Record 210, sleeping 10 seconds...\n",
      "Record 220, sleeping 10 seconds...\n",
      "Record 230, sleeping 10 seconds...\n",
      "Record 240, sleeping 10 seconds...\n",
      "Record 250, sleeping 10 seconds...\n",
      "Record 260, sleeping 10 seconds...\n",
      "Record 270, sleeping 10 seconds...\n",
      "Record 280, sleeping 10 seconds...\n",
      "Record 290, sleeping 10 seconds...\n",
      "Record 300, sleeping 10 seconds...\n",
      "Record 310, sleeping 10 seconds...\n",
      "Record 320, sleeping 10 seconds...\n",
      "Record 330, sleeping 10 seconds...\n",
      "Record 340, sleeping 10 seconds...\n",
      "Record 350, sleeping 10 seconds...\n",
      "Record 360, sleeping 10 seconds...\n",
      "Record 370, sleeping 10 seconds...\n",
      "Record 380, sleeping 10 seconds...\n",
      "Record 390, sleeping 10 seconds...\n",
      "Record 400, sleeping 10 seconds...\n",
      "Record 410, sleeping 10 seconds...\n",
      "Record 420, sleeping 10 seconds...\n",
      "Record 430, sleeping 10 seconds...\n",
      "Record 440, sleeping 10 seconds...\n",
      "Record 450, sleeping 10 seconds...\n",
      "Record 460, sleeping 10 seconds...\n",
      "Record 470, sleeping 10 seconds...\n",
      "Record 480, sleeping 10 seconds...\n",
      "Record 490, sleeping 10 seconds...\n",
      "Record 500, sleeping 10 seconds...\n",
      "Record 510, sleeping 10 seconds...\n",
      "Record 520, sleeping 10 seconds...\n",
      "Record 530, sleeping 10 seconds...\n",
      "Record 540, sleeping 10 seconds...\n",
      "Record 550, sleeping 10 seconds...\n",
      "Record 560, sleeping 10 seconds...\n",
      "Record 570, sleeping 10 seconds...\n",
      "Record 580, sleeping 10 seconds...\n",
      "Record 590, sleeping 10 seconds...\n",
      "Record 600, sleeping 10 seconds...\n",
      "Record 610, sleeping 10 seconds...\n",
      "Record 620, sleeping 10 seconds...\n",
      "Record 630, sleeping 10 seconds...\n",
      "Record 640, sleeping 10 seconds...\n",
      "Record 650, sleeping 10 seconds...\n",
      "Record 660, sleeping 10 seconds...\n",
      "Record 670, sleeping 10 seconds...\n",
      "Record 680, sleeping 10 seconds...\n",
      "Record 690, sleeping 10 seconds...\n",
      "Record 700, sleeping 10 seconds...\n",
      "Record 710, sleeping 10 seconds...\n",
      "Record 720, sleeping 10 seconds...\n",
      "Record 730, sleeping 10 seconds...\n",
      "Record 740, sleeping 10 seconds...\n",
      "Record 750, sleeping 10 seconds...\n",
      "Record 760, sleeping 10 seconds...\n",
      "Record 770, sleeping 10 seconds...\n",
      "Record 780, sleeping 10 seconds...\n",
      "Record 790, sleeping 10 seconds...\n",
      "Record 800, sleeping 10 seconds...\n",
      "Record 810, sleeping 10 seconds...\n",
      "Record 820, sleeping 10 seconds...\n",
      "Record 830, sleeping 10 seconds...\n",
      "Record 840, sleeping 10 seconds...\n",
      "Record 850, sleeping 10 seconds...\n",
      "Record 860, sleeping 10 seconds...\n",
      "Record 870, sleeping 10 seconds...\n",
      "Record 880, sleeping 10 seconds...\n",
      "Record 890, sleeping 10 seconds...\n",
      "Record 900, sleeping 10 seconds...\n",
      "Record 910, sleeping 10 seconds...\n",
      "Record 920, sleeping 10 seconds...\n",
      "Record 930, sleeping 10 seconds...\n",
      "Record 940, sleeping 10 seconds...\n",
      "Record 950, sleeping 10 seconds...\n",
      "Record 960, sleeping 10 seconds...\n",
      "Record 970, sleeping 10 seconds...\n",
      "Record 980, sleeping 10 seconds...\n",
      "Record 990, sleeping 10 seconds...\n",
      "Record 1000, sleeping 10 seconds...\n",
      "Record 1010, sleeping 10 seconds...\n",
      "Record 1020, sleeping 10 seconds...\n",
      "Record 1030, sleeping 10 seconds...\n",
      "Record 1040, sleeping 10 seconds...\n",
      "Record 1050, sleeping 10 seconds...\n",
      "Record 1060, sleeping 10 seconds...\n",
      "Record 1070, sleeping 10 seconds...\n",
      "Record 1080, sleeping 10 seconds...\n",
      "Record 1090, sleeping 10 seconds...\n",
      "Record 1100, sleeping 10 seconds...\n",
      "Record 1110, sleeping 10 seconds...\n",
      "Record 1120, sleeping 10 seconds...\n",
      "Record 1130, sleeping 10 seconds...\n",
      "Record 1140, sleeping 10 seconds...\n",
      "Record 1150, sleeping 10 seconds...\n",
      "Record 1160, sleeping 10 seconds...\n",
      "Record 1170, sleeping 10 seconds...\n",
      "Record 1180, sleeping 10 seconds...\n",
      "Record 1190, sleeping 10 seconds...\n",
      "Record 1200, sleeping 10 seconds...\n",
      "Record 1210, sleeping 10 seconds...\n",
      "Record 1220, sleeping 10 seconds...\n",
      "Record 1230, sleeping 10 seconds...\n",
      "Record 1240, sleeping 10 seconds...\n",
      "Record 1250, sleeping 10 seconds...\n",
      "Record 1260, sleeping 10 seconds...\n",
      "Record 1270, sleeping 10 seconds...\n",
      "Record 1280, sleeping 10 seconds...\n",
      "Record 1290, sleeping 10 seconds...\n",
      "Record 1300, sleeping 10 seconds...\n",
      "Record 1310, sleeping 10 seconds...\n",
      "Record 1320, sleeping 10 seconds...\n",
      "Record 1330, sleeping 10 seconds...\n",
      "Record 1340, sleeping 10 seconds...\n"
     ]
    }
   ],
   "source": [
    "results = []\n",
    "for i, l in enumerate(df['loc_str']):\n",
    "    if i % 10 == 0:\n",
    "        print('Record {}, sleeping 10 seconds...'.format(i))\n",
    "        sleep(10)\n",
    "    \n",
    "    res_dict = {'loc_str': l}\n",
    "    if l == 'NaN' or l == 'nan':\n",
    "        results.append(res_dict)\n",
    "        continue\n",
    "    try:\n",
    "        res = Geocoder.geocode(l)\n",
    "    except:\n",
    "        results.append(res_dict)\n",
    "        continue\n",
    "    try:\n",
    "        coords = res[0].coordinates\n",
    "        res_dict['lat'] = coords[0]\n",
    "        res_dict['long'] = coords[1]\n",
    "    except:\n",
    "        pass\n",
    "    try:\n",
    "        res_dict['geo_country'] = res[0].country\n",
    "    except:\n",
    "        pass\n",
    "    results.append(res_dict)"
   ]
  },
  {
   "cell_type": "code",
   "execution_count": 21,
   "metadata": {
    "collapsed": false
   },
   "outputs": [
    {
     "data": {
      "text/plain": [
       "1342"
      ]
     },
     "execution_count": 21,
     "metadata": {},
     "output_type": "execute_result"
    }
   ],
   "source": [
    "len(results)"
   ]
  },
  {
   "cell_type": "code",
   "execution_count": 22,
   "metadata": {
    "collapsed": false
   },
   "outputs": [
    {
     "data": {
      "text/html": [
       "<div>\n",
       "<style scoped>\n",
       "    .dataframe tbody tr th:only-of-type {\n",
       "        vertical-align: middle;\n",
       "    }\n",
       "\n",
       "    .dataframe tbody tr th {\n",
       "        vertical-align: top;\n",
       "    }\n",
       "\n",
       "    .dataframe thead th {\n",
       "        text-align: right;\n",
       "    }\n",
       "</style>\n",
       "<table border=\"1\" class=\"dataframe\">\n",
       "  <thead>\n",
       "    <tr style=\"text-align: right;\">\n",
       "      <th></th>\n",
       "      <th>geo_country</th>\n",
       "      <th>lat</th>\n",
       "      <th>loc_str</th>\n",
       "      <th>long</th>\n",
       "    </tr>\n",
       "  </thead>\n",
       "  <tbody>\n",
       "    <tr>\n",
       "      <th>0</th>\n",
       "      <td>Costa Rica</td>\n",
       "      <td>5.528228</td>\n",
       "      <td>Manuelita Cocos Island COSTA RICA</td>\n",
       "      <td>-87.057430</td>\n",
       "    </tr>\n",
       "    <tr>\n",
       "      <th>1</th>\n",
       "      <td>Costa Rica</td>\n",
       "      <td>5.528228</td>\n",
       "      <td>Manuelita Cocos Island COSTA RICA</td>\n",
       "      <td>-87.057430</td>\n",
       "    </tr>\n",
       "    <tr>\n",
       "      <th>2</th>\n",
       "      <td>Thailand</td>\n",
       "      <td>18.775632</td>\n",
       "      <td>NaN</td>\n",
       "      <td>100.773042</td>\n",
       "    </tr>\n",
       "    <tr>\n",
       "      <th>3</th>\n",
       "      <td>United States</td>\n",
       "      <td>36.563945</td>\n",
       "      <td>Stillwater Cove, Monterey County California USA</td>\n",
       "      <td>-121.942334</td>\n",
       "    </tr>\n",
       "    <tr>\n",
       "      <th>4</th>\n",
       "      <td>United States</td>\n",
       "      <td>27.945631</td>\n",
       "      <td>Floridana Beach, Brevard County Florida USA</td>\n",
       "      <td>-80.497996</td>\n",
       "    </tr>\n",
       "  </tbody>\n",
       "</table>\n",
       "</div>"
      ],
      "text/plain": [
       "     geo_country        lat                                          loc_str  \\\n",
       "0     Costa Rica   5.528228                Manuelita Cocos Island COSTA RICA   \n",
       "1     Costa Rica   5.528228                Manuelita Cocos Island COSTA RICA   \n",
       "2       Thailand  18.775632                                              NaN   \n",
       "3  United States  36.563945  Stillwater Cove, Monterey County California USA   \n",
       "4  United States  27.945631      Floridana Beach, Brevard County Florida USA   \n",
       "\n",
       "         long  \n",
       "0  -87.057430  \n",
       "1  -87.057430  \n",
       "2  100.773042  \n",
       "3 -121.942334  \n",
       "4  -80.497996  "
      ]
     },
     "execution_count": 22,
     "metadata": {},
     "output_type": "execute_result"
    }
   ],
   "source": [
    "geocoded = pd.DataFrame(results)\n",
    "geocoded.head()"
   ]
  },
  {
   "cell_type": "code",
   "execution_count": 23,
   "metadata": {
    "collapsed": true
   },
   "outputs": [],
   "source": [
    "geocoded.to_csv('geocoded.csv', index=False)"
   ]
  },
  {
   "cell_type": "code",
   "execution_count": 24,
   "metadata": {
    "collapsed": true
   },
   "outputs": [],
   "source": [
    "geocoded.rename(columns={'loc_str': 'geo_loc_str'}, inplace=True)"
   ]
  },
  {
   "cell_type": "code",
   "execution_count": 25,
   "metadata": {
    "collapsed": false
   },
   "outputs": [
    {
     "data": {
      "text/html": [
       "<div>\n",
       "<style scoped>\n",
       "    .dataframe tbody tr th:only-of-type {\n",
       "        vertical-align: middle;\n",
       "    }\n",
       "\n",
       "    .dataframe tbody tr th {\n",
       "        vertical-align: top;\n",
       "    }\n",
       "\n",
       "    .dataframe thead th {\n",
       "        text-align: right;\n",
       "    }\n",
       "</style>\n",
       "<table border=\"1\" class=\"dataframe\">\n",
       "  <thead>\n",
       "    <tr style=\"text-align: right;\">\n",
       "      <th></th>\n",
       "      <th>Unnamed: 0</th>\n",
       "      <th>Case Number</th>\n",
       "      <th>Date</th>\n",
       "      <th>Year</th>\n",
       "      <th>Type</th>\n",
       "      <th>Country</th>\n",
       "      <th>Area</th>\n",
       "      <th>Location</th>\n",
       "      <th>Activity</th>\n",
       "      <th>Name</th>\n",
       "      <th>...</th>\n",
       "      <th>ts_year</th>\n",
       "      <th>ts_month</th>\n",
       "      <th>ts_day</th>\n",
       "      <th>ts_time</th>\n",
       "      <th>ts_date</th>\n",
       "      <th>loc_str</th>\n",
       "      <th>geo_country</th>\n",
       "      <th>lat</th>\n",
       "      <th>geo_loc_str</th>\n",
       "      <th>long</th>\n",
       "    </tr>\n",
       "  </thead>\n",
       "  <tbody>\n",
       "    <tr>\n",
       "      <th>0</th>\n",
       "      <td>0</td>\n",
       "      <td>2017.11.30.b</td>\n",
       "      <td>30-Nov-2017</td>\n",
       "      <td>2017.0</td>\n",
       "      <td>Unprovoked</td>\n",
       "      <td>COSTA RICA</td>\n",
       "      <td>Cocos Island</td>\n",
       "      <td>Manuelita</td>\n",
       "      <td>Scuba Diving</td>\n",
       "      <td>__ Jimenez</td>\n",
       "      <td>...</td>\n",
       "      <td>2017</td>\n",
       "      <td>11</td>\n",
       "      <td>30</td>\n",
       "      <td>NaN</td>\n",
       "      <td>2017-11-30</td>\n",
       "      <td>Manuelita Cocos Island COSTA RICA</td>\n",
       "      <td>Costa Rica</td>\n",
       "      <td>5.528228</td>\n",
       "      <td>Manuelita Cocos Island COSTA RICA</td>\n",
       "      <td>-87.057430</td>\n",
       "    </tr>\n",
       "    <tr>\n",
       "      <th>1</th>\n",
       "      <td>1</td>\n",
       "      <td>2017.11.30.a</td>\n",
       "      <td>30-Nov-2017</td>\n",
       "      <td>2017.0</td>\n",
       "      <td>Unprovoked</td>\n",
       "      <td>COSTA RICA</td>\n",
       "      <td>Cocos Island</td>\n",
       "      <td>Manuelita</td>\n",
       "      <td>Scuba diving</td>\n",
       "      <td>Rohina Bhandari</td>\n",
       "      <td>...</td>\n",
       "      <td>2017</td>\n",
       "      <td>11</td>\n",
       "      <td>30</td>\n",
       "      <td>NaN</td>\n",
       "      <td>2017-11-30</td>\n",
       "      <td>Manuelita Cocos Island COSTA RICA</td>\n",
       "      <td>Costa Rica</td>\n",
       "      <td>5.528228</td>\n",
       "      <td>Manuelita Cocos Island COSTA RICA</td>\n",
       "      <td>-87.057430</td>\n",
       "    </tr>\n",
       "    <tr>\n",
       "      <th>2</th>\n",
       "      <td>2</td>\n",
       "      <td>2017.11.25.R</td>\n",
       "      <td>Reported 25-Nov-2017</td>\n",
       "      <td>2017.0</td>\n",
       "      <td>Sea Disaster</td>\n",
       "      <td>LIBYA</td>\n",
       "      <td>NaN</td>\n",
       "      <td>Gars Garabulli</td>\n",
       "      <td>2 boats capsized</td>\n",
       "      <td>31 migrants</td>\n",
       "      <td>...</td>\n",
       "      <td>2017</td>\n",
       "      <td>11</td>\n",
       "      <td>25</td>\n",
       "      <td>NaN</td>\n",
       "      <td>2017-11-25</td>\n",
       "      <td>NaN</td>\n",
       "      <td>Thailand</td>\n",
       "      <td>18.775632</td>\n",
       "      <td>NaN</td>\n",
       "      <td>100.773042</td>\n",
       "    </tr>\n",
       "    <tr>\n",
       "      <th>3</th>\n",
       "      <td>3</td>\n",
       "      <td>2017.11.24</td>\n",
       "      <td>24-Nov-2017</td>\n",
       "      <td>2017.0</td>\n",
       "      <td>Unprovoked</td>\n",
       "      <td>USA</td>\n",
       "      <td>California</td>\n",
       "      <td>Stillwater Cove, Monterey County</td>\n",
       "      <td>Spearfishing</td>\n",
       "      <td>Grigor Azatian</td>\n",
       "      <td>...</td>\n",
       "      <td>2017</td>\n",
       "      <td>11</td>\n",
       "      <td>24</td>\n",
       "      <td>13:45</td>\n",
       "      <td>2017-11-24</td>\n",
       "      <td>Stillwater Cove, Monterey County California USA</td>\n",
       "      <td>United States</td>\n",
       "      <td>36.563945</td>\n",
       "      <td>Stillwater Cove, Monterey County California USA</td>\n",
       "      <td>-121.942334</td>\n",
       "    </tr>\n",
       "    <tr>\n",
       "      <th>4</th>\n",
       "      <td>4</td>\n",
       "      <td>2017.11.18</td>\n",
       "      <td>18-Nov-2017</td>\n",
       "      <td>2017.0</td>\n",
       "      <td>Unprovoked</td>\n",
       "      <td>USA</td>\n",
       "      <td>Florida</td>\n",
       "      <td>Floridana Beach, Brevard County</td>\n",
       "      <td>Surfing</td>\n",
       "      <td>Kaia Anderson</td>\n",
       "      <td>...</td>\n",
       "      <td>2017</td>\n",
       "      <td>11</td>\n",
       "      <td>18</td>\n",
       "      <td>NaN</td>\n",
       "      <td>2017-11-18</td>\n",
       "      <td>Floridana Beach, Brevard County Florida USA</td>\n",
       "      <td>United States</td>\n",
       "      <td>27.945631</td>\n",
       "      <td>Floridana Beach, Brevard County Florida USA</td>\n",
       "      <td>-80.497996</td>\n",
       "    </tr>\n",
       "  </tbody>\n",
       "</table>\n",
       "<p>5 rows × 30 columns</p>\n",
       "</div>"
      ],
      "text/plain": [
       "   Unnamed: 0   Case Number                  Date    Year          Type  \\\n",
       "0           0  2017.11.30.b           30-Nov-2017  2017.0    Unprovoked   \n",
       "1           1  2017.11.30.a           30-Nov-2017  2017.0    Unprovoked   \n",
       "2           2  2017.11.25.R  Reported 25-Nov-2017  2017.0  Sea Disaster   \n",
       "3           3    2017.11.24           24-Nov-2017  2017.0    Unprovoked   \n",
       "4           4    2017.11.18           18-Nov-2017  2017.0    Unprovoked   \n",
       "\n",
       "      Country          Area                          Location  \\\n",
       "0  COSTA RICA  Cocos Island                         Manuelita   \n",
       "1  COSTA RICA  Cocos Island                         Manuelita   \n",
       "2       LIBYA           NaN                    Gars Garabulli   \n",
       "3         USA    California  Stillwater Cove, Monterey County   \n",
       "4         USA       Florida   Floridana Beach, Brevard County   \n",
       "\n",
       "           Activity             Name     ...     ts_year ts_month ts_day  \\\n",
       "0      Scuba Diving       __ Jimenez     ...        2017       11     30   \n",
       "1      Scuba diving  Rohina Bhandari     ...        2017       11     30   \n",
       "2  2 boats capsized      31 migrants     ...        2017       11     25   \n",
       "3      Spearfishing   Grigor Azatian     ...        2017       11     24   \n",
       "4           Surfing    Kaia Anderson     ...        2017       11     18   \n",
       "\n",
       "  ts_time     ts_date                                          loc_str  \\\n",
       "0     NaN  2017-11-30                Manuelita Cocos Island COSTA RICA   \n",
       "1     NaN  2017-11-30                Manuelita Cocos Island COSTA RICA   \n",
       "2     NaN  2017-11-25                                              NaN   \n",
       "3   13:45  2017-11-24  Stillwater Cove, Monterey County California USA   \n",
       "4     NaN  2017-11-18      Floridana Beach, Brevard County Florida USA   \n",
       "\n",
       "     geo_country        lat                                      geo_loc_str  \\\n",
       "0     Costa Rica   5.528228                Manuelita Cocos Island COSTA RICA   \n",
       "1     Costa Rica   5.528228                Manuelita Cocos Island COSTA RICA   \n",
       "2       Thailand  18.775632                                              NaN   \n",
       "3  United States  36.563945  Stillwater Cove, Monterey County California USA   \n",
       "4  United States  27.945631      Floridana Beach, Brevard County Florida USA   \n",
       "\n",
       "         long  \n",
       "0  -87.057430  \n",
       "1  -87.057430  \n",
       "2  100.773042  \n",
       "3 -121.942334  \n",
       "4  -80.497996  \n",
       "\n",
       "[5 rows x 30 columns]"
      ]
     },
     "execution_count": 25,
     "metadata": {},
     "output_type": "execute_result"
    }
   ],
   "source": [
    "df_geo = pd.concat([df, geocoded], axis=1)\n",
    "df_geo.head()"
   ]
  },
  {
   "cell_type": "code",
   "execution_count": 27,
   "metadata": {
    "collapsed": false
   },
   "outputs": [
    {
     "data": {
      "text/plain": [
       "106"
      ]
     },
     "execution_count": 27,
     "metadata": {},
     "output_type": "execute_result"
    }
   ],
   "source": [
    "len(df_geo[df_geo['loc_str'] != df_geo['geo_loc_str']])"
   ]
  },
  {
   "cell_type": "code",
   "execution_count": null,
   "metadata": {
    "collapsed": true
   },
   "outputs": [],
   "source": [
    "# Nan values were coded as Thailand"
   ]
  },
  {
   "cell_type": "code",
   "execution_count": 32,
   "metadata": {
    "collapsed": false
   },
   "outputs": [
    {
     "data": {
      "text/plain": [
       "106"
      ]
     },
     "execution_count": 32,
     "metadata": {},
     "output_type": "execute_result"
    }
   ],
   "source": [
    "len(df_geo[df_geo['geo_loc_str'].isnull()])"
   ]
  },
  {
   "cell_type": "code",
   "execution_count": 33,
   "metadata": {
    "collapsed": true
   },
   "outputs": [],
   "source": [
    "geocoded.loc[geocoded['geo_loc_str'].isnull(), 'lat'] = None\n",
    "geocoded.loc[geocoded['geo_loc_str'].isnull(), 'long'] = None\n",
    "df_geo.loc[df_geo['geo_loc_str'].isnull(), 'lat'] = None\n",
    "df_geo.loc[df_geo['geo_loc_str'].isnull(), 'long'] = None"
   ]
  },
  {
   "cell_type": "code",
   "execution_count": 34,
   "metadata": {
    "collapsed": true
   },
   "outputs": [],
   "source": [
    "df_geo.to_csv('02_df_geo.csv', index=False)\n",
    "geocoded.to_csv('geocoded.csv', index=False)"
   ]
  },
  {
   "cell_type": "code",
   "execution_count": null,
   "metadata": {
    "collapsed": true
   },
   "outputs": [],
   "source": []
  }
 ],
 "metadata": {
  "anaconda-cloud": {},
  "kernelspec": {
   "display_name": "Python [default]",
   "language": "python",
   "name": "python3"
  },
  "language_info": {
   "codemirror_mode": {
    "name": "ipython",
    "version": 3
   },
   "file_extension": ".py",
   "mimetype": "text/x-python",
   "name": "python",
   "nbconvert_exporter": "python",
   "pygments_lexer": "ipython3",
   "version": "3.5.2"
  }
 },
 "nbformat": 4,
 "nbformat_minor": 0
}
