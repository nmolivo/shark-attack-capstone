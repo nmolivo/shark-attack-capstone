{
 "cells": [
  {
   "cell_type": "markdown",
   "metadata": {},
   "source": [
    "<b>Bayesian Network:</b> A Bayesian Network consists of a directed graph and a conditional probability distribution associated with each of the random variables. A Bayesian network is used mostly when there is a causal relationship between the random variables.<br>\n",
    "<br>\n",
    "vs.<br>\n",
    "<br>\n",
    "<b>Markov Network:</b> A Markov Network consists of an undi- rected graph and a few Factors are associated with it. Unlike Conditional Probability Distributions, a Factor does not rep- resent the probabilities of variables in the network; instead it represents the compatibility between random variables that is how much a particular state of a random variable likely to agree with the another state of some other random variable."
   ]
  },
  {
   "cell_type": "markdown",
   "metadata": {},
   "source": [
    "A Bayesian Network consists of a directed graph where nodes represents random variables and edges represent the the relation between them. \n",
    "- It is parameterized using Conditional Probability Distributions (CPD). \n",
    "- Each random variable in a Bayesian Network has a CPD associated with it. \n",
    "- If a random varible has parents in the network then the CPD represents P(var|Parvar) i.e. the probability of that variable given its parents. \n",
    "- In the case, when the random variable has no parents it simply represents P(var) i.e. the probability of that variable."
   ]
  },
  {
   "cell_type": "markdown",
   "metadata": {},
   "source": [
    "https://conference.scipy.org/proceedings/scipy2015/pdfs/ankur_ankan.pdf"
   ]
  },
  {
   "cell_type": "code",
   "execution_count": 3,
   "metadata": {
    "collapsed": false
   },
   "outputs": [
    {
     "name": "stderr",
     "output_type": "stream",
     "text": [
      "/Users/nmolivo/anaconda/lib/python3.5/site-packages/sklearn/cross_validation.py:41: DeprecationWarning: This module was deprecated in version 0.18 in favor of the model_selection module into which all the refactored classes and functions are moved. Also note that the interface of the new CV iterators are different from that of this module. This module will be removed in 0.20.\n",
      "  \"This module will be removed in 0.20.\", DeprecationWarning)\n"
     ]
    }
   ],
   "source": [
    "import pandas as pd\n",
    "import numpy as np\n",
    "from pgmpy.estimators import ConstraintBasedEstimator\n",
    "from pgmpy.inference import VariableElimination\n",
    "from sklearn.cross_validation import train_test_split\n",
    "import networkx as nx\n",
    "import matplotlib.pyplot as plt\n",
    "import seaborn as sns\n",
    "%matplotlib inline\n",
    "\n",
    "import warnings\n",
    "warnings.filterwarnings(\"ignore\")"
   ]
  },
  {
   "cell_type": "code",
   "execution_count": 9,
   "metadata": {
    "collapsed": false
   },
   "outputs": [],
   "source": [
    "data = pd.read_csv('../assets/04_model_data.csv')"
   ]
  },
  {
   "cell_type": "code",
   "execution_count": 10,
   "metadata": {
    "collapsed": false
   },
   "outputs": [
    {
     "data": {
      "text/html": [
       "<div>\n",
       "<style>\n",
       "    .dataframe thead tr:only-child th {\n",
       "        text-align: right;\n",
       "    }\n",
       "\n",
       "    .dataframe thead th {\n",
       "        text-align: left;\n",
       "    }\n",
       "\n",
       "    .dataframe tbody tr th {\n",
       "        vertical-align: top;\n",
       "    }\n",
       "</style>\n",
       "<table border=\"1\" class=\"dataframe\">\n",
       "  <thead>\n",
       "    <tr style=\"text-align: right;\">\n",
       "      <th></th>\n",
       "      <th>Unnamed: 0</th>\n",
       "      <th>Type</th>\n",
       "      <th>Activity</th>\n",
       "      <th>Fatal (Y/N)</th>\n",
       "      <th>ts_date</th>\n",
       "      <th>ts_year</th>\n",
       "      <th>geo_country</th>\n",
       "      <th>gmtoffset</th>\n",
       "      <th>phase</th>\n",
       "      <th>pop_lag</th>\n",
       "      <th>First Quarter</th>\n",
       "      <th>Full Moon</th>\n",
       "      <th>Last Quarter</th>\n",
       "      <th>New Moon</th>\n",
       "    </tr>\n",
       "  </thead>\n",
       "  <tbody>\n",
       "    <tr>\n",
       "      <th>0</th>\n",
       "      <td>0</td>\n",
       "      <td>Unprovoked</td>\n",
       "      <td>Scuba Diving</td>\n",
       "      <td>N</td>\n",
       "      <td>11/30/17</td>\n",
       "      <td>2017</td>\n",
       "      <td>Costa Rica</td>\n",
       "      <td>-6</td>\n",
       "      <td>First Quarter</td>\n",
       "      <td>4857274.0</td>\n",
       "      <td>1</td>\n",
       "      <td>0</td>\n",
       "      <td>0</td>\n",
       "      <td>0</td>\n",
       "    </tr>\n",
       "    <tr>\n",
       "      <th>1</th>\n",
       "      <td>1</td>\n",
       "      <td>Unprovoked</td>\n",
       "      <td>Scuba diving</td>\n",
       "      <td>Y</td>\n",
       "      <td>11/30/17</td>\n",
       "      <td>2017</td>\n",
       "      <td>Costa Rica</td>\n",
       "      <td>-6</td>\n",
       "      <td>First Quarter</td>\n",
       "      <td>4857274.0</td>\n",
       "      <td>1</td>\n",
       "      <td>0</td>\n",
       "      <td>0</td>\n",
       "      <td>0</td>\n",
       "    </tr>\n",
       "    <tr>\n",
       "      <th>2</th>\n",
       "      <td>2</td>\n",
       "      <td>Sea Disaster</td>\n",
       "      <td>2 boats capsized</td>\n",
       "      <td>Y</td>\n",
       "      <td>11/25/17</td>\n",
       "      <td>2017</td>\n",
       "      <td>Libya</td>\n",
       "      <td>3</td>\n",
       "      <td>First Quarter</td>\n",
       "      <td>6293253.0</td>\n",
       "      <td>1</td>\n",
       "      <td>0</td>\n",
       "      <td>0</td>\n",
       "      <td>0</td>\n",
       "    </tr>\n",
       "    <tr>\n",
       "      <th>3</th>\n",
       "      <td>3</td>\n",
       "      <td>Sea Disaster</td>\n",
       "      <td>Air Disaster</td>\n",
       "      <td>Y</td>\n",
       "      <td>2/8/09</td>\n",
       "      <td>2009</td>\n",
       "      <td>United States</td>\n",
       "      <td>-4</td>\n",
       "      <td>Full Moon</td>\n",
       "      <td>304093966.0</td>\n",
       "      <td>0</td>\n",
       "      <td>1</td>\n",
       "      <td>0</td>\n",
       "      <td>0</td>\n",
       "    </tr>\n",
       "    <tr>\n",
       "      <th>4</th>\n",
       "      <td>4</td>\n",
       "      <td>Unprovoked</td>\n",
       "      <td>Treading water</td>\n",
       "      <td>N</td>\n",
       "      <td>8/16/08</td>\n",
       "      <td>2008</td>\n",
       "      <td>United States</td>\n",
       "      <td>-4</td>\n",
       "      <td>Full Moon</td>\n",
       "      <td>301231207.0</td>\n",
       "      <td>0</td>\n",
       "      <td>1</td>\n",
       "      <td>0</td>\n",
       "      <td>0</td>\n",
       "    </tr>\n",
       "  </tbody>\n",
       "</table>\n",
       "</div>"
      ],
      "text/plain": [
       "   Unnamed: 0          Type          Activity Fatal (Y/N)   ts_date  ts_year  \\\n",
       "0           0    Unprovoked      Scuba Diving           N  11/30/17     2017   \n",
       "1           1    Unprovoked      Scuba diving           Y  11/30/17     2017   \n",
       "2           2  Sea Disaster  2 boats capsized           Y  11/25/17     2017   \n",
       "3           3  Sea Disaster      Air Disaster           Y    2/8/09     2009   \n",
       "4           4    Unprovoked    Treading water           N   8/16/08     2008   \n",
       "\n",
       "     geo_country  gmtoffset          phase      pop_lag  First Quarter  \\\n",
       "0     Costa Rica         -6  First Quarter    4857274.0              1   \n",
       "1     Costa Rica         -6  First Quarter    4857274.0              1   \n",
       "2          Libya          3  First Quarter    6293253.0              1   \n",
       "3  United States         -4      Full Moon  304093966.0              0   \n",
       "4  United States         -4      Full Moon  301231207.0              0   \n",
       "\n",
       "   Full Moon  Last Quarter  New Moon  \n",
       "0          0             0         0  \n",
       "1          0             0         0  \n",
       "2          0             0         0  \n",
       "3          1             0         0  \n",
       "4          1             0         0  "
      ]
     },
     "execution_count": 10,
     "metadata": {},
     "output_type": "execute_result"
    }
   ],
   "source": [
    "data.head()"
   ]
  },
  {
   "cell_type": "code",
   "execution_count": 11,
   "metadata": {
    "collapsed": false
   },
   "outputs": [
    {
     "name": "stdout",
     "output_type": "stream",
     "text": [
      "1227\n",
      "1205\n"
     ]
    }
   ],
   "source": [
    "data = data.drop(['Unnamed: 0', 'New Moon', 'First Quarter', 'Last Quarter', 'Full Moon', 'Activity', 'gmtoffset'], axis =1)\n",
    "\n",
    "print(len(data))\n",
    "data.dropna(inplace=True)\n",
    "print(len(data))"
   ]
  },
  {
   "cell_type": "code",
   "execution_count": 12,
   "metadata": {
    "collapsed": false
   },
   "outputs": [
    {
     "data": {
      "text/html": [
       "<div>\n",
       "<style>\n",
       "    .dataframe thead tr:only-child th {\n",
       "        text-align: right;\n",
       "    }\n",
       "\n",
       "    .dataframe thead th {\n",
       "        text-align: left;\n",
       "    }\n",
       "\n",
       "    .dataframe tbody tr th {\n",
       "        vertical-align: top;\n",
       "    }\n",
       "</style>\n",
       "<table border=\"1\" class=\"dataframe\">\n",
       "  <thead>\n",
       "    <tr style=\"text-align: right;\">\n",
       "      <th></th>\n",
       "      <th>Type</th>\n",
       "      <th>fatal</th>\n",
       "      <th>month</th>\n",
       "      <th>year</th>\n",
       "      <th>geo_country</th>\n",
       "      <th>phase</th>\n",
       "      <th>pop_lag</th>\n",
       "    </tr>\n",
       "  </thead>\n",
       "  <tbody>\n",
       "    <tr>\n",
       "      <th>0</th>\n",
       "      <td>Unprovoked</td>\n",
       "      <td>0.0</td>\n",
       "      <td>11</td>\n",
       "      <td>2017</td>\n",
       "      <td>Costa Rica</td>\n",
       "      <td>1</td>\n",
       "      <td>15.395988</td>\n",
       "    </tr>\n",
       "    <tr>\n",
       "      <th>1</th>\n",
       "      <td>Unprovoked</td>\n",
       "      <td>1.0</td>\n",
       "      <td>11</td>\n",
       "      <td>2017</td>\n",
       "      <td>Costa Rica</td>\n",
       "      <td>1</td>\n",
       "      <td>15.395988</td>\n",
       "    </tr>\n",
       "    <tr>\n",
       "      <th>2</th>\n",
       "      <td>Sea Disaster</td>\n",
       "      <td>1.0</td>\n",
       "      <td>11</td>\n",
       "      <td>2017</td>\n",
       "      <td>Libya</td>\n",
       "      <td>1</td>\n",
       "      <td>15.654989</td>\n",
       "    </tr>\n",
       "    <tr>\n",
       "      <th>3</th>\n",
       "      <td>Sea Disaster</td>\n",
       "      <td>1.0</td>\n",
       "      <td>2</td>\n",
       "      <td>2009</td>\n",
       "      <td>United States</td>\n",
       "      <td>3</td>\n",
       "      <td>19.532847</td>\n",
       "    </tr>\n",
       "    <tr>\n",
       "      <th>4</th>\n",
       "      <td>Unprovoked</td>\n",
       "      <td>0.0</td>\n",
       "      <td>8</td>\n",
       "      <td>2008</td>\n",
       "      <td>United States</td>\n",
       "      <td>3</td>\n",
       "      <td>19.523389</td>\n",
       "    </tr>\n",
       "  </tbody>\n",
       "</table>\n",
       "</div>"
      ],
      "text/plain": [
       "           Type  fatal  month  year    geo_country  phase    pop_lag\n",
       "0    Unprovoked    0.0     11  2017     Costa Rica      1  15.395988\n",
       "1    Unprovoked    1.0     11  2017     Costa Rica      1  15.395988\n",
       "2  Sea Disaster    1.0     11  2017          Libya      1  15.654989\n",
       "3  Sea Disaster    1.0      2  2009  United States      3  19.532847\n",
       "4    Unprovoked    0.0      8  2008  United States      3  19.523389"
      ]
     },
     "execution_count": 12,
     "metadata": {},
     "output_type": "execute_result"
    }
   ],
   "source": [
    "data.rename(columns={\"Fatal (Y/N)\": 'fatal', \"ts_date\": 'month', \"ts_year\": 'year'}, inplace=True)\n",
    "data['month'] = data['month'].apply(lambda x: int(str(x).split('/')[0]))\n",
    "data['fatal'] = data['fatal'].map({'N': 0, 'Y': 1})\n",
    "data['phase'] = data['phase'].map({'New Moon': 0, 'First Quarter': 1, 'Full Moon': 3, 'Last Quarter': 4})\n",
    "data['pop_lag'] = np.log(data['pop_lag'])\n",
    "data.head()"
   ]
  },
  {
   "cell_type": "code",
   "execution_count": 13,
   "metadata": {
    "collapsed": false
   },
   "outputs": [
    {
     "data": {
      "text/html": [
       "<div>\n",
       "<style>\n",
       "    .dataframe thead tr:only-child th {\n",
       "        text-align: right;\n",
       "    }\n",
       "\n",
       "    .dataframe thead th {\n",
       "        text-align: left;\n",
       "    }\n",
       "\n",
       "    .dataframe tbody tr th {\n",
       "        vertical-align: top;\n",
       "    }\n",
       "</style>\n",
       "<table border=\"1\" class=\"dataframe\">\n",
       "  <thead>\n",
       "    <tr style=\"text-align: right;\">\n",
       "      <th></th>\n",
       "      <th>Type</th>\n",
       "      <th>fatal</th>\n",
       "      <th>month</th>\n",
       "      <th>year</th>\n",
       "      <th>geo_country</th>\n",
       "      <th>phase</th>\n",
       "      <th>pop_lag</th>\n",
       "      <th>Boat</th>\n",
       "      <th>Boating</th>\n",
       "      <th>Provoked</th>\n",
       "      <th>Sea Disaster</th>\n",
       "      <th>Unprovoked</th>\n",
       "    </tr>\n",
       "  </thead>\n",
       "  <tbody>\n",
       "    <tr>\n",
       "      <th>0</th>\n",
       "      <td>Unprovoked</td>\n",
       "      <td>0.0</td>\n",
       "      <td>11</td>\n",
       "      <td>2017</td>\n",
       "      <td>Costa Rica</td>\n",
       "      <td>1</td>\n",
       "      <td>15.395988</td>\n",
       "      <td>0</td>\n",
       "      <td>0</td>\n",
       "      <td>0</td>\n",
       "      <td>0</td>\n",
       "      <td>1</td>\n",
       "    </tr>\n",
       "    <tr>\n",
       "      <th>1</th>\n",
       "      <td>Unprovoked</td>\n",
       "      <td>1.0</td>\n",
       "      <td>11</td>\n",
       "      <td>2017</td>\n",
       "      <td>Costa Rica</td>\n",
       "      <td>1</td>\n",
       "      <td>15.395988</td>\n",
       "      <td>0</td>\n",
       "      <td>0</td>\n",
       "      <td>0</td>\n",
       "      <td>0</td>\n",
       "      <td>1</td>\n",
       "    </tr>\n",
       "    <tr>\n",
       "      <th>2</th>\n",
       "      <td>Sea Disaster</td>\n",
       "      <td>1.0</td>\n",
       "      <td>11</td>\n",
       "      <td>2017</td>\n",
       "      <td>Libya</td>\n",
       "      <td>1</td>\n",
       "      <td>15.654989</td>\n",
       "      <td>0</td>\n",
       "      <td>0</td>\n",
       "      <td>0</td>\n",
       "      <td>1</td>\n",
       "      <td>0</td>\n",
       "    </tr>\n",
       "    <tr>\n",
       "      <th>3</th>\n",
       "      <td>Sea Disaster</td>\n",
       "      <td>1.0</td>\n",
       "      <td>2</td>\n",
       "      <td>2009</td>\n",
       "      <td>United States</td>\n",
       "      <td>3</td>\n",
       "      <td>19.532847</td>\n",
       "      <td>0</td>\n",
       "      <td>0</td>\n",
       "      <td>0</td>\n",
       "      <td>1</td>\n",
       "      <td>0</td>\n",
       "    </tr>\n",
       "    <tr>\n",
       "      <th>4</th>\n",
       "      <td>Unprovoked</td>\n",
       "      <td>0.0</td>\n",
       "      <td>8</td>\n",
       "      <td>2008</td>\n",
       "      <td>United States</td>\n",
       "      <td>3</td>\n",
       "      <td>19.523389</td>\n",
       "      <td>0</td>\n",
       "      <td>0</td>\n",
       "      <td>0</td>\n",
       "      <td>0</td>\n",
       "      <td>1</td>\n",
       "    </tr>\n",
       "  </tbody>\n",
       "</table>\n",
       "</div>"
      ],
      "text/plain": [
       "           Type  fatal  month  year    geo_country  phase    pop_lag  Boat  \\\n",
       "0    Unprovoked    0.0     11  2017     Costa Rica      1  15.395988     0   \n",
       "1    Unprovoked    1.0     11  2017     Costa Rica      1  15.395988     0   \n",
       "2  Sea Disaster    1.0     11  2017          Libya      1  15.654989     0   \n",
       "3  Sea Disaster    1.0      2  2009  United States      3  19.532847     0   \n",
       "4    Unprovoked    0.0      8  2008  United States      3  19.523389     0   \n",
       "\n",
       "   Boating  Provoked  Sea Disaster  Unprovoked  \n",
       "0        0         0             0           1  \n",
       "1        0         0             0           1  \n",
       "2        0         0             1           0  \n",
       "3        0         0             1           0  \n",
       "4        0         0             0           1  "
      ]
     },
     "execution_count": 13,
     "metadata": {},
     "output_type": "execute_result"
    }
   ],
   "source": [
    "type_dummies = pd.get_dummies(data['Type'])\n",
    "data = pd.concat([data, type_dummies], axis=1)\n",
    "data.head()"
   ]
  },
  {
   "cell_type": "code",
   "execution_count": 14,
   "metadata": {
    "collapsed": true
   },
   "outputs": [],
   "source": [
    "del data['Type']"
   ]
  },
  {
   "cell_type": "code",
   "execution_count": 15,
   "metadata": {
    "collapsed": false
   },
   "outputs": [
    {
     "data": {
      "text/html": [
       "<div>\n",
       "<style>\n",
       "    .dataframe thead tr:only-child th {\n",
       "        text-align: right;\n",
       "    }\n",
       "\n",
       "    .dataframe thead th {\n",
       "        text-align: left;\n",
       "    }\n",
       "\n",
       "    .dataframe tbody tr th {\n",
       "        vertical-align: top;\n",
       "    }\n",
       "</style>\n",
       "<table border=\"1\" class=\"dataframe\">\n",
       "  <thead>\n",
       "    <tr style=\"text-align: right;\">\n",
       "      <th></th>\n",
       "      <th>geo_country</th>\n",
       "      <th>year</th>\n",
       "      <th>month</th>\n",
       "      <th>pop_lag</th>\n",
       "      <th>fatal</th>\n",
       "      <th>Boat</th>\n",
       "      <th>Boating</th>\n",
       "      <th>Provoked</th>\n",
       "      <th>Sea Disaster</th>\n",
       "      <th>Unprovoked</th>\n",
       "      <th>attack</th>\n",
       "      <th>phase</th>\n",
       "    </tr>\n",
       "  </thead>\n",
       "  <tbody>\n",
       "    <tr>\n",
       "      <th>0</th>\n",
       "      <td>Aruba</td>\n",
       "      <td>2015</td>\n",
       "      <td>12</td>\n",
       "      <td>11.550173</td>\n",
       "      <td>1.0</td>\n",
       "      <td>0</td>\n",
       "      <td>0</td>\n",
       "      <td>0</td>\n",
       "      <td>0</td>\n",
       "      <td>1</td>\n",
       "      <td>1</td>\n",
       "      <td>1</td>\n",
       "    </tr>\n",
       "    <tr>\n",
       "      <th>2</th>\n",
       "      <td>Australia</td>\n",
       "      <td>2007</td>\n",
       "      <td>1</td>\n",
       "      <td>16.845543</td>\n",
       "      <td>0.0</td>\n",
       "      <td>0</td>\n",
       "      <td>0</td>\n",
       "      <td>0</td>\n",
       "      <td>0</td>\n",
       "      <td>2</td>\n",
       "      <td>2</td>\n",
       "      <td>4</td>\n",
       "    </tr>\n",
       "    <tr>\n",
       "      <th>3</th>\n",
       "      <td>Australia</td>\n",
       "      <td>2007</td>\n",
       "      <td>2</td>\n",
       "      <td>16.845543</td>\n",
       "      <td>0.0</td>\n",
       "      <td>0</td>\n",
       "      <td>0</td>\n",
       "      <td>0</td>\n",
       "      <td>0</td>\n",
       "      <td>1</td>\n",
       "      <td>1</td>\n",
       "      <td>3</td>\n",
       "    </tr>\n",
       "    <tr>\n",
       "      <th>5</th>\n",
       "      <td>Australia</td>\n",
       "      <td>2007</td>\n",
       "      <td>3</td>\n",
       "      <td>16.845543</td>\n",
       "      <td>0.0</td>\n",
       "      <td>0</td>\n",
       "      <td>0</td>\n",
       "      <td>0</td>\n",
       "      <td>0</td>\n",
       "      <td>2</td>\n",
       "      <td>2</td>\n",
       "      <td>4</td>\n",
       "    </tr>\n",
       "    <tr>\n",
       "      <th>7</th>\n",
       "      <td>Australia</td>\n",
       "      <td>2007</td>\n",
       "      <td>5</td>\n",
       "      <td>16.845543</td>\n",
       "      <td>0.0</td>\n",
       "      <td>0</td>\n",
       "      <td>0</td>\n",
       "      <td>0</td>\n",
       "      <td>0</td>\n",
       "      <td>2</td>\n",
       "      <td>2</td>\n",
       "      <td>0</td>\n",
       "    </tr>\n",
       "  </tbody>\n",
       "</table>\n",
       "</div>"
      ],
      "text/plain": [
       "  geo_country  year  month    pop_lag  fatal  Boat  Boating  Provoked  \\\n",
       "0       Aruba  2015     12  11.550173    1.0     0        0         0   \n",
       "2   Australia  2007      1  16.845543    0.0     0        0         0   \n",
       "3   Australia  2007      2  16.845543    0.0     0        0         0   \n",
       "5   Australia  2007      3  16.845543    0.0     0        0         0   \n",
       "7   Australia  2007      5  16.845543    0.0     0        0         0   \n",
       "\n",
       "   Sea Disaster  Unprovoked  attack  phase  \n",
       "0             0           1       1      1  \n",
       "2             0           2       2      4  \n",
       "3             0           1       1      3  \n",
       "5             0           2       2      4  \n",
       "7             0           2       2      0  "
      ]
     },
     "execution_count": 15,
     "metadata": {},
     "output_type": "execute_result"
    }
   ],
   "source": [
    "# to sum a total count of attacks\n",
    "data['attack'] = 1\n",
    "\n",
    "# create a country-year-month dataset to have all the times where a shark attack didn't happen, too.\n",
    "# pop_lag is the same in every month for each country-year\n",
    "cym = pd.DataFrame(data.groupby(('geo_country', 'year', 'month', 'pop_lag')).sum()) \n",
    "cym.reset_index(inplace=True)\n",
    "\n",
    "# sometimes a single month with have more than one phase, we'll keep the max phase\n",
    "del cym['phase']\n",
    "cym = cym.merge(data[['geo_country', 'year', 'month', 'phase']], on=['geo_country', 'year', 'month'], how='left')\n",
    "cym.drop_duplicates(subset=['geo_country', 'year', 'month'], keep='last', inplace=True)\n",
    "cym.head()"
   ]
  },
  {
   "cell_type": "code",
   "execution_count": 16,
   "metadata": {
    "collapsed": true
   },
   "outputs": [],
   "source": [
    "# fill in the empty years\n",
    "n_countries = cym['geo_country'].nunique()\n",
    "n_years = cym['year'].nunique()\n",
    "n_months = cym['month'].nunique()"
   ]
  },
  {
   "cell_type": "code",
   "execution_count": 17,
   "metadata": {
    "collapsed": false
   },
   "outputs": [],
   "source": [
    "countries = [c for country in list(cym['geo_country'].unique()) for c in [country]*(n_years*n_months)]\n",
    "years = [y for year in sorted(list(cym['year'].unique()))*n_countries for y in [year]*n_months]\n",
    "months = [m for m in sorted(list(cym['month'].unique()))*(n_countries*n_years)]"
   ]
  },
  {
   "cell_type": "code",
   "execution_count": 18,
   "metadata": {
    "collapsed": true
   },
   "outputs": [],
   "source": [
    "full_cym = pd.DataFrame(list(zip(countries, years, months)), columns=['geo_country', 'year', 'month'])"
   ]
  },
  {
   "cell_type": "code",
   "execution_count": 19,
   "metadata": {
    "collapsed": false
   },
   "outputs": [
    {
     "data": {
      "text/html": [
       "<div>\n",
       "<style>\n",
       "    .dataframe thead tr:only-child th {\n",
       "        text-align: right;\n",
       "    }\n",
       "\n",
       "    .dataframe thead th {\n",
       "        text-align: left;\n",
       "    }\n",
       "\n",
       "    .dataframe tbody tr th {\n",
       "        vertical-align: top;\n",
       "    }\n",
       "</style>\n",
       "<table border=\"1\" class=\"dataframe\">\n",
       "  <thead>\n",
       "    <tr style=\"text-align: right;\">\n",
       "      <th></th>\n",
       "      <th>geo_country</th>\n",
       "      <th>year</th>\n",
       "      <th>month</th>\n",
       "      <th>pop_lag</th>\n",
       "      <th>fatal</th>\n",
       "      <th>Boat</th>\n",
       "      <th>Boating</th>\n",
       "      <th>Provoked</th>\n",
       "      <th>Sea Disaster</th>\n",
       "      <th>Unprovoked</th>\n",
       "      <th>attack</th>\n",
       "      <th>phase</th>\n",
       "    </tr>\n",
       "  </thead>\n",
       "  <tbody>\n",
       "    <tr>\n",
       "      <th>0</th>\n",
       "      <td>Aruba</td>\n",
       "      <td>2007</td>\n",
       "      <td>1</td>\n",
       "      <td>NaN</td>\n",
       "      <td>NaN</td>\n",
       "      <td>NaN</td>\n",
       "      <td>NaN</td>\n",
       "      <td>NaN</td>\n",
       "      <td>NaN</td>\n",
       "      <td>NaN</td>\n",
       "      <td>NaN</td>\n",
       "      <td>NaN</td>\n",
       "    </tr>\n",
       "    <tr>\n",
       "      <th>1</th>\n",
       "      <td>Aruba</td>\n",
       "      <td>2007</td>\n",
       "      <td>2</td>\n",
       "      <td>NaN</td>\n",
       "      <td>NaN</td>\n",
       "      <td>NaN</td>\n",
       "      <td>NaN</td>\n",
       "      <td>NaN</td>\n",
       "      <td>NaN</td>\n",
       "      <td>NaN</td>\n",
       "      <td>NaN</td>\n",
       "      <td>NaN</td>\n",
       "    </tr>\n",
       "    <tr>\n",
       "      <th>2</th>\n",
       "      <td>Aruba</td>\n",
       "      <td>2007</td>\n",
       "      <td>3</td>\n",
       "      <td>NaN</td>\n",
       "      <td>NaN</td>\n",
       "      <td>NaN</td>\n",
       "      <td>NaN</td>\n",
       "      <td>NaN</td>\n",
       "      <td>NaN</td>\n",
       "      <td>NaN</td>\n",
       "      <td>NaN</td>\n",
       "      <td>NaN</td>\n",
       "    </tr>\n",
       "    <tr>\n",
       "      <th>3</th>\n",
       "      <td>Aruba</td>\n",
       "      <td>2007</td>\n",
       "      <td>4</td>\n",
       "      <td>NaN</td>\n",
       "      <td>NaN</td>\n",
       "      <td>NaN</td>\n",
       "      <td>NaN</td>\n",
       "      <td>NaN</td>\n",
       "      <td>NaN</td>\n",
       "      <td>NaN</td>\n",
       "      <td>NaN</td>\n",
       "      <td>NaN</td>\n",
       "    </tr>\n",
       "    <tr>\n",
       "      <th>4</th>\n",
       "      <td>Aruba</td>\n",
       "      <td>2007</td>\n",
       "      <td>5</td>\n",
       "      <td>NaN</td>\n",
       "      <td>NaN</td>\n",
       "      <td>NaN</td>\n",
       "      <td>NaN</td>\n",
       "      <td>NaN</td>\n",
       "      <td>NaN</td>\n",
       "      <td>NaN</td>\n",
       "      <td>NaN</td>\n",
       "      <td>NaN</td>\n",
       "    </tr>\n",
       "  </tbody>\n",
       "</table>\n",
       "</div>"
      ],
      "text/plain": [
       "  geo_country  year  month  pop_lag  fatal  Boat  Boating  Provoked  \\\n",
       "0       Aruba  2007      1      NaN    NaN   NaN      NaN       NaN   \n",
       "1       Aruba  2007      2      NaN    NaN   NaN      NaN       NaN   \n",
       "2       Aruba  2007      3      NaN    NaN   NaN      NaN       NaN   \n",
       "3       Aruba  2007      4      NaN    NaN   NaN      NaN       NaN   \n",
       "4       Aruba  2007      5      NaN    NaN   NaN      NaN       NaN   \n",
       "\n",
       "   Sea Disaster  Unprovoked  attack  phase  \n",
       "0           NaN         NaN     NaN    NaN  \n",
       "1           NaN         NaN     NaN    NaN  \n",
       "2           NaN         NaN     NaN    NaN  \n",
       "3           NaN         NaN     NaN    NaN  \n",
       "4           NaN         NaN     NaN    NaN  "
      ]
     },
     "execution_count": 19,
     "metadata": {},
     "output_type": "execute_result"
    }
   ],
   "source": [
    "full_cym = full_cym.merge(cym, on=['geo_country', 'year', 'month'], how='left')\n",
    "full_cym.head()"
   ]
  },
  {
   "cell_type": "code",
   "execution_count": 20,
   "metadata": {
    "collapsed": false
   },
   "outputs": [
    {
     "data": {
      "text/html": [
       "<div>\n",
       "<style>\n",
       "    .dataframe thead tr:only-child th {\n",
       "        text-align: right;\n",
       "    }\n",
       "\n",
       "    .dataframe thead th {\n",
       "        text-align: left;\n",
       "    }\n",
       "\n",
       "    .dataframe tbody tr th {\n",
       "        vertical-align: top;\n",
       "    }\n",
       "</style>\n",
       "<table border=\"1\" class=\"dataframe\">\n",
       "  <thead>\n",
       "    <tr style=\"text-align: right;\">\n",
       "      <th></th>\n",
       "      <th>geo_country</th>\n",
       "      <th>year</th>\n",
       "      <th>pop_lag</th>\n",
       "    </tr>\n",
       "  </thead>\n",
       "  <tbody>\n",
       "    <tr>\n",
       "      <th>0</th>\n",
       "      <td>Aruba</td>\n",
       "      <td>2007</td>\n",
       "      <td>NaN</td>\n",
       "    </tr>\n",
       "    <tr>\n",
       "      <th>1</th>\n",
       "      <td>Aruba</td>\n",
       "      <td>2008</td>\n",
       "      <td>NaN</td>\n",
       "    </tr>\n",
       "    <tr>\n",
       "      <th>2</th>\n",
       "      <td>Aruba</td>\n",
       "      <td>2009</td>\n",
       "      <td>NaN</td>\n",
       "    </tr>\n",
       "    <tr>\n",
       "      <th>3</th>\n",
       "      <td>Aruba</td>\n",
       "      <td>2010</td>\n",
       "      <td>NaN</td>\n",
       "    </tr>\n",
       "    <tr>\n",
       "      <th>4</th>\n",
       "      <td>Aruba</td>\n",
       "      <td>2011</td>\n",
       "      <td>NaN</td>\n",
       "    </tr>\n",
       "  </tbody>\n",
       "</table>\n",
       "</div>"
      ],
      "text/plain": [
       "  geo_country  year  pop_lag\n",
       "0       Aruba  2007      NaN\n",
       "1       Aruba  2008      NaN\n",
       "2       Aruba  2009      NaN\n",
       "3       Aruba  2010      NaN\n",
       "4       Aruba  2011      NaN"
      ]
     },
     "execution_count": 20,
     "metadata": {},
     "output_type": "execute_result"
    }
   ],
   "source": [
    "# linearly interpolate the population data\n",
    "int_pop = pd.DataFrame(full_cym.groupby(['geo_country', 'year'])['pop_lag'].mean()).reset_index()\n",
    "int_pop.head()"
   ]
  },
  {
   "cell_type": "code",
   "execution_count": 21,
   "metadata": {
    "collapsed": false
   },
   "outputs": [],
   "source": [
    "# https://pandas.pydata.org/pandas-docs/stable/generated/pandas.Series.interpolate.html\n",
    "int_pop = int_pop.groupby('geo_country').apply(lambda group: group.interpolate(method='linear', limit_direction='both', \n",
    "                                                                     limit=n_years))"
   ]
  },
  {
   "cell_type": "code",
   "execution_count": 22,
   "metadata": {
    "collapsed": false
   },
   "outputs": [
    {
     "data": {
      "text/html": [
       "<div>\n",
       "<style>\n",
       "    .dataframe thead tr:only-child th {\n",
       "        text-align: right;\n",
       "    }\n",
       "\n",
       "    .dataframe thead th {\n",
       "        text-align: left;\n",
       "    }\n",
       "\n",
       "    .dataframe tbody tr th {\n",
       "        vertical-align: top;\n",
       "    }\n",
       "</style>\n",
       "<table border=\"1\" class=\"dataframe\">\n",
       "  <thead>\n",
       "    <tr style=\"text-align: right;\">\n",
       "      <th></th>\n",
       "      <th>geo_country</th>\n",
       "      <th>year</th>\n",
       "      <th>month</th>\n",
       "      <th>pop_lag_x</th>\n",
       "      <th>fatal</th>\n",
       "      <th>Boat</th>\n",
       "      <th>Boating</th>\n",
       "      <th>Provoked</th>\n",
       "      <th>Sea Disaster</th>\n",
       "      <th>Unprovoked</th>\n",
       "      <th>attack</th>\n",
       "      <th>phase</th>\n",
       "      <th>pop_lag_y</th>\n",
       "    </tr>\n",
       "  </thead>\n",
       "  <tbody>\n",
       "    <tr>\n",
       "      <th>0</th>\n",
       "      <td>Aruba</td>\n",
       "      <td>2007</td>\n",
       "      <td>1</td>\n",
       "      <td>NaN</td>\n",
       "      <td>NaN</td>\n",
       "      <td>NaN</td>\n",
       "      <td>NaN</td>\n",
       "      <td>NaN</td>\n",
       "      <td>NaN</td>\n",
       "      <td>NaN</td>\n",
       "      <td>NaN</td>\n",
       "      <td>NaN</td>\n",
       "      <td>11.550173</td>\n",
       "    </tr>\n",
       "    <tr>\n",
       "      <th>1</th>\n",
       "      <td>Aruba</td>\n",
       "      <td>2007</td>\n",
       "      <td>2</td>\n",
       "      <td>NaN</td>\n",
       "      <td>NaN</td>\n",
       "      <td>NaN</td>\n",
       "      <td>NaN</td>\n",
       "      <td>NaN</td>\n",
       "      <td>NaN</td>\n",
       "      <td>NaN</td>\n",
       "      <td>NaN</td>\n",
       "      <td>NaN</td>\n",
       "      <td>11.550173</td>\n",
       "    </tr>\n",
       "    <tr>\n",
       "      <th>2</th>\n",
       "      <td>Aruba</td>\n",
       "      <td>2007</td>\n",
       "      <td>3</td>\n",
       "      <td>NaN</td>\n",
       "      <td>NaN</td>\n",
       "      <td>NaN</td>\n",
       "      <td>NaN</td>\n",
       "      <td>NaN</td>\n",
       "      <td>NaN</td>\n",
       "      <td>NaN</td>\n",
       "      <td>NaN</td>\n",
       "      <td>NaN</td>\n",
       "      <td>11.550173</td>\n",
       "    </tr>\n",
       "    <tr>\n",
       "      <th>3</th>\n",
       "      <td>Aruba</td>\n",
       "      <td>2007</td>\n",
       "      <td>4</td>\n",
       "      <td>NaN</td>\n",
       "      <td>NaN</td>\n",
       "      <td>NaN</td>\n",
       "      <td>NaN</td>\n",
       "      <td>NaN</td>\n",
       "      <td>NaN</td>\n",
       "      <td>NaN</td>\n",
       "      <td>NaN</td>\n",
       "      <td>NaN</td>\n",
       "      <td>11.550173</td>\n",
       "    </tr>\n",
       "    <tr>\n",
       "      <th>4</th>\n",
       "      <td>Aruba</td>\n",
       "      <td>2007</td>\n",
       "      <td>5</td>\n",
       "      <td>NaN</td>\n",
       "      <td>NaN</td>\n",
       "      <td>NaN</td>\n",
       "      <td>NaN</td>\n",
       "      <td>NaN</td>\n",
       "      <td>NaN</td>\n",
       "      <td>NaN</td>\n",
       "      <td>NaN</td>\n",
       "      <td>NaN</td>\n",
       "      <td>11.550173</td>\n",
       "    </tr>\n",
       "  </tbody>\n",
       "</table>\n",
       "</div>"
      ],
      "text/plain": [
       "  geo_country  year  month  pop_lag_x  fatal  Boat  Boating  Provoked  \\\n",
       "0       Aruba  2007      1        NaN    NaN   NaN      NaN       NaN   \n",
       "1       Aruba  2007      2        NaN    NaN   NaN      NaN       NaN   \n",
       "2       Aruba  2007      3        NaN    NaN   NaN      NaN       NaN   \n",
       "3       Aruba  2007      4        NaN    NaN   NaN      NaN       NaN   \n",
       "4       Aruba  2007      5        NaN    NaN   NaN      NaN       NaN   \n",
       "\n",
       "   Sea Disaster  Unprovoked  attack  phase  pop_lag_y  \n",
       "0           NaN         NaN     NaN    NaN  11.550173  \n",
       "1           NaN         NaN     NaN    NaN  11.550173  \n",
       "2           NaN         NaN     NaN    NaN  11.550173  \n",
       "3           NaN         NaN     NaN    NaN  11.550173  \n",
       "4           NaN         NaN     NaN    NaN  11.550173  "
      ]
     },
     "execution_count": 22,
     "metadata": {},
     "output_type": "execute_result"
    }
   ],
   "source": [
    "full_cym = full_cym.merge(int_pop, on=['geo_country', 'year'], how='left')\n",
    "full_cym.head()"
   ]
  },
  {
   "cell_type": "code",
   "execution_count": 23,
   "metadata": {
    "collapsed": false
   },
   "outputs": [
    {
     "name": "stdout",
     "output_type": "stream",
     "text": [
      "<class 'pandas.core.frame.DataFrame'>\n",
      "Int64Index: 8712 entries, 0 to 8711\n",
      "Data columns (total 12 columns):\n",
      "geo_country     8712 non-null object\n",
      "year            8712 non-null int64\n",
      "month           8712 non-null int64\n",
      "fatal           543 non-null float64\n",
      "Boat            544 non-null float64\n",
      "Boating         544 non-null float64\n",
      "Provoked        544 non-null float64\n",
      "Sea Disaster    544 non-null float64\n",
      "Unprovoked      544 non-null float64\n",
      "attack          544 non-null float64\n",
      "phase           544 non-null float64\n",
      "log_pop         8712 non-null float64\n",
      "dtypes: float64(9), int64(2), object(1)\n",
      "memory usage: 884.8+ KB\n"
     ]
    }
   ],
   "source": [
    "del full_cym['pop_lag_x']\n",
    "full_cym.rename(columns={'pop_lag_y': 'log_pop'}, inplace=True)\n",
    "full_cym.info()"
   ]
  },
  {
   "cell_type": "code",
   "execution_count": 24,
   "metadata": {
    "collapsed": true
   },
   "outputs": [],
   "source": [
    "# fill everything else with 0s, because there was nothing that country-year-month\n",
    "full_cym.fillna(0, inplace=True)"
   ]
  },
  {
   "cell_type": "code",
   "execution_count": 25,
   "metadata": {
    "collapsed": false
   },
   "outputs": [
    {
     "data": {
      "text/html": [
       "<div>\n",
       "<style>\n",
       "    .dataframe thead tr:only-child th {\n",
       "        text-align: right;\n",
       "    }\n",
       "\n",
       "    .dataframe thead th {\n",
       "        text-align: left;\n",
       "    }\n",
       "\n",
       "    .dataframe tbody tr th {\n",
       "        vertical-align: top;\n",
       "    }\n",
       "</style>\n",
       "<table border=\"1\" class=\"dataframe\">\n",
       "  <thead>\n",
       "    <tr style=\"text-align: right;\">\n",
       "      <th></th>\n",
       "      <th>geo_country</th>\n",
       "      <th>year</th>\n",
       "      <th>month</th>\n",
       "      <th>fatal</th>\n",
       "      <th>Boat</th>\n",
       "      <th>Boating</th>\n",
       "      <th>Provoked</th>\n",
       "      <th>Sea Disaster</th>\n",
       "      <th>Unprovoked</th>\n",
       "      <th>attack</th>\n",
       "      <th>phase</th>\n",
       "      <th>log_pop</th>\n",
       "    </tr>\n",
       "  </thead>\n",
       "  <tbody>\n",
       "    <tr>\n",
       "      <th>0</th>\n",
       "      <td>Aruba</td>\n",
       "      <td>2007</td>\n",
       "      <td>1</td>\n",
       "      <td>0.0</td>\n",
       "      <td>0.0</td>\n",
       "      <td>0.0</td>\n",
       "      <td>0.0</td>\n",
       "      <td>0.0</td>\n",
       "      <td>0.0</td>\n",
       "      <td>0.0</td>\n",
       "      <td>0.0</td>\n",
       "      <td>11.550173</td>\n",
       "    </tr>\n",
       "    <tr>\n",
       "      <th>1</th>\n",
       "      <td>Aruba</td>\n",
       "      <td>2007</td>\n",
       "      <td>2</td>\n",
       "      <td>0.0</td>\n",
       "      <td>0.0</td>\n",
       "      <td>0.0</td>\n",
       "      <td>0.0</td>\n",
       "      <td>0.0</td>\n",
       "      <td>0.0</td>\n",
       "      <td>0.0</td>\n",
       "      <td>0.0</td>\n",
       "      <td>11.550173</td>\n",
       "    </tr>\n",
       "    <tr>\n",
       "      <th>2</th>\n",
       "      <td>Aruba</td>\n",
       "      <td>2007</td>\n",
       "      <td>3</td>\n",
       "      <td>0.0</td>\n",
       "      <td>0.0</td>\n",
       "      <td>0.0</td>\n",
       "      <td>0.0</td>\n",
       "      <td>0.0</td>\n",
       "      <td>0.0</td>\n",
       "      <td>0.0</td>\n",
       "      <td>0.0</td>\n",
       "      <td>11.550173</td>\n",
       "    </tr>\n",
       "    <tr>\n",
       "      <th>3</th>\n",
       "      <td>Aruba</td>\n",
       "      <td>2007</td>\n",
       "      <td>4</td>\n",
       "      <td>0.0</td>\n",
       "      <td>0.0</td>\n",
       "      <td>0.0</td>\n",
       "      <td>0.0</td>\n",
       "      <td>0.0</td>\n",
       "      <td>0.0</td>\n",
       "      <td>0.0</td>\n",
       "      <td>0.0</td>\n",
       "      <td>11.550173</td>\n",
       "    </tr>\n",
       "    <tr>\n",
       "      <th>4</th>\n",
       "      <td>Aruba</td>\n",
       "      <td>2007</td>\n",
       "      <td>5</td>\n",
       "      <td>0.0</td>\n",
       "      <td>0.0</td>\n",
       "      <td>0.0</td>\n",
       "      <td>0.0</td>\n",
       "      <td>0.0</td>\n",
       "      <td>0.0</td>\n",
       "      <td>0.0</td>\n",
       "      <td>0.0</td>\n",
       "      <td>11.550173</td>\n",
       "    </tr>\n",
       "  </tbody>\n",
       "</table>\n",
       "</div>"
      ],
      "text/plain": [
       "  geo_country  year  month  fatal  Boat  Boating  Provoked  Sea Disaster  \\\n",
       "0       Aruba  2007      1    0.0   0.0      0.0       0.0           0.0   \n",
       "1       Aruba  2007      2    0.0   0.0      0.0       0.0           0.0   \n",
       "2       Aruba  2007      3    0.0   0.0      0.0       0.0           0.0   \n",
       "3       Aruba  2007      4    0.0   0.0      0.0       0.0           0.0   \n",
       "4       Aruba  2007      5    0.0   0.0      0.0       0.0           0.0   \n",
       "\n",
       "   Unprovoked  attack  phase    log_pop  \n",
       "0         0.0     0.0    0.0  11.550173  \n",
       "1         0.0     0.0    0.0  11.550173  \n",
       "2         0.0     0.0    0.0  11.550173  \n",
       "3         0.0     0.0    0.0  11.550173  \n",
       "4         0.0     0.0    0.0  11.550173  "
      ]
     },
     "execution_count": 25,
     "metadata": {},
     "output_type": "execute_result"
    }
   ],
   "source": [
    "full_cym.head()"
   ]
  },
  {
   "cell_type": "code",
   "execution_count": 26,
   "metadata": {
    "collapsed": false
   },
   "outputs": [
    {
     "data": {
      "text/html": [
       "<div>\n",
       "<style>\n",
       "    .dataframe thead tr:only-child th {\n",
       "        text-align: right;\n",
       "    }\n",
       "\n",
       "    .dataframe thead th {\n",
       "        text-align: left;\n",
       "    }\n",
       "\n",
       "    .dataframe tbody tr th {\n",
       "        vertical-align: top;\n",
       "    }\n",
       "</style>\n",
       "<table border=\"1\" class=\"dataframe\">\n",
       "  <thead>\n",
       "    <tr style=\"text-align: right;\">\n",
       "      <th></th>\n",
       "      <th>geo_country</th>\n",
       "      <th>year</th>\n",
       "      <th>month</th>\n",
       "      <th>fatal</th>\n",
       "      <th>Boat</th>\n",
       "      <th>Boating</th>\n",
       "      <th>Provoked</th>\n",
       "      <th>Sea Disaster</th>\n",
       "      <th>Unprovoked</th>\n",
       "      <th>attack</th>\n",
       "      <th>phase</th>\n",
       "      <th>log_pop</th>\n",
       "      <th>log_pop_cat</th>\n",
       "    </tr>\n",
       "  </thead>\n",
       "  <tbody>\n",
       "    <tr>\n",
       "      <th>0</th>\n",
       "      <td>Aruba</td>\n",
       "      <td>2007</td>\n",
       "      <td>1</td>\n",
       "      <td>0.0</td>\n",
       "      <td>0.0</td>\n",
       "      <td>0.0</td>\n",
       "      <td>0.0</td>\n",
       "      <td>0.0</td>\n",
       "      <td>0.0</td>\n",
       "      <td>0.0</td>\n",
       "      <td>0.0</td>\n",
       "      <td>11.550173</td>\n",
       "      <td>2</td>\n",
       "    </tr>\n",
       "    <tr>\n",
       "      <th>1</th>\n",
       "      <td>Aruba</td>\n",
       "      <td>2007</td>\n",
       "      <td>2</td>\n",
       "      <td>0.0</td>\n",
       "      <td>0.0</td>\n",
       "      <td>0.0</td>\n",
       "      <td>0.0</td>\n",
       "      <td>0.0</td>\n",
       "      <td>0.0</td>\n",
       "      <td>0.0</td>\n",
       "      <td>0.0</td>\n",
       "      <td>11.550173</td>\n",
       "      <td>2</td>\n",
       "    </tr>\n",
       "    <tr>\n",
       "      <th>2</th>\n",
       "      <td>Aruba</td>\n",
       "      <td>2007</td>\n",
       "      <td>3</td>\n",
       "      <td>0.0</td>\n",
       "      <td>0.0</td>\n",
       "      <td>0.0</td>\n",
       "      <td>0.0</td>\n",
       "      <td>0.0</td>\n",
       "      <td>0.0</td>\n",
       "      <td>0.0</td>\n",
       "      <td>0.0</td>\n",
       "      <td>11.550173</td>\n",
       "      <td>2</td>\n",
       "    </tr>\n",
       "    <tr>\n",
       "      <th>3</th>\n",
       "      <td>Aruba</td>\n",
       "      <td>2007</td>\n",
       "      <td>4</td>\n",
       "      <td>0.0</td>\n",
       "      <td>0.0</td>\n",
       "      <td>0.0</td>\n",
       "      <td>0.0</td>\n",
       "      <td>0.0</td>\n",
       "      <td>0.0</td>\n",
       "      <td>0.0</td>\n",
       "      <td>0.0</td>\n",
       "      <td>11.550173</td>\n",
       "      <td>2</td>\n",
       "    </tr>\n",
       "    <tr>\n",
       "      <th>4</th>\n",
       "      <td>Aruba</td>\n",
       "      <td>2007</td>\n",
       "      <td>5</td>\n",
       "      <td>0.0</td>\n",
       "      <td>0.0</td>\n",
       "      <td>0.0</td>\n",
       "      <td>0.0</td>\n",
       "      <td>0.0</td>\n",
       "      <td>0.0</td>\n",
       "      <td>0.0</td>\n",
       "      <td>0.0</td>\n",
       "      <td>11.550173</td>\n",
       "      <td>2</td>\n",
       "    </tr>\n",
       "  </tbody>\n",
       "</table>\n",
       "</div>"
      ],
      "text/plain": [
       "  geo_country  year  month  fatal  Boat  Boating  Provoked  Sea Disaster  \\\n",
       "0       Aruba  2007      1    0.0   0.0      0.0       0.0           0.0   \n",
       "1       Aruba  2007      2    0.0   0.0      0.0       0.0           0.0   \n",
       "2       Aruba  2007      3    0.0   0.0      0.0       0.0           0.0   \n",
       "3       Aruba  2007      4    0.0   0.0      0.0       0.0           0.0   \n",
       "4       Aruba  2007      5    0.0   0.0      0.0       0.0           0.0   \n",
       "\n",
       "   Unprovoked  attack  phase    log_pop log_pop_cat  \n",
       "0         0.0     0.0    0.0  11.550173           2  \n",
       "1         0.0     0.0    0.0  11.550173           2  \n",
       "2         0.0     0.0    0.0  11.550173           2  \n",
       "3         0.0     0.0    0.0  11.550173           2  \n",
       "4         0.0     0.0    0.0  11.550173           2  "
      ]
     },
     "execution_count": 26,
     "metadata": {},
     "output_type": "execute_result"
    }
   ],
   "source": [
    "# turn the log of population into a discrete variable for use in the Bayesian network\n",
    "full_cym['log_pop_cat'] = pd.cut(full_cym['log_pop'], 10, labels=range(10))\n",
    "full_cym.head()"
   ]
  },
  {
   "cell_type": "code",
   "execution_count": 27,
   "metadata": {
    "collapsed": false
   },
   "outputs": [
    {
     "data": {
      "text/plain": [
       "<matplotlib.axes._subplots.AxesSubplot at 0x11996c7f0>"
      ]
     },
     "execution_count": 27,
     "metadata": {},
     "output_type": "execute_result"
    },
    {
     "data": {
      "image/png": "[encoded data removed]",
      "text/plain": [
       "<matplotlib.figure.Figure at 0x119995390>"
      ]
     },
     "metadata": {},
     "output_type": "display_data"
    }
   ],
   "source": [
    "# do the bins look right? Yes they do.\n",
    "pop_cat = pd.DataFrame(full_cym.log_pop_cat.value_counts())\n",
    "pop_cat.reset_index(inplace=True)\n",
    "pop_cat.sort_values(by='index', inplace=True)\n",
    "pop_cat.plot(x='index', y='log_pop_cat', kind='bar', figsize=(5, 5))"
   ]
  },
  {
   "cell_type": "code",
   "execution_count": 28,
   "metadata": {
    "collapsed": false
   },
   "outputs": [
    {
     "data": {
      "text/html": [
       "<div>\n",
       "<style>\n",
       "    .dataframe thead tr:only-child th {\n",
       "        text-align: right;\n",
       "    }\n",
       "\n",
       "    .dataframe thead th {\n",
       "        text-align: left;\n",
       "    }\n",
       "\n",
       "    .dataframe tbody tr th {\n",
       "        vertical-align: top;\n",
       "    }\n",
       "</style>\n",
       "<table border=\"1\" class=\"dataframe\">\n",
       "  <thead>\n",
       "    <tr style=\"text-align: right;\">\n",
       "      <th></th>\n",
       "      <th>geo_country</th>\n",
       "      <th>year</th>\n",
       "      <th>month</th>\n",
       "      <th>fatal</th>\n",
       "      <th>Boat</th>\n",
       "      <th>Boating</th>\n",
       "      <th>Provoked</th>\n",
       "      <th>Sea Disaster</th>\n",
       "      <th>Unprovoked</th>\n",
       "      <th>attack</th>\n",
       "      <th>phase</th>\n",
       "      <th>log_pop_cat</th>\n",
       "    </tr>\n",
       "  </thead>\n",
       "  <tbody>\n",
       "    <tr>\n",
       "      <th>0</th>\n",
       "      <td>Aruba</td>\n",
       "      <td>2007</td>\n",
       "      <td>1</td>\n",
       "      <td>0.0</td>\n",
       "      <td>0.0</td>\n",
       "      <td>0.0</td>\n",
       "      <td>0.0</td>\n",
       "      <td>0.0</td>\n",
       "      <td>0.0</td>\n",
       "      <td>0.0</td>\n",
       "      <td>0.0</td>\n",
       "      <td>2</td>\n",
       "    </tr>\n",
       "    <tr>\n",
       "      <th>1</th>\n",
       "      <td>Aruba</td>\n",
       "      <td>2007</td>\n",
       "      <td>2</td>\n",
       "      <td>0.0</td>\n",
       "      <td>0.0</td>\n",
       "      <td>0.0</td>\n",
       "      <td>0.0</td>\n",
       "      <td>0.0</td>\n",
       "      <td>0.0</td>\n",
       "      <td>0.0</td>\n",
       "      <td>0.0</td>\n",
       "      <td>2</td>\n",
       "    </tr>\n",
       "    <tr>\n",
       "      <th>2</th>\n",
       "      <td>Aruba</td>\n",
       "      <td>2007</td>\n",
       "      <td>3</td>\n",
       "      <td>0.0</td>\n",
       "      <td>0.0</td>\n",
       "      <td>0.0</td>\n",
       "      <td>0.0</td>\n",
       "      <td>0.0</td>\n",
       "      <td>0.0</td>\n",
       "      <td>0.0</td>\n",
       "      <td>0.0</td>\n",
       "      <td>2</td>\n",
       "    </tr>\n",
       "    <tr>\n",
       "      <th>3</th>\n",
       "      <td>Aruba</td>\n",
       "      <td>2007</td>\n",
       "      <td>4</td>\n",
       "      <td>0.0</td>\n",
       "      <td>0.0</td>\n",
       "      <td>0.0</td>\n",
       "      <td>0.0</td>\n",
       "      <td>0.0</td>\n",
       "      <td>0.0</td>\n",
       "      <td>0.0</td>\n",
       "      <td>0.0</td>\n",
       "      <td>2</td>\n",
       "    </tr>\n",
       "    <tr>\n",
       "      <th>4</th>\n",
       "      <td>Aruba</td>\n",
       "      <td>2007</td>\n",
       "      <td>5</td>\n",
       "      <td>0.0</td>\n",
       "      <td>0.0</td>\n",
       "      <td>0.0</td>\n",
       "      <td>0.0</td>\n",
       "      <td>0.0</td>\n",
       "      <td>0.0</td>\n",
       "      <td>0.0</td>\n",
       "      <td>0.0</td>\n",
       "      <td>2</td>\n",
       "    </tr>\n",
       "  </tbody>\n",
       "</table>\n",
       "</div>"
      ],
      "text/plain": [
       "  geo_country  year  month  fatal  Boat  Boating  Provoked  Sea Disaster  \\\n",
       "0       Aruba  2007      1    0.0   0.0      0.0       0.0           0.0   \n",
       "1       Aruba  2007      2    0.0   0.0      0.0       0.0           0.0   \n",
       "2       Aruba  2007      3    0.0   0.0      0.0       0.0           0.0   \n",
       "3       Aruba  2007      4    0.0   0.0      0.0       0.0           0.0   \n",
       "4       Aruba  2007      5    0.0   0.0      0.0       0.0           0.0   \n",
       "\n",
       "   Unprovoked  attack  phase log_pop_cat  \n",
       "0         0.0     0.0    0.0           2  \n",
       "1         0.0     0.0    0.0           2  \n",
       "2         0.0     0.0    0.0           2  \n",
       "3         0.0     0.0    0.0           2  \n",
       "4         0.0     0.0    0.0           2  "
      ]
     },
     "execution_count": 28,
     "metadata": {},
     "output_type": "execute_result"
    }
   ],
   "source": [
    "del full_cym['log_pop']\n",
    "full_cym.head()"
   ]
  },
  {
   "cell_type": "code",
   "execution_count": 29,
   "metadata": {
    "collapsed": false
   },
   "outputs": [
    {
     "data": {
      "text/html": [
       "<div>\n",
       "<style>\n",
       "    .dataframe thead tr:only-child th {\n",
       "        text-align: right;\n",
       "    }\n",
       "\n",
       "    .dataframe thead th {\n",
       "        text-align: left;\n",
       "    }\n",
       "\n",
       "    .dataframe tbody tr th {\n",
       "        vertical-align: top;\n",
       "    }\n",
       "</style>\n",
       "<table border=\"1\" class=\"dataframe\">\n",
       "  <thead>\n",
       "    <tr style=\"text-align: right;\">\n",
       "      <th></th>\n",
       "      <th>year</th>\n",
       "      <th>month</th>\n",
       "      <th>fatal</th>\n",
       "      <th>Boat</th>\n",
       "      <th>Boating</th>\n",
       "      <th>Provoked</th>\n",
       "      <th>Sea Disaster</th>\n",
       "      <th>Unprovoked</th>\n",
       "      <th>attack</th>\n",
       "      <th>phase</th>\n",
       "    </tr>\n",
       "  </thead>\n",
       "  <tbody>\n",
       "    <tr>\n",
       "      <th>count</th>\n",
       "      <td>8712.000000</td>\n",
       "      <td>8712.000000</td>\n",
       "      <td>8712.000000</td>\n",
       "      <td>8712.000000</td>\n",
       "      <td>8712.000000</td>\n",
       "      <td>8712.000000</td>\n",
       "      <td>8712.000000</td>\n",
       "      <td>8712.000000</td>\n",
       "      <td>8712.000000</td>\n",
       "      <td>8712.000000</td>\n",
       "    </tr>\n",
       "    <tr>\n",
       "      <th>mean</th>\n",
       "      <td>2012.000000</td>\n",
       "      <td>6.500000</td>\n",
       "      <td>0.011134</td>\n",
       "      <td>0.001492</td>\n",
       "      <td>0.006543</td>\n",
       "      <td>0.012167</td>\n",
       "      <td>0.001148</td>\n",
       "      <td>0.116965</td>\n",
       "      <td>0.138315</td>\n",
       "      <td>0.129477</td>\n",
       "    </tr>\n",
       "    <tr>\n",
       "      <th>std</th>\n",
       "      <td>3.162459</td>\n",
       "      <td>3.452251</td>\n",
       "      <td>0.111306</td>\n",
       "      <td>0.041470</td>\n",
       "      <td>0.096207</td>\n",
       "      <td>0.120607</td>\n",
       "      <td>0.033862</td>\n",
       "      <td>0.698311</td>\n",
       "      <td>0.782539</td>\n",
       "      <td>0.638377</td>\n",
       "    </tr>\n",
       "    <tr>\n",
       "      <th>min</th>\n",
       "      <td>2007.000000</td>\n",
       "      <td>1.000000</td>\n",
       "      <td>0.000000</td>\n",
       "      <td>0.000000</td>\n",
       "      <td>0.000000</td>\n",
       "      <td>0.000000</td>\n",
       "      <td>0.000000</td>\n",
       "      <td>0.000000</td>\n",
       "      <td>0.000000</td>\n",
       "      <td>0.000000</td>\n",
       "    </tr>\n",
       "    <tr>\n",
       "      <th>25%</th>\n",
       "      <td>2009.000000</td>\n",
       "      <td>3.750000</td>\n",
       "      <td>0.000000</td>\n",
       "      <td>0.000000</td>\n",
       "      <td>0.000000</td>\n",
       "      <td>0.000000</td>\n",
       "      <td>0.000000</td>\n",
       "      <td>0.000000</td>\n",
       "      <td>0.000000</td>\n",
       "      <td>0.000000</td>\n",
       "    </tr>\n",
       "    <tr>\n",
       "      <th>50%</th>\n",
       "      <td>2012.000000</td>\n",
       "      <td>6.500000</td>\n",
       "      <td>0.000000</td>\n",
       "      <td>0.000000</td>\n",
       "      <td>0.000000</td>\n",
       "      <td>0.000000</td>\n",
       "      <td>0.000000</td>\n",
       "      <td>0.000000</td>\n",
       "      <td>0.000000</td>\n",
       "      <td>0.000000</td>\n",
       "    </tr>\n",
       "    <tr>\n",
       "      <th>75%</th>\n",
       "      <td>2015.000000</td>\n",
       "      <td>9.250000</td>\n",
       "      <td>0.000000</td>\n",
       "      <td>0.000000</td>\n",
       "      <td>0.000000</td>\n",
       "      <td>0.000000</td>\n",
       "      <td>0.000000</td>\n",
       "      <td>0.000000</td>\n",
       "      <td>0.000000</td>\n",
       "      <td>0.000000</td>\n",
       "    </tr>\n",
       "    <tr>\n",
       "      <th>max</th>\n",
       "      <td>2017.000000</td>\n",
       "      <td>12.000000</td>\n",
       "      <td>2.000000</td>\n",
       "      <td>2.000000</td>\n",
       "      <td>3.000000</td>\n",
       "      <td>2.000000</td>\n",
       "      <td>1.000000</td>\n",
       "      <td>13.000000</td>\n",
       "      <td>15.000000</td>\n",
       "      <td>4.000000</td>\n",
       "    </tr>\n",
       "  </tbody>\n",
       "</table>\n",
       "</div>"
      ],
      "text/plain": [
       "              year        month        fatal         Boat      Boating  \\\n",
       "count  8712.000000  8712.000000  8712.000000  8712.000000  8712.000000   \n",
       "mean   2012.000000     6.500000     0.011134     0.001492     0.006543   \n",
       "std       3.162459     3.452251     0.111306     0.041470     0.096207   \n",
       "min    2007.000000     1.000000     0.000000     0.000000     0.000000   \n",
       "25%    2009.000000     3.750000     0.000000     0.000000     0.000000   \n",
       "50%    2012.000000     6.500000     0.000000     0.000000     0.000000   \n",
       "75%    2015.000000     9.250000     0.000000     0.000000     0.000000   \n",
       "max    2017.000000    12.000000     2.000000     2.000000     3.000000   \n",
       "\n",
       "          Provoked  Sea Disaster   Unprovoked       attack        phase  \n",
       "count  8712.000000   8712.000000  8712.000000  8712.000000  8712.000000  \n",
       "mean      0.012167      0.001148     0.116965     0.138315     0.129477  \n",
       "std       0.120607      0.033862     0.698311     0.782539     0.638377  \n",
       "min       0.000000      0.000000     0.000000     0.000000     0.000000  \n",
       "25%       0.000000      0.000000     0.000000     0.000000     0.000000  \n",
       "50%       0.000000      0.000000     0.000000     0.000000     0.000000  \n",
       "75%       0.000000      0.000000     0.000000     0.000000     0.000000  \n",
       "max       2.000000      1.000000    13.000000    15.000000     4.000000  "
      ]
     },
     "execution_count": 29,
     "metadata": {},
     "output_type": "execute_result"
    }
   ],
   "source": [
    "full_cym.describe()"
   ]
  },
  {
   "cell_type": "markdown",
   "metadata": {},
   "source": [
    "<b>DAG (pattern) construction</b><br>\n",
    "Given the set of conditional independencies in a probability distribution, we try to find a DAG for which the Markov condition entails all and only those conditional independencies (test for conditional independence using the Chi-squared test).\n",
    "\n",
    "1. Construct an undirected skeleton - estimate_skeleton()\n",
    "2. Orient compelled edges to obtain partially directed acyclid graph (PDAG; I-equivalence class of DAGs) - skeleton_to_pdag()\n",
    "3. Extend DAG pattern to a DAG by conservatively orienting the remaining edges - pdag_to_dag()\n",
    "    - Completes a PDAG to a DAG, without adding v-structures, if such a completion exists.\n",
    "    - http://www.jmlr.org/papers/volume2/chickering02a/chickering02a.pdf\n",
    "\n",
    "Step 1 and 2 form the so-called PC algorithm (page 550). PDAGs are DirectedGraphs, that may contain both-way edges, to indicate that the orientation for the edge is not determined."
   ]
  },
  {
   "cell_type": "markdown",
   "metadata": {},
   "source": [
    "http://www.cs.technion.ac.il/~dang/books/Learning%20Bayesian%20Networks(Neapolitan,%20Richard).pdf"
   ]
  },
  {
   "cell_type": "code",
   "execution_count": 30,
   "metadata": {
    "collapsed": true
   },
   "outputs": [],
   "source": [
    "# construct the estimator"
   ]
  },
  {
   "cell_type": "code",
   "execution_count": 31,
   "metadata": {
    "collapsed": false,
    "scrolled": true
   },
   "outputs": [],
   "source": [
    "est = ConstraintBasedEstimator(full_cym)"
   ]
  },
  {
   "cell_type": "code",
   "execution_count": 32,
   "metadata": {
    "collapsed": false,
    "scrolled": true
   },
   "outputs": [
    {
     "name": "stdout",
     "output_type": "stream",
     "text": [
      "Undirected edges:  [('Provoked', 'attack'), ('geo_country', 'log_pop_cat'), ('Unprovoked', 'attack'), ('attack', 'phase')]\n",
      "PDAG edges:        [('Provoked', 'attack'), ('geo_country', 'log_pop_cat'), ('Unprovoked', 'attack'), ('attack', 'phase'), ('phase', 'attack'), ('log_pop_cat', 'geo_country')]\n",
      "DAG edges:         [('Provoked', 'attack'), ('Unprovoked', 'attack'), ('attack', 'phase'), ('log_pop_cat', 'geo_country')]\n"
     ]
    }
   ],
   "source": [
    "# learn the structure of the network\n",
    "skel, seperating_sets = est.estimate_skeleton(significance_level=0.01)\n",
    "print(\"Undirected edges: \", skel.edges())\n",
    "\n",
    "pdag = est.skeleton_to_pdag(skel, seperating_sets)\n",
    "print(\"PDAG edges:       \", pdag.edges())\n",
    "\n",
    "model = est.pdag_to_dag(pdag)\n",
    "print(\"DAG edges:        \", model.edges())"
   ]
  },
  {
   "cell_type": "code",
   "execution_count": 33,
   "metadata": {
    "collapsed": false
   },
   "outputs": [
    {
     "name": "stdout",
     "output_type": "stream",
     "text": [
      "8276\n",
      "436\n"
     ]
    }
   ],
   "source": [
    "# train the model to learn the conditional probability distributions\n",
    "train_data, test_data = train_test_split(full_cym, test_size=0.05, random_state=0)\n",
    "print(len(train_data))\n",
    "print(len(test_data))"
   ]
  },
  {
   "cell_type": "code",
   "execution_count": 34,
   "metadata": {
    "collapsed": false
   },
   "outputs": [
    {
     "name": "stdout",
     "output_type": "stream",
     "text": [
      "CPU times: user 140 ms, sys: 5.72 ms, total: 146 ms\n",
      "Wall time: 170 ms\n"
     ]
    },
    {
     "data": {
      "text/plain": [
       "[<TabularCPD representing P(Boat:3) at 0x119c79278>,\n",
       " <TabularCPD representing P(Boating:4) at 0x11996c978>,\n",
       " <TabularCPD representing P(Provoked:3) at 0x11d351748>,\n",
       " <TabularCPD representing P(Sea Disaster:2) at 0x11d351208>,\n",
       " <TabularCPD representing P(Unprovoked:13) at 0x11d3515c0>,\n",
       " <TabularCPD representing P(attack:15 | Provoked:3, Unprovoked:13) at 0x119c79c88>,\n",
       " <TabularCPD representing P(fatal:3) at 0x119c792e8>,\n",
       " <TabularCPD representing P(geo_country:66 | log_pop_cat:10) at 0x119c79a90>,\n",
       " <TabularCPD representing P(log_pop_cat:10) at 0x11d43d198>,\n",
       " <TabularCPD representing P(month:12) at 0x11d43ddd8>,\n",
       " <TabularCPD representing P(phase:4 | attack:15) at 0x11d43d668>,\n",
       " <TabularCPD representing P(year:11) at 0x11d43d320>]"
      ]
     },
     "execution_count": 34,
     "metadata": {},
     "output_type": "execute_result"
    }
   ],
   "source": [
    "# train the model and find the conditional probability distributions\n",
    "%time model.fit(train_data)\n",
    "model.get_cpds()"
   ]
  },
  {
   "cell_type": "code",
   "execution_count": 35,
   "metadata": {
    "collapsed": false
   },
   "outputs": [
    {
     "name": "stdout",
     "output_type": "stream",
     "text": [
      "CPU times: user 42 s, sys: 120 ms, total: 42.1 s\n",
      "Wall time: 42.4 s\n"
     ]
    }
   ],
   "source": [
    "# test the model by predicting number of attacks\n",
    "test_data_drop = test_data.drop('attack', axis=1)\n",
    "%time preds = model.predict(test_data_drop)"
   ]
  },
  {
   "cell_type": "code",
   "execution_count": 36,
   "metadata": {
    "collapsed": false
   },
   "outputs": [
    {
     "data": {
      "text/plain": [
       "attack    36.0\n",
       "dtype: float64"
      ]
     },
     "execution_count": 36,
     "metadata": {},
     "output_type": "execute_result"
    }
   ],
   "source": [
    "preds.sum()"
   ]
  },
  {
   "cell_type": "code",
   "execution_count": 38,
   "metadata": {
    "collapsed": false
   },
   "outputs": [
    {
     "name": "stdout",
     "output_type": "stream",
     "text": [
      "97.0 accuracy\n"
     ]
    }
   ],
   "source": [
    "test_data['predicted'] = preds\n",
    "agree = sum(test_data['attack']==test_data['predicted'])\n",
    "print('{} accuracy'.format(round(agree/len(test_data)*100), 3))"
   ]
  },
  {
   "cell_type": "code",
   "execution_count": 35,
   "metadata": {
    "collapsed": false
   },
   "outputs": [
    {
     "name": "stdout",
     "output_type": "stream",
     "text": [
      "Variable Elimination\n",
      "╒═══════════╤═══════════════╕\n",
      "│ attack    │   phi(attack) │\n",
      "╞═══════════╪═══════════════╡\n",
      "│ attack_0  │        0.9323 │\n",
      "├───────────┼───────────────┤\n",
      "│ attack_1  │        0.0446 │\n",
      "├───────────┼───────────────┤\n",
      "│ attack_2  │        0.0079 │\n",
      "├───────────┼───────────────┤\n",
      "│ attack_3  │        0.0049 │\n",
      "├───────────┼───────────────┤\n",
      "│ attack_4  │        0.0026 │\n",
      "├───────────┼───────────────┤\n",
      "│ attack_5  │        0.0021 │\n",
      "├───────────┼───────────────┤\n",
      "│ attack_6  │        0.0017 │\n",
      "├───────────┼───────────────┤\n",
      "│ attack_7  │        0.0011 │\n",
      "├───────────┼───────────────┤\n",
      "│ attack_8  │        0.0008 │\n",
      "├───────────┼───────────────┤\n",
      "│ attack_9  │        0.0003 │\n",
      "├───────────┼───────────────┤\n",
      "│ attack_10 │        0.0003 │\n",
      "├───────────┼───────────────┤\n",
      "│ attack_11 │        0.0001 │\n",
      "├───────────┼───────────────┤\n",
      "│ attack_12 │        0.0003 │\n",
      "├───────────┼───────────────┤\n",
      "│ attack_13 │        0.0009 │\n",
      "├───────────┼───────────────┤\n",
      "│ attack_14 │        0.0001 │\n",
      "╘═══════════╧═══════════════╛\n",
      "╒═══════════╤═══════════════╕\n",
      "│ attack    │   phi(attack) │\n",
      "╞═══════════╪═══════════════╡\n",
      "│ attack_0  │        0.9323 │\n",
      "├───────────┼───────────────┤\n",
      "│ attack_1  │        0.0446 │\n",
      "├───────────┼───────────────┤\n",
      "│ attack_2  │        0.0079 │\n",
      "├───────────┼───────────────┤\n",
      "│ attack_3  │        0.0049 │\n",
      "├───────────┼───────────────┤\n",
      "│ attack_4  │        0.0026 │\n",
      "├───────────┼───────────────┤\n",
      "│ attack_5  │        0.0021 │\n",
      "├───────────┼───────────────┤\n",
      "│ attack_6  │        0.0017 │\n",
      "├───────────┼───────────────┤\n",
      "│ attack_7  │        0.0011 │\n",
      "├───────────┼───────────────┤\n",
      "│ attack_8  │        0.0008 │\n",
      "├───────────┼───────────────┤\n",
      "│ attack_9  │        0.0003 │\n",
      "├───────────┼───────────────┤\n",
      "│ attack_10 │        0.0003 │\n",
      "├───────────┼───────────────┤\n",
      "│ attack_11 │        0.0001 │\n",
      "├───────────┼───────────────┤\n",
      "│ attack_12 │        0.0003 │\n",
      "├───────────┼───────────────┤\n",
      "│ attack_13 │        0.0009 │\n",
      "├───────────┼───────────────┤\n",
      "│ attack_14 │        0.0001 │\n",
      "╘═══════════╧═══════════════╛\n"
     ]
    }
   ],
   "source": [
    "# conduct inference on the model (prop of outcomes given evidence)\n",
    "print('Variable Elimination')\n",
    "ve = VariableElimination(model)\n",
    "# unconditional probability of attack\n",
    "print(ve.query(variables=['attack'])['attack'])\n",
    "\n",
    "# conditional probability of attack given 1 Sea Disaster\n",
    "print(ve.query(variables=['attack'], evidence={'Sea Disaster': 1})['attack'])"
   ]
  },
  {
   "cell_type": "code",
   "execution_count": 42,
   "metadata": {
    "collapsed": false
   },
   "outputs": [
    {
     "data": {
      "image/png": "[encoded data removed]",
      "text/plain": [
       "<matplotlib.figure.Figure at 0x119c5e630>"
      ]
     },
     "metadata": {},
     "output_type": "display_data"
    }
   ],
   "source": [
    "# graph the network\n",
    "import networkx as nx\n",
    "import matplotlib.pyplot as plt\n",
    "%matplotlib inline\n",
    "\n",
    "G = nx.DiGraph()\n",
    "G.add_edges_from(model.edges())\n",
    "\n",
    "pos = nx.spring_layout(G)\n",
    "nx.draw(G, pos)\n",
    "for k, v in pos.items():\n",
    "    pos[k][1] += 0.1\n",
    "nx.draw_networkx_labels(G, pos)\n",
    "\n",
    "plt.show()"
   ]
  },
  {
   "cell_type": "markdown",
   "metadata": {},
   "source": [
    "## Bayseian Network of Shark Attacks per Country-Year-Month"
   ]
  },
  {
   "cell_type": "code",
   "execution_count": 37,
   "metadata": {
    "collapsed": false
   },
   "outputs": [
    {
     "name": "stdout",
     "output_type": "stream",
     "text": [
      "╒═══════════╤═══════════════╕\n",
      "│ attack    │   phi(attack) │\n",
      "╞═══════════╪═══════════════╡\n",
      "│ attack_0  │        0.0000 │\n",
      "├───────────┼───────────────┤\n",
      "│ attack_1  │        0.9233 │\n",
      "├───────────┼───────────────┤\n",
      "│ attack_2  │        0.0535 │\n",
      "├───────────┼───────────────┤\n",
      "│ attack_3  │        0.0065 │\n",
      "├───────────┼───────────────┤\n",
      "│ attack_4  │        0.0069 │\n",
      "├───────────┼───────────────┤\n",
      "│ attack_5  │        0.0042 │\n",
      "├───────────┼───────────────┤\n",
      "│ attack_6  │        0.0014 │\n",
      "├───────────┼───────────────┤\n",
      "│ attack_7  │        0.0000 │\n",
      "├───────────┼───────────────┤\n",
      "│ attack_8  │        0.0023 │\n",
      "├───────────┼───────────────┤\n",
      "│ attack_9  │        0.0008 │\n",
      "├───────────┼───────────────┤\n",
      "│ attack_10 │        0.0003 │\n",
      "├───────────┼───────────────┤\n",
      "│ attack_11 │        0.0008 │\n",
      "├───────────┼───────────────┤\n",
      "│ attack_12 │        0.0000 │\n",
      "├───────────┼───────────────┤\n",
      "│ attack_13 │        0.0000 │\n",
      "├───────────┼───────────────┤\n",
      "│ attack_14 │        0.0000 │\n",
      "╘═══════════╧═══════════════╛\n"
     ]
    }
   ],
   "source": [
    "print(ve.query(variables=['attack'], evidence={'Provoked': 1})['attack'])"
   ]
  },
  {
   "cell_type": "code",
   "execution_count": 38,
   "metadata": {
    "collapsed": false
   },
   "outputs": [
    {
     "name": "stdout",
     "output_type": "stream",
     "text": [
      "╒════════════╤═════════════════╕\n",
      "│ Provoked   │   phi(Provoked) │\n",
      "╞════════════╪═════════════════╡\n",
      "│ Provoked_0 │          0.9890 │\n",
      "├────────────┼─────────────────┤\n",
      "│ Provoked_1 │          0.0098 │\n",
      "├────────────┼─────────────────┤\n",
      "│ Provoked_2 │          0.0012 │\n",
      "╘════════════╧═════════════════╛\n"
     ]
    }
   ],
   "source": [
    "# conditional probability of provoked attack, given an unprovoked attack\n",
    "print(ve.query(variables=['Provoked'], evidence={'Unprovoked': 1})['Provoked'])"
   ]
  },
  {
   "cell_type": "code",
   "execution_count": 39,
   "metadata": {
    "collapsed": false
   },
   "outputs": [
    {
     "name": "stdout",
     "output_type": "stream",
     "text": [
      "╒════════════╤═════════════════╕\n",
      "│ Provoked   │   phi(Provoked) │\n",
      "╞════════════╪═════════════════╡\n",
      "│ Provoked_0 │          0.9890 │\n",
      "├────────────┼─────────────────┤\n",
      "│ Provoked_1 │          0.0098 │\n",
      "├────────────┼─────────────────┤\n",
      "│ Provoked_2 │          0.0012 │\n",
      "╘════════════╧═════════════════╛\n"
     ]
    }
   ],
   "source": [
    "# compared to the straight probability for a prokoked attack, we see that when there was an unprovoked attack it is\n",
    "# also more likely that there was a provoked attack\n",
    "print(ve.query(variables=['Provoked'])['Provoked'])"
   ]
  },
  {
   "cell_type": "code",
   "execution_count": 45,
   "metadata": {
    "collapsed": false
   },
   "outputs": [
    {
     "data": {
      "text/plain": [
       "(array([10]),)"
      ]
     },
     "execution_count": 45,
     "metadata": {},
     "output_type": "execute_result"
    }
   ],
   "source": [
    "np.where(train_data['geo_country'].unique()=='United States')"
   ]
  },
  {
   "cell_type": "code",
   "execution_count": 51,
   "metadata": {
    "collapsed": false
   },
   "outputs": [
    {
     "name": "stdout",
     "output_type": "stream",
     "text": [
      "╒═══════════╤═══════════════╕\n",
      "│ attack    │   phi(attack) │\n",
      "╞═══════════╪═══════════════╡\n",
      "│ attack_0  │        0.9323 │\n",
      "├───────────┼───────────────┤\n",
      "│ attack_1  │        0.0446 │\n",
      "├───────────┼───────────────┤\n",
      "│ attack_2  │        0.0079 │\n",
      "├───────────┼───────────────┤\n",
      "│ attack_3  │        0.0049 │\n",
      "├───────────┼───────────────┤\n",
      "│ attack_4  │        0.0026 │\n",
      "├───────────┼───────────────┤\n",
      "│ attack_5  │        0.0021 │\n",
      "├───────────┼───────────────┤\n",
      "│ attack_6  │        0.0017 │\n",
      "├───────────┼───────────────┤\n",
      "│ attack_7  │        0.0011 │\n",
      "├───────────┼───────────────┤\n",
      "│ attack_8  │        0.0008 │\n",
      "├───────────┼───────────────┤\n",
      "│ attack_9  │        0.0003 │\n",
      "├───────────┼───────────────┤\n",
      "│ attack_10 │        0.0003 │\n",
      "├───────────┼───────────────┤\n",
      "│ attack_11 │        0.0001 │\n",
      "├───────────┼───────────────┤\n",
      "│ attack_12 │        0.0003 │\n",
      "├───────────┼───────────────┤\n",
      "│ attack_13 │        0.0009 │\n",
      "├───────────┼───────────────┤\n",
      "│ attack_14 │        0.0001 │\n",
      "╘═══════════╧═══════════════╛\n"
     ]
    }
   ],
   "source": [
    "# given that you're minding your own business, what happens to attacks\n",
    "print(ve.query(variables=['attack'], evidence={'geo_country': 10})['attack'])"
   ]
  },
  {
   "cell_type": "code",
   "execution_count": 41,
   "metadata": {
    "collapsed": false
   },
   "outputs": [
    {
     "name": "stdout",
     "output_type": "stream",
     "text": [
      "╒═══════════════╤═══════════════════╕\n",
      "│ Unprovoked    │   phi(Unprovoked) │\n",
      "╞═══════════════╪═══════════════════╡\n",
      "│ Unprovoked_0  │            0.9457 │\n",
      "├───────────────┼───────────────────┤\n",
      "│ Unprovoked_1  │            0.0337 │\n",
      "├───────────────┼───────────────────┤\n",
      "│ Unprovoked_2  │            0.0072 │\n",
      "├───────────────┼───────────────────┤\n",
      "│ Unprovoked_3  │            0.0048 │\n",
      "├───────────────┼───────────────────┤\n",
      "│ Unprovoked_4  │            0.0025 │\n",
      "├───────────────┼───────────────────┤\n",
      "│ Unprovoked_5  │            0.0013 │\n",
      "├───────────────┼───────────────────┤\n",
      "│ Unprovoked_6  │            0.0016 │\n",
      "├───────────────┼───────────────────┤\n",
      "│ Unprovoked_7  │            0.0007 │\n",
      "├───────────────┼───────────────────┤\n",
      "│ Unprovoked_8  │            0.0007 │\n",
      "├───────────────┼───────────────────┤\n",
      "│ Unprovoked_9  │            0.0005 │\n",
      "├───────────────┼───────────────────┤\n",
      "│ Unprovoked_10 │            0.0005 │\n",
      "├───────────────┼───────────────────┤\n",
      "│ Unprovoked_11 │            0.0002 │\n",
      "├───────────────┼───────────────────┤\n",
      "│ Unprovoked_12 │            0.0004 │\n",
      "╘═══════════════╧═══════════════════╛\n"
     ]
    }
   ],
   "source": [
    "print(ve.query(variables=['Unprovoked'])['Unprovoked'])"
   ]
  },
  {
   "cell_type": "code",
   "execution_count": null,
   "metadata": {
    "collapsed": true
   },
   "outputs": [],
   "source": []
  },
  {
   "cell_type": "code",
   "execution_count": null,
   "metadata": {
    "collapsed": true
   },
   "outputs": [],
   "source": []
  }
 ],
 "metadata": {
  "kernelspec": {
   "display_name": "Python [default]",
   "language": "python",
   "name": "python3"
  },
  "language_info": {
   "codemirror_mode": {
    "name": "ipython",
    "version": 3
   },
   "file_extension": ".py",
   "mimetype": "text/x-python",
   "name": "python",
   "nbconvert_exporter": "python",
   "pygments_lexer": "ipython3",
   "version": "3.5.2"
  }
 },
 "nbformat": 4,
 "nbformat_minor": 0
}
