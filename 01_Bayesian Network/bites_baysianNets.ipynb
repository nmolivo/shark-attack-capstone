{
 "cells": [
  {
   "cell_type": "markdown",
   "metadata": {},
   "source": [
    "<b>Bayesian Network:</b> A Bayesian Network consists of a directed graph and a conditional probability distribution associated with each of the random variables. A Bayesian network is used mostly when there is a causal relationship between the random variables.<br>\n",
    "<br>\n",
    "vs.<br>\n",
    "<br>\n",
    "<b>Markov Network:</b> A Markov Network consists of an undi- rected graph and a few Factors are associated with it. Unlike Conditional Probability Distributions, a Factor does not rep- resent the probabilities of variables in the network; instead it represents the compatibility between random variables that is how much a particular state of a random variable likely to agree with the another state of some other random variable."
   ]
  },
  {
   "cell_type": "markdown",
   "metadata": {},
   "source": [
    "A Bayesian Network consists of a directed graph where nodes represents random variables and edges represent the the relation between them. \n",
    "- It is parameterized using Conditional Probability Distributions (CPD). \n",
    "- Each random variable in a Bayesian Network has a CPD associated with it. \n",
    "- If a random varible has parents in the network then the CPD represents P(var|Parvar) i.e. the probability of that variable given its parents. \n",
    "- In the case, when the random variable has no parents it simply represents P(var) i.e. the probability of that variable."
   ]
  },
  {
   "cell_type": "markdown",
   "metadata": {},
   "source": [
    "https://conference.scipy.org/proceedings/scipy2015/pdfs/ankur_ankan.pdf"
   ]
  },
  {
   "cell_type": "code",
   "execution_count": 1,
   "metadata": {
    "collapsed": false
   },
   "outputs": [
    {
     "name": "stderr",
     "output_type": "stream",
     "text": [
      "/Users/nmolivo/anaconda/lib/python3.5/site-packages/sklearn/cross_validation.py:41: DeprecationWarning: This module was deprecated in version 0.18 in favor of the model_selection module into which all the refactored classes and functions are moved. Also note that the interface of the new CV iterators are different from that of this module. This module will be removed in 0.20.\n",
      "  \"This module will be removed in 0.20.\", DeprecationWarning)\n"
     ]
    }
   ],
   "source": [
    "import pandas as pd\n",
    "import numpy as np\n",
    "from pgmpy.estimators import ConstraintBasedEstimator\n",
    "from pgmpy.inference import VariableElimination\n",
    "from sklearn.cross_validation import train_test_split\n",
    "import networkx as nx\n",
    "import matplotlib.pyplot as plt\n",
    "import seaborn as sns\n",
    "%matplotlib inline\n",
    "\n",
    "import warnings\n",
    "warnings.filterwarnings(\"ignore\")"
   ]
  },
  {
   "cell_type": "code",
   "execution_count": 2,
   "metadata": {
    "collapsed": false
   },
   "outputs": [],
   "source": [
    "data = pd.read_csv('../assets/04_model_2_data.csv')"
   ]
  },
  {
   "cell_type": "code",
   "execution_count": 3,
   "metadata": {
    "collapsed": false
   },
   "outputs": [
    {
     "data": {
      "text/html": [
       "<div>\n",
       "<style>\n",
       "    .dataframe thead tr:only-child th {\n",
       "        text-align: right;\n",
       "    }\n",
       "\n",
       "    .dataframe thead th {\n",
       "        text-align: left;\n",
       "    }\n",
       "\n",
       "    .dataframe tbody tr th {\n",
       "        vertical-align: top;\n",
       "    }\n",
       "</style>\n",
       "<table border=\"1\" class=\"dataframe\">\n",
       "  <thead>\n",
       "    <tr style=\"text-align: right;\">\n",
       "      <th></th>\n",
       "      <th>Unnamed: 0</th>\n",
       "      <th>Fatal (Y/N)</th>\n",
       "      <th>ts_date</th>\n",
       "      <th>ts_year</th>\n",
       "      <th>geo_country</th>\n",
       "      <th>gmtoffset</th>\n",
       "      <th>phase</th>\n",
       "      <th>pop_lag</th>\n",
       "      <th>Boat</th>\n",
       "      <th>Boating</th>\n",
       "      <th>...</th>\n",
       "      <th>Disaster_act</th>\n",
       "      <th>Diving_act</th>\n",
       "      <th>Filming_act</th>\n",
       "      <th>Fishing_act</th>\n",
       "      <th>Handling_act</th>\n",
       "      <th>Rowing_act</th>\n",
       "      <th>Shallow Water_act</th>\n",
       "      <th>Spear Fishing_act</th>\n",
       "      <th>Surfing_act</th>\n",
       "      <th>Swimming_act</th>\n",
       "    </tr>\n",
       "  </thead>\n",
       "  <tbody>\n",
       "    <tr>\n",
       "      <th>0</th>\n",
       "      <td>0</td>\n",
       "      <td>0</td>\n",
       "      <td>11/30/17</td>\n",
       "      <td>2017</td>\n",
       "      <td>Costa Rica</td>\n",
       "      <td>-6</td>\n",
       "      <td>2</td>\n",
       "      <td>15.395988</td>\n",
       "      <td>0</td>\n",
       "      <td>0</td>\n",
       "      <td>...</td>\n",
       "      <td>0</td>\n",
       "      <td>1</td>\n",
       "      <td>0</td>\n",
       "      <td>0</td>\n",
       "      <td>0</td>\n",
       "      <td>0</td>\n",
       "      <td>0</td>\n",
       "      <td>0</td>\n",
       "      <td>0</td>\n",
       "      <td>0</td>\n",
       "    </tr>\n",
       "    <tr>\n",
       "      <th>1</th>\n",
       "      <td>1</td>\n",
       "      <td>1</td>\n",
       "      <td>11/30/17</td>\n",
       "      <td>2017</td>\n",
       "      <td>Costa Rica</td>\n",
       "      <td>-6</td>\n",
       "      <td>2</td>\n",
       "      <td>15.395988</td>\n",
       "      <td>0</td>\n",
       "      <td>0</td>\n",
       "      <td>...</td>\n",
       "      <td>0</td>\n",
       "      <td>1</td>\n",
       "      <td>0</td>\n",
       "      <td>0</td>\n",
       "      <td>0</td>\n",
       "      <td>0</td>\n",
       "      <td>0</td>\n",
       "      <td>0</td>\n",
       "      <td>0</td>\n",
       "      <td>0</td>\n",
       "    </tr>\n",
       "    <tr>\n",
       "      <th>2</th>\n",
       "      <td>2</td>\n",
       "      <td>1</td>\n",
       "      <td>11/25/17</td>\n",
       "      <td>2017</td>\n",
       "      <td>Libya</td>\n",
       "      <td>3</td>\n",
       "      <td>2</td>\n",
       "      <td>15.654989</td>\n",
       "      <td>0</td>\n",
       "      <td>0</td>\n",
       "      <td>...</td>\n",
       "      <td>1</td>\n",
       "      <td>0</td>\n",
       "      <td>0</td>\n",
       "      <td>0</td>\n",
       "      <td>0</td>\n",
       "      <td>0</td>\n",
       "      <td>0</td>\n",
       "      <td>0</td>\n",
       "      <td>0</td>\n",
       "      <td>0</td>\n",
       "    </tr>\n",
       "    <tr>\n",
       "      <th>3</th>\n",
       "      <td>3</td>\n",
       "      <td>1</td>\n",
       "      <td>2/8/09</td>\n",
       "      <td>2009</td>\n",
       "      <td>United States</td>\n",
       "      <td>-4</td>\n",
       "      <td>3</td>\n",
       "      <td>19.532847</td>\n",
       "      <td>0</td>\n",
       "      <td>0</td>\n",
       "      <td>...</td>\n",
       "      <td>1</td>\n",
       "      <td>0</td>\n",
       "      <td>0</td>\n",
       "      <td>0</td>\n",
       "      <td>0</td>\n",
       "      <td>0</td>\n",
       "      <td>0</td>\n",
       "      <td>0</td>\n",
       "      <td>0</td>\n",
       "      <td>0</td>\n",
       "    </tr>\n",
       "    <tr>\n",
       "      <th>4</th>\n",
       "      <td>4</td>\n",
       "      <td>0</td>\n",
       "      <td>8/16/08</td>\n",
       "      <td>2008</td>\n",
       "      <td>United States</td>\n",
       "      <td>-4</td>\n",
       "      <td>3</td>\n",
       "      <td>19.523389</td>\n",
       "      <td>0</td>\n",
       "      <td>0</td>\n",
       "      <td>...</td>\n",
       "      <td>0</td>\n",
       "      <td>0</td>\n",
       "      <td>0</td>\n",
       "      <td>0</td>\n",
       "      <td>0</td>\n",
       "      <td>0</td>\n",
       "      <td>0</td>\n",
       "      <td>0</td>\n",
       "      <td>0</td>\n",
       "      <td>1</td>\n",
       "    </tr>\n",
       "  </tbody>\n",
       "</table>\n",
       "<p>5 rows × 24 columns</p>\n",
       "</div>"
      ],
      "text/plain": [
       "   Unnamed: 0  Fatal (Y/N)   ts_date  ts_year    geo_country  gmtoffset  \\\n",
       "0           0            0  11/30/17     2017     Costa Rica         -6   \n",
       "1           1            1  11/30/17     2017     Costa Rica         -6   \n",
       "2           2            1  11/25/17     2017          Libya          3   \n",
       "3           3            1    2/8/09     2009  United States         -4   \n",
       "4           4            0   8/16/08     2008  United States         -4   \n",
       "\n",
       "   phase    pop_lag  Boat  Boating      ...       Disaster_act  Diving_act  \\\n",
       "0      2  15.395988     0        0      ...                  0           1   \n",
       "1      2  15.395988     0        0      ...                  0           1   \n",
       "2      2  15.654989     0        0      ...                  1           0   \n",
       "3      3  19.532847     0        0      ...                  1           0   \n",
       "4      3  19.523389     0        0      ...                  0           0   \n",
       "\n",
       "   Filming_act  Fishing_act  Handling_act  Rowing_act  Shallow Water_act  \\\n",
       "0            0            0             0           0                  0   \n",
       "1            0            0             0           0                  0   \n",
       "2            0            0             0           0                  0   \n",
       "3            0            0             0           0                  0   \n",
       "4            0            0             0           0                  0   \n",
       "\n",
       "   Spear Fishing_act  Surfing_act  Swimming_act  \n",
       "0                  0            0             0  \n",
       "1                  0            0             0  \n",
       "2                  0            0             0  \n",
       "3                  0            0             0  \n",
       "4                  0            0             1  \n",
       "\n",
       "[5 rows x 24 columns]"
      ]
     },
     "execution_count": 3,
     "metadata": {},
     "output_type": "execute_result"
    }
   ],
   "source": [
    "data.head()"
   ]
  },
  {
   "cell_type": "code",
   "execution_count": 4,
   "metadata": {
    "collapsed": false
   },
   "outputs": [
    {
     "data": {
      "text/plain": [
       "Index(['Unnamed: 0', 'Fatal (Y/N)', 'ts_date', 'ts_year', 'geo_country',\n",
       "       'gmtoffset', 'phase', 'pop_lag', 'Boat', 'Boating', 'Provoked',\n",
       "       'Sea Disaster', 'Unprovoked', 'Boating_act', 'Disaster_act',\n",
       "       'Diving_act', 'Filming_act', 'Fishing_act', 'Handling_act',\n",
       "       'Rowing_act', 'Shallow Water_act', 'Spear Fishing_act', 'Surfing_act',\n",
       "       'Swimming_act'],\n",
       "      dtype='object')"
      ]
     },
     "execution_count": 4,
     "metadata": {},
     "output_type": "execute_result"
    }
   ],
   "source": [
    "data.columns"
   ]
  },
  {
   "cell_type": "code",
   "execution_count": 5,
   "metadata": {
    "collapsed": false
   },
   "outputs": [
    {
     "name": "stdout",
     "output_type": "stream",
     "text": [
      "1227\n",
      "1210\n"
     ]
    }
   ],
   "source": [
    "data = data.drop(['Unnamed: 0','gmtoffset'], axis =1)\n",
    "\n",
    "print(len(data))\n",
    "data.dropna(inplace=True)\n",
    "print(len(data))"
   ]
  },
  {
   "cell_type": "code",
   "execution_count": 6,
   "metadata": {
    "collapsed": false
   },
   "outputs": [
    {
     "data": {
      "text/html": [
       "<div>\n",
       "<style>\n",
       "    .dataframe thead tr:only-child th {\n",
       "        text-align: right;\n",
       "    }\n",
       "\n",
       "    .dataframe thead th {\n",
       "        text-align: left;\n",
       "    }\n",
       "\n",
       "    .dataframe tbody tr th {\n",
       "        vertical-align: top;\n",
       "    }\n",
       "</style>\n",
       "<table border=\"1\" class=\"dataframe\">\n",
       "  <thead>\n",
       "    <tr style=\"text-align: right;\">\n",
       "      <th></th>\n",
       "      <th>fatal</th>\n",
       "      <th>month</th>\n",
       "      <th>year</th>\n",
       "      <th>geo_country</th>\n",
       "      <th>phase</th>\n",
       "      <th>pop_lag</th>\n",
       "      <th>Boat</th>\n",
       "      <th>Boating</th>\n",
       "      <th>Provoked</th>\n",
       "      <th>Sea Disaster</th>\n",
       "      <th>...</th>\n",
       "      <th>Disaster_act</th>\n",
       "      <th>Diving_act</th>\n",
       "      <th>Filming_act</th>\n",
       "      <th>Fishing_act</th>\n",
       "      <th>Handling_act</th>\n",
       "      <th>Rowing_act</th>\n",
       "      <th>Shallow Water_act</th>\n",
       "      <th>Spear Fishing_act</th>\n",
       "      <th>Surfing_act</th>\n",
       "      <th>Swimming_act</th>\n",
       "    </tr>\n",
       "  </thead>\n",
       "  <tbody>\n",
       "    <tr>\n",
       "      <th>0</th>\n",
       "      <td>0</td>\n",
       "      <td>11</td>\n",
       "      <td>2017</td>\n",
       "      <td>Costa Rica</td>\n",
       "      <td>2</td>\n",
       "      <td>15.395988</td>\n",
       "      <td>0</td>\n",
       "      <td>0</td>\n",
       "      <td>0</td>\n",
       "      <td>0</td>\n",
       "      <td>...</td>\n",
       "      <td>0</td>\n",
       "      <td>1</td>\n",
       "      <td>0</td>\n",
       "      <td>0</td>\n",
       "      <td>0</td>\n",
       "      <td>0</td>\n",
       "      <td>0</td>\n",
       "      <td>0</td>\n",
       "      <td>0</td>\n",
       "      <td>0</td>\n",
       "    </tr>\n",
       "    <tr>\n",
       "      <th>1</th>\n",
       "      <td>1</td>\n",
       "      <td>11</td>\n",
       "      <td>2017</td>\n",
       "      <td>Costa Rica</td>\n",
       "      <td>2</td>\n",
       "      <td>15.395988</td>\n",
       "      <td>0</td>\n",
       "      <td>0</td>\n",
       "      <td>0</td>\n",
       "      <td>0</td>\n",
       "      <td>...</td>\n",
       "      <td>0</td>\n",
       "      <td>1</td>\n",
       "      <td>0</td>\n",
       "      <td>0</td>\n",
       "      <td>0</td>\n",
       "      <td>0</td>\n",
       "      <td>0</td>\n",
       "      <td>0</td>\n",
       "      <td>0</td>\n",
       "      <td>0</td>\n",
       "    </tr>\n",
       "    <tr>\n",
       "      <th>2</th>\n",
       "      <td>1</td>\n",
       "      <td>11</td>\n",
       "      <td>2017</td>\n",
       "      <td>Libya</td>\n",
       "      <td>2</td>\n",
       "      <td>15.654989</td>\n",
       "      <td>0</td>\n",
       "      <td>0</td>\n",
       "      <td>0</td>\n",
       "      <td>1</td>\n",
       "      <td>...</td>\n",
       "      <td>1</td>\n",
       "      <td>0</td>\n",
       "      <td>0</td>\n",
       "      <td>0</td>\n",
       "      <td>0</td>\n",
       "      <td>0</td>\n",
       "      <td>0</td>\n",
       "      <td>0</td>\n",
       "      <td>0</td>\n",
       "      <td>0</td>\n",
       "    </tr>\n",
       "    <tr>\n",
       "      <th>3</th>\n",
       "      <td>1</td>\n",
       "      <td>2</td>\n",
       "      <td>2009</td>\n",
       "      <td>United States</td>\n",
       "      <td>3</td>\n",
       "      <td>19.532847</td>\n",
       "      <td>0</td>\n",
       "      <td>0</td>\n",
       "      <td>0</td>\n",
       "      <td>1</td>\n",
       "      <td>...</td>\n",
       "      <td>1</td>\n",
       "      <td>0</td>\n",
       "      <td>0</td>\n",
       "      <td>0</td>\n",
       "      <td>0</td>\n",
       "      <td>0</td>\n",
       "      <td>0</td>\n",
       "      <td>0</td>\n",
       "      <td>0</td>\n",
       "      <td>0</td>\n",
       "    </tr>\n",
       "    <tr>\n",
       "      <th>4</th>\n",
       "      <td>0</td>\n",
       "      <td>8</td>\n",
       "      <td>2008</td>\n",
       "      <td>United States</td>\n",
       "      <td>3</td>\n",
       "      <td>19.523389</td>\n",
       "      <td>0</td>\n",
       "      <td>0</td>\n",
       "      <td>0</td>\n",
       "      <td>0</td>\n",
       "      <td>...</td>\n",
       "      <td>0</td>\n",
       "      <td>0</td>\n",
       "      <td>0</td>\n",
       "      <td>0</td>\n",
       "      <td>0</td>\n",
       "      <td>0</td>\n",
       "      <td>0</td>\n",
       "      <td>0</td>\n",
       "      <td>0</td>\n",
       "      <td>1</td>\n",
       "    </tr>\n",
       "  </tbody>\n",
       "</table>\n",
       "<p>5 rows × 22 columns</p>\n",
       "</div>"
      ],
      "text/plain": [
       "   fatal  month  year    geo_country  phase    pop_lag  Boat  Boating  \\\n",
       "0      0     11  2017     Costa Rica      2  15.395988     0        0   \n",
       "1      1     11  2017     Costa Rica      2  15.395988     0        0   \n",
       "2      1     11  2017          Libya      2  15.654989     0        0   \n",
       "3      1      2  2009  United States      3  19.532847     0        0   \n",
       "4      0      8  2008  United States      3  19.523389     0        0   \n",
       "\n",
       "   Provoked  Sea Disaster      ...       Disaster_act  Diving_act  \\\n",
       "0         0             0      ...                  0           1   \n",
       "1         0             0      ...                  0           1   \n",
       "2         0             1      ...                  1           0   \n",
       "3         0             1      ...                  1           0   \n",
       "4         0             0      ...                  0           0   \n",
       "\n",
       "   Filming_act  Fishing_act  Handling_act  Rowing_act  Shallow Water_act  \\\n",
       "0            0            0             0           0                  0   \n",
       "1            0            0             0           0                  0   \n",
       "2            0            0             0           0                  0   \n",
       "3            0            0             0           0                  0   \n",
       "4            0            0             0           0                  0   \n",
       "\n",
       "   Spear Fishing_act  Surfing_act  Swimming_act  \n",
       "0                  0            0             0  \n",
       "1                  0            0             0  \n",
       "2                  0            0             0  \n",
       "3                  0            0             0  \n",
       "4                  0            0             1  \n",
       "\n",
       "[5 rows x 22 columns]"
      ]
     },
     "execution_count": 6,
     "metadata": {},
     "output_type": "execute_result"
    }
   ],
   "source": [
    "data.rename(columns={\"Fatal (Y/N)\": 'fatal', \"ts_date\": 'month', \"ts_year\": 'year'}, inplace=True)\n",
    "data['month'] = data['month'].apply(lambda x: int(str(x).split('/')[0]))\n",
    "data.head()"
   ]
  },
  {
   "cell_type": "code",
   "execution_count": 7,
   "metadata": {
    "collapsed": false
   },
   "outputs": [
    {
     "data": {
      "text/html": [
       "<div>\n",
       "<style>\n",
       "    .dataframe thead tr:only-child th {\n",
       "        text-align: right;\n",
       "    }\n",
       "\n",
       "    .dataframe thead th {\n",
       "        text-align: left;\n",
       "    }\n",
       "\n",
       "    .dataframe tbody tr th {\n",
       "        vertical-align: top;\n",
       "    }\n",
       "</style>\n",
       "<table border=\"1\" class=\"dataframe\">\n",
       "  <thead>\n",
       "    <tr style=\"text-align: right;\">\n",
       "      <th></th>\n",
       "      <th>geo_country</th>\n",
       "      <th>year</th>\n",
       "      <th>month</th>\n",
       "      <th>pop_lag</th>\n",
       "      <th>fatal</th>\n",
       "      <th>Boat</th>\n",
       "      <th>Boating</th>\n",
       "      <th>Provoked</th>\n",
       "      <th>Sea Disaster</th>\n",
       "      <th>Unprovoked</th>\n",
       "      <th>...</th>\n",
       "      <th>Filming_act</th>\n",
       "      <th>Fishing_act</th>\n",
       "      <th>Handling_act</th>\n",
       "      <th>Rowing_act</th>\n",
       "      <th>Shallow Water_act</th>\n",
       "      <th>Spear Fishing_act</th>\n",
       "      <th>Surfing_act</th>\n",
       "      <th>Swimming_act</th>\n",
       "      <th>attack</th>\n",
       "      <th>phase</th>\n",
       "    </tr>\n",
       "  </thead>\n",
       "  <tbody>\n",
       "    <tr>\n",
       "      <th>0</th>\n",
       "      <td>Aruba</td>\n",
       "      <td>2015</td>\n",
       "      <td>12</td>\n",
       "      <td>11.550173</td>\n",
       "      <td>1</td>\n",
       "      <td>0</td>\n",
       "      <td>0</td>\n",
       "      <td>0</td>\n",
       "      <td>0</td>\n",
       "      <td>1</td>\n",
       "      <td>...</td>\n",
       "      <td>0</td>\n",
       "      <td>0</td>\n",
       "      <td>0</td>\n",
       "      <td>0</td>\n",
       "      <td>0</td>\n",
       "      <td>0</td>\n",
       "      <td>0</td>\n",
       "      <td>0</td>\n",
       "      <td>1</td>\n",
       "      <td>2</td>\n",
       "    </tr>\n",
       "    <tr>\n",
       "      <th>2</th>\n",
       "      <td>Australia</td>\n",
       "      <td>2007</td>\n",
       "      <td>1</td>\n",
       "      <td>16.845543</td>\n",
       "      <td>0</td>\n",
       "      <td>0</td>\n",
       "      <td>0</td>\n",
       "      <td>0</td>\n",
       "      <td>0</td>\n",
       "      <td>2</td>\n",
       "      <td>...</td>\n",
       "      <td>0</td>\n",
       "      <td>0</td>\n",
       "      <td>0</td>\n",
       "      <td>0</td>\n",
       "      <td>0</td>\n",
       "      <td>0</td>\n",
       "      <td>1</td>\n",
       "      <td>0</td>\n",
       "      <td>2</td>\n",
       "      <td>4</td>\n",
       "    </tr>\n",
       "    <tr>\n",
       "      <th>3</th>\n",
       "      <td>Australia</td>\n",
       "      <td>2007</td>\n",
       "      <td>2</td>\n",
       "      <td>16.845543</td>\n",
       "      <td>0</td>\n",
       "      <td>0</td>\n",
       "      <td>0</td>\n",
       "      <td>0</td>\n",
       "      <td>0</td>\n",
       "      <td>1</td>\n",
       "      <td>...</td>\n",
       "      <td>0</td>\n",
       "      <td>0</td>\n",
       "      <td>0</td>\n",
       "      <td>0</td>\n",
       "      <td>0</td>\n",
       "      <td>0</td>\n",
       "      <td>0</td>\n",
       "      <td>0</td>\n",
       "      <td>1</td>\n",
       "      <td>3</td>\n",
       "    </tr>\n",
       "    <tr>\n",
       "      <th>5</th>\n",
       "      <td>Australia</td>\n",
       "      <td>2007</td>\n",
       "      <td>3</td>\n",
       "      <td>16.845543</td>\n",
       "      <td>0</td>\n",
       "      <td>0</td>\n",
       "      <td>0</td>\n",
       "      <td>0</td>\n",
       "      <td>0</td>\n",
       "      <td>2</td>\n",
       "      <td>...</td>\n",
       "      <td>0</td>\n",
       "      <td>0</td>\n",
       "      <td>0</td>\n",
       "      <td>0</td>\n",
       "      <td>0</td>\n",
       "      <td>0</td>\n",
       "      <td>1</td>\n",
       "      <td>1</td>\n",
       "      <td>2</td>\n",
       "      <td>4</td>\n",
       "    </tr>\n",
       "    <tr>\n",
       "      <th>7</th>\n",
       "      <td>Australia</td>\n",
       "      <td>2007</td>\n",
       "      <td>5</td>\n",
       "      <td>16.845543</td>\n",
       "      <td>0</td>\n",
       "      <td>0</td>\n",
       "      <td>0</td>\n",
       "      <td>0</td>\n",
       "      <td>0</td>\n",
       "      <td>2</td>\n",
       "      <td>...</td>\n",
       "      <td>0</td>\n",
       "      <td>0</td>\n",
       "      <td>0</td>\n",
       "      <td>0</td>\n",
       "      <td>1</td>\n",
       "      <td>0</td>\n",
       "      <td>1</td>\n",
       "      <td>0</td>\n",
       "      <td>2</td>\n",
       "      <td>1</td>\n",
       "    </tr>\n",
       "  </tbody>\n",
       "</table>\n",
       "<p>5 rows × 23 columns</p>\n",
       "</div>"
      ],
      "text/plain": [
       "  geo_country  year  month    pop_lag  fatal  Boat  Boating  Provoked  \\\n",
       "0       Aruba  2015     12  11.550173      1     0        0         0   \n",
       "2   Australia  2007      1  16.845543      0     0        0         0   \n",
       "3   Australia  2007      2  16.845543      0     0        0         0   \n",
       "5   Australia  2007      3  16.845543      0     0        0         0   \n",
       "7   Australia  2007      5  16.845543      0     0        0         0   \n",
       "\n",
       "   Sea Disaster  Unprovoked  ...    Filming_act  Fishing_act  Handling_act  \\\n",
       "0             0           1  ...              0            0             0   \n",
       "2             0           2  ...              0            0             0   \n",
       "3             0           1  ...              0            0             0   \n",
       "5             0           2  ...              0            0             0   \n",
       "7             0           2  ...              0            0             0   \n",
       "\n",
       "   Rowing_act  Shallow Water_act  Spear Fishing_act  Surfing_act  \\\n",
       "0           0                  0                  0            0   \n",
       "2           0                  0                  0            1   \n",
       "3           0                  0                  0            0   \n",
       "5           0                  0                  0            1   \n",
       "7           0                  1                  0            1   \n",
       "\n",
       "   Swimming_act  attack  phase  \n",
       "0             0       1      2  \n",
       "2             0       2      4  \n",
       "3             0       1      3  \n",
       "5             1       2      4  \n",
       "7             0       2      1  \n",
       "\n",
       "[5 rows x 23 columns]"
      ]
     },
     "execution_count": 7,
     "metadata": {},
     "output_type": "execute_result"
    }
   ],
   "source": [
    "# to sum a total count of attacks\n",
    "data['attack'] = 1\n",
    "\n",
    "# create a country-year-month dataset to have all the times where a shark attack didn't happen, too.\n",
    "# pop_lag is the same in every month for each country-year\n",
    "cym = pd.DataFrame(data.groupby(('geo_country', 'year', 'month', 'pop_lag')).sum()) \n",
    "cym.reset_index(inplace=True)\n",
    "\n",
    "# sometimes a single month will have more than one phase, we'll keep the max phase\n",
    "del cym['phase']\n",
    "cym = cym.merge(data[['geo_country', 'year', 'month', 'phase']], on=['geo_country', 'year', 'month'], how='left')\n",
    "cym.drop_duplicates(subset=['geo_country', 'year', 'month'], keep='last', inplace=True)\n",
    "cym.head()"
   ]
  },
  {
   "cell_type": "code",
   "execution_count": 8,
   "metadata": {
    "collapsed": true
   },
   "outputs": [],
   "source": [
    "# fill in the empty years\n",
    "n_countries = cym['geo_country'].nunique()\n",
    "n_years = cym['year'].nunique()\n",
    "n_months = cym['month'].nunique()"
   ]
  },
  {
   "cell_type": "code",
   "execution_count": 9,
   "metadata": {
    "collapsed": false
   },
   "outputs": [],
   "source": [
    "countries = [c for country in list(cym['geo_country'].unique()) for c in [country]*(n_years*n_months)]\n",
    "years = [y for year in sorted(list(cym['year'].unique()))*n_countries for y in [year]*n_months]\n",
    "months = [m for m in sorted(list(cym['month'].unique()))*(n_countries*n_years)]"
   ]
  },
  {
   "cell_type": "code",
   "execution_count": 10,
   "metadata": {
    "collapsed": true
   },
   "outputs": [],
   "source": [
    "full_cym = pd.DataFrame(list(zip(countries, years, months)), columns=['geo_country', 'year', 'month'])"
   ]
  },
  {
   "cell_type": "code",
   "execution_count": 11,
   "metadata": {
    "collapsed": false
   },
   "outputs": [
    {
     "data": {
      "text/html": [
       "<div>\n",
       "<style>\n",
       "    .dataframe thead tr:only-child th {\n",
       "        text-align: right;\n",
       "    }\n",
       "\n",
       "    .dataframe thead th {\n",
       "        text-align: left;\n",
       "    }\n",
       "\n",
       "    .dataframe tbody tr th {\n",
       "        vertical-align: top;\n",
       "    }\n",
       "</style>\n",
       "<table border=\"1\" class=\"dataframe\">\n",
       "  <thead>\n",
       "    <tr style=\"text-align: right;\">\n",
       "      <th></th>\n",
       "      <th>geo_country</th>\n",
       "      <th>year</th>\n",
       "      <th>month</th>\n",
       "      <th>pop_lag</th>\n",
       "      <th>fatal</th>\n",
       "      <th>Boat</th>\n",
       "      <th>Boating</th>\n",
       "      <th>Provoked</th>\n",
       "      <th>Sea Disaster</th>\n",
       "      <th>Unprovoked</th>\n",
       "      <th>...</th>\n",
       "      <th>Filming_act</th>\n",
       "      <th>Fishing_act</th>\n",
       "      <th>Handling_act</th>\n",
       "      <th>Rowing_act</th>\n",
       "      <th>Shallow Water_act</th>\n",
       "      <th>Spear Fishing_act</th>\n",
       "      <th>Surfing_act</th>\n",
       "      <th>Swimming_act</th>\n",
       "      <th>attack</th>\n",
       "      <th>phase</th>\n",
       "    </tr>\n",
       "  </thead>\n",
       "  <tbody>\n",
       "    <tr>\n",
       "      <th>0</th>\n",
       "      <td>Aruba</td>\n",
       "      <td>2007</td>\n",
       "      <td>1</td>\n",
       "      <td>NaN</td>\n",
       "      <td>NaN</td>\n",
       "      <td>NaN</td>\n",
       "      <td>NaN</td>\n",
       "      <td>NaN</td>\n",
       "      <td>NaN</td>\n",
       "      <td>NaN</td>\n",
       "      <td>...</td>\n",
       "      <td>NaN</td>\n",
       "      <td>NaN</td>\n",
       "      <td>NaN</td>\n",
       "      <td>NaN</td>\n",
       "      <td>NaN</td>\n",
       "      <td>NaN</td>\n",
       "      <td>NaN</td>\n",
       "      <td>NaN</td>\n",
       "      <td>NaN</td>\n",
       "      <td>NaN</td>\n",
       "    </tr>\n",
       "    <tr>\n",
       "      <th>1</th>\n",
       "      <td>Aruba</td>\n",
       "      <td>2007</td>\n",
       "      <td>2</td>\n",
       "      <td>NaN</td>\n",
       "      <td>NaN</td>\n",
       "      <td>NaN</td>\n",
       "      <td>NaN</td>\n",
       "      <td>NaN</td>\n",
       "      <td>NaN</td>\n",
       "      <td>NaN</td>\n",
       "      <td>...</td>\n",
       "      <td>NaN</td>\n",
       "      <td>NaN</td>\n",
       "      <td>NaN</td>\n",
       "      <td>NaN</td>\n",
       "      <td>NaN</td>\n",
       "      <td>NaN</td>\n",
       "      <td>NaN</td>\n",
       "      <td>NaN</td>\n",
       "      <td>NaN</td>\n",
       "      <td>NaN</td>\n",
       "    </tr>\n",
       "    <tr>\n",
       "      <th>2</th>\n",
       "      <td>Aruba</td>\n",
       "      <td>2007</td>\n",
       "      <td>3</td>\n",
       "      <td>NaN</td>\n",
       "      <td>NaN</td>\n",
       "      <td>NaN</td>\n",
       "      <td>NaN</td>\n",
       "      <td>NaN</td>\n",
       "      <td>NaN</td>\n",
       "      <td>NaN</td>\n",
       "      <td>...</td>\n",
       "      <td>NaN</td>\n",
       "      <td>NaN</td>\n",
       "      <td>NaN</td>\n",
       "      <td>NaN</td>\n",
       "      <td>NaN</td>\n",
       "      <td>NaN</td>\n",
       "      <td>NaN</td>\n",
       "      <td>NaN</td>\n",
       "      <td>NaN</td>\n",
       "      <td>NaN</td>\n",
       "    </tr>\n",
       "    <tr>\n",
       "      <th>3</th>\n",
       "      <td>Aruba</td>\n",
       "      <td>2007</td>\n",
       "      <td>4</td>\n",
       "      <td>NaN</td>\n",
       "      <td>NaN</td>\n",
       "      <td>NaN</td>\n",
       "      <td>NaN</td>\n",
       "      <td>NaN</td>\n",
       "      <td>NaN</td>\n",
       "      <td>NaN</td>\n",
       "      <td>...</td>\n",
       "      <td>NaN</td>\n",
       "      <td>NaN</td>\n",
       "      <td>NaN</td>\n",
       "      <td>NaN</td>\n",
       "      <td>NaN</td>\n",
       "      <td>NaN</td>\n",
       "      <td>NaN</td>\n",
       "      <td>NaN</td>\n",
       "      <td>NaN</td>\n",
       "      <td>NaN</td>\n",
       "    </tr>\n",
       "    <tr>\n",
       "      <th>4</th>\n",
       "      <td>Aruba</td>\n",
       "      <td>2007</td>\n",
       "      <td>5</td>\n",
       "      <td>NaN</td>\n",
       "      <td>NaN</td>\n",
       "      <td>NaN</td>\n",
       "      <td>NaN</td>\n",
       "      <td>NaN</td>\n",
       "      <td>NaN</td>\n",
       "      <td>NaN</td>\n",
       "      <td>...</td>\n",
       "      <td>NaN</td>\n",
       "      <td>NaN</td>\n",
       "      <td>NaN</td>\n",
       "      <td>NaN</td>\n",
       "      <td>NaN</td>\n",
       "      <td>NaN</td>\n",
       "      <td>NaN</td>\n",
       "      <td>NaN</td>\n",
       "      <td>NaN</td>\n",
       "      <td>NaN</td>\n",
       "    </tr>\n",
       "  </tbody>\n",
       "</table>\n",
       "<p>5 rows × 23 columns</p>\n",
       "</div>"
      ],
      "text/plain": [
       "  geo_country  year  month  pop_lag  fatal  Boat  Boating  Provoked  \\\n",
       "0       Aruba  2007      1      NaN    NaN   NaN      NaN       NaN   \n",
       "1       Aruba  2007      2      NaN    NaN   NaN      NaN       NaN   \n",
       "2       Aruba  2007      3      NaN    NaN   NaN      NaN       NaN   \n",
       "3       Aruba  2007      4      NaN    NaN   NaN      NaN       NaN   \n",
       "4       Aruba  2007      5      NaN    NaN   NaN      NaN       NaN   \n",
       "\n",
       "   Sea Disaster  Unprovoked  ...    Filming_act  Fishing_act  Handling_act  \\\n",
       "0           NaN         NaN  ...            NaN          NaN           NaN   \n",
       "1           NaN         NaN  ...            NaN          NaN           NaN   \n",
       "2           NaN         NaN  ...            NaN          NaN           NaN   \n",
       "3           NaN         NaN  ...            NaN          NaN           NaN   \n",
       "4           NaN         NaN  ...            NaN          NaN           NaN   \n",
       "\n",
       "   Rowing_act  Shallow Water_act  Spear Fishing_act  Surfing_act  \\\n",
       "0         NaN                NaN                NaN          NaN   \n",
       "1         NaN                NaN                NaN          NaN   \n",
       "2         NaN                NaN                NaN          NaN   \n",
       "3         NaN                NaN                NaN          NaN   \n",
       "4         NaN                NaN                NaN          NaN   \n",
       "\n",
       "   Swimming_act  attack  phase  \n",
       "0           NaN     NaN    NaN  \n",
       "1           NaN     NaN    NaN  \n",
       "2           NaN     NaN    NaN  \n",
       "3           NaN     NaN    NaN  \n",
       "4           NaN     NaN    NaN  \n",
       "\n",
       "[5 rows x 23 columns]"
      ]
     },
     "execution_count": 11,
     "metadata": {},
     "output_type": "execute_result"
    }
   ],
   "source": [
    "full_cym = full_cym.merge(cym, on=['geo_country', 'year', 'month'], how='left')\n",
    "full_cym.head()"
   ]
  },
  {
   "cell_type": "code",
   "execution_count": 12,
   "metadata": {
    "collapsed": false
   },
   "outputs": [
    {
     "data": {
      "text/html": [
       "<div>\n",
       "<style>\n",
       "    .dataframe thead tr:only-child th {\n",
       "        text-align: right;\n",
       "    }\n",
       "\n",
       "    .dataframe thead th {\n",
       "        text-align: left;\n",
       "    }\n",
       "\n",
       "    .dataframe tbody tr th {\n",
       "        vertical-align: top;\n",
       "    }\n",
       "</style>\n",
       "<table border=\"1\" class=\"dataframe\">\n",
       "  <thead>\n",
       "    <tr style=\"text-align: right;\">\n",
       "      <th></th>\n",
       "      <th>geo_country</th>\n",
       "      <th>year</th>\n",
       "      <th>pop_lag</th>\n",
       "    </tr>\n",
       "  </thead>\n",
       "  <tbody>\n",
       "    <tr>\n",
       "      <th>0</th>\n",
       "      <td>Aruba</td>\n",
       "      <td>2007</td>\n",
       "      <td>NaN</td>\n",
       "    </tr>\n",
       "    <tr>\n",
       "      <th>1</th>\n",
       "      <td>Aruba</td>\n",
       "      <td>2008</td>\n",
       "      <td>NaN</td>\n",
       "    </tr>\n",
       "    <tr>\n",
       "      <th>2</th>\n",
       "      <td>Aruba</td>\n",
       "      <td>2009</td>\n",
       "      <td>NaN</td>\n",
       "    </tr>\n",
       "    <tr>\n",
       "      <th>3</th>\n",
       "      <td>Aruba</td>\n",
       "      <td>2010</td>\n",
       "      <td>NaN</td>\n",
       "    </tr>\n",
       "    <tr>\n",
       "      <th>4</th>\n",
       "      <td>Aruba</td>\n",
       "      <td>2011</td>\n",
       "      <td>NaN</td>\n",
       "    </tr>\n",
       "  </tbody>\n",
       "</table>\n",
       "</div>"
      ],
      "text/plain": [
       "  geo_country  year  pop_lag\n",
       "0       Aruba  2007      NaN\n",
       "1       Aruba  2008      NaN\n",
       "2       Aruba  2009      NaN\n",
       "3       Aruba  2010      NaN\n",
       "4       Aruba  2011      NaN"
      ]
     },
     "execution_count": 12,
     "metadata": {},
     "output_type": "execute_result"
    }
   ],
   "source": [
    "# linearly interpolate the population data\n",
    "int_pop = pd.DataFrame(full_cym.groupby(['geo_country', 'year'])['pop_lag'].mean()).reset_index()\n",
    "int_pop.head()"
   ]
  },
  {
   "cell_type": "code",
   "execution_count": 13,
   "metadata": {
    "collapsed": false
   },
   "outputs": [],
   "source": [
    "# https://pandas.pydata.org/pandas-docs/stable/generated/pandas.Series.interpolate.html\n",
    "int_pop = int_pop.groupby('geo_country').apply(lambda group: group.interpolate(method='linear', limit_direction='both', \n",
    "                                                                     limit=n_years))"
   ]
  },
  {
   "cell_type": "code",
   "execution_count": 14,
   "metadata": {
    "collapsed": false
   },
   "outputs": [
    {
     "data": {
      "text/html": [
       "<div>\n",
       "<style>\n",
       "    .dataframe thead tr:only-child th {\n",
       "        text-align: right;\n",
       "    }\n",
       "\n",
       "    .dataframe thead th {\n",
       "        text-align: left;\n",
       "    }\n",
       "\n",
       "    .dataframe tbody tr th {\n",
       "        vertical-align: top;\n",
       "    }\n",
       "</style>\n",
       "<table border=\"1\" class=\"dataframe\">\n",
       "  <thead>\n",
       "    <tr style=\"text-align: right;\">\n",
       "      <th></th>\n",
       "      <th>geo_country</th>\n",
       "      <th>year</th>\n",
       "      <th>month</th>\n",
       "      <th>pop_lag_x</th>\n",
       "      <th>fatal</th>\n",
       "      <th>Boat</th>\n",
       "      <th>Boating</th>\n",
       "      <th>Provoked</th>\n",
       "      <th>Sea Disaster</th>\n",
       "      <th>Unprovoked</th>\n",
       "      <th>...</th>\n",
       "      <th>Fishing_act</th>\n",
       "      <th>Handling_act</th>\n",
       "      <th>Rowing_act</th>\n",
       "      <th>Shallow Water_act</th>\n",
       "      <th>Spear Fishing_act</th>\n",
       "      <th>Surfing_act</th>\n",
       "      <th>Swimming_act</th>\n",
       "      <th>attack</th>\n",
       "      <th>phase</th>\n",
       "      <th>pop_lag_y</th>\n",
       "    </tr>\n",
       "  </thead>\n",
       "  <tbody>\n",
       "    <tr>\n",
       "      <th>0</th>\n",
       "      <td>Aruba</td>\n",
       "      <td>2007</td>\n",
       "      <td>1</td>\n",
       "      <td>NaN</td>\n",
       "      <td>NaN</td>\n",
       "      <td>NaN</td>\n",
       "      <td>NaN</td>\n",
       "      <td>NaN</td>\n",
       "      <td>NaN</td>\n",
       "      <td>NaN</td>\n",
       "      <td>...</td>\n",
       "      <td>NaN</td>\n",
       "      <td>NaN</td>\n",
       "      <td>NaN</td>\n",
       "      <td>NaN</td>\n",
       "      <td>NaN</td>\n",
       "      <td>NaN</td>\n",
       "      <td>NaN</td>\n",
       "      <td>NaN</td>\n",
       "      <td>NaN</td>\n",
       "      <td>11.550173</td>\n",
       "    </tr>\n",
       "    <tr>\n",
       "      <th>1</th>\n",
       "      <td>Aruba</td>\n",
       "      <td>2007</td>\n",
       "      <td>2</td>\n",
       "      <td>NaN</td>\n",
       "      <td>NaN</td>\n",
       "      <td>NaN</td>\n",
       "      <td>NaN</td>\n",
       "      <td>NaN</td>\n",
       "      <td>NaN</td>\n",
       "      <td>NaN</td>\n",
       "      <td>...</td>\n",
       "      <td>NaN</td>\n",
       "      <td>NaN</td>\n",
       "      <td>NaN</td>\n",
       "      <td>NaN</td>\n",
       "      <td>NaN</td>\n",
       "      <td>NaN</td>\n",
       "      <td>NaN</td>\n",
       "      <td>NaN</td>\n",
       "      <td>NaN</td>\n",
       "      <td>11.550173</td>\n",
       "    </tr>\n",
       "    <tr>\n",
       "      <th>2</th>\n",
       "      <td>Aruba</td>\n",
       "      <td>2007</td>\n",
       "      <td>3</td>\n",
       "      <td>NaN</td>\n",
       "      <td>NaN</td>\n",
       "      <td>NaN</td>\n",
       "      <td>NaN</td>\n",
       "      <td>NaN</td>\n",
       "      <td>NaN</td>\n",
       "      <td>NaN</td>\n",
       "      <td>...</td>\n",
       "      <td>NaN</td>\n",
       "      <td>NaN</td>\n",
       "      <td>NaN</td>\n",
       "      <td>NaN</td>\n",
       "      <td>NaN</td>\n",
       "      <td>NaN</td>\n",
       "      <td>NaN</td>\n",
       "      <td>NaN</td>\n",
       "      <td>NaN</td>\n",
       "      <td>11.550173</td>\n",
       "    </tr>\n",
       "    <tr>\n",
       "      <th>3</th>\n",
       "      <td>Aruba</td>\n",
       "      <td>2007</td>\n",
       "      <td>4</td>\n",
       "      <td>NaN</td>\n",
       "      <td>NaN</td>\n",
       "      <td>NaN</td>\n",
       "      <td>NaN</td>\n",
       "      <td>NaN</td>\n",
       "      <td>NaN</td>\n",
       "      <td>NaN</td>\n",
       "      <td>...</td>\n",
       "      <td>NaN</td>\n",
       "      <td>NaN</td>\n",
       "      <td>NaN</td>\n",
       "      <td>NaN</td>\n",
       "      <td>NaN</td>\n",
       "      <td>NaN</td>\n",
       "      <td>NaN</td>\n",
       "      <td>NaN</td>\n",
       "      <td>NaN</td>\n",
       "      <td>11.550173</td>\n",
       "    </tr>\n",
       "    <tr>\n",
       "      <th>4</th>\n",
       "      <td>Aruba</td>\n",
       "      <td>2007</td>\n",
       "      <td>5</td>\n",
       "      <td>NaN</td>\n",
       "      <td>NaN</td>\n",
       "      <td>NaN</td>\n",
       "      <td>NaN</td>\n",
       "      <td>NaN</td>\n",
       "      <td>NaN</td>\n",
       "      <td>NaN</td>\n",
       "      <td>...</td>\n",
       "      <td>NaN</td>\n",
       "      <td>NaN</td>\n",
       "      <td>NaN</td>\n",
       "      <td>NaN</td>\n",
       "      <td>NaN</td>\n",
       "      <td>NaN</td>\n",
       "      <td>NaN</td>\n",
       "      <td>NaN</td>\n",
       "      <td>NaN</td>\n",
       "      <td>11.550173</td>\n",
       "    </tr>\n",
       "  </tbody>\n",
       "</table>\n",
       "<p>5 rows × 24 columns</p>\n",
       "</div>"
      ],
      "text/plain": [
       "  geo_country  year  month  pop_lag_x  fatal  Boat  Boating  Provoked  \\\n",
       "0       Aruba  2007      1        NaN    NaN   NaN      NaN       NaN   \n",
       "1       Aruba  2007      2        NaN    NaN   NaN      NaN       NaN   \n",
       "2       Aruba  2007      3        NaN    NaN   NaN      NaN       NaN   \n",
       "3       Aruba  2007      4        NaN    NaN   NaN      NaN       NaN   \n",
       "4       Aruba  2007      5        NaN    NaN   NaN      NaN       NaN   \n",
       "\n",
       "   Sea Disaster  Unprovoked    ...      Fishing_act  Handling_act  Rowing_act  \\\n",
       "0           NaN         NaN    ...              NaN           NaN         NaN   \n",
       "1           NaN         NaN    ...              NaN           NaN         NaN   \n",
       "2           NaN         NaN    ...              NaN           NaN         NaN   \n",
       "3           NaN         NaN    ...              NaN           NaN         NaN   \n",
       "4           NaN         NaN    ...              NaN           NaN         NaN   \n",
       "\n",
       "   Shallow Water_act  Spear Fishing_act  Surfing_act  Swimming_act  attack  \\\n",
       "0                NaN                NaN          NaN           NaN     NaN   \n",
       "1                NaN                NaN          NaN           NaN     NaN   \n",
       "2                NaN                NaN          NaN           NaN     NaN   \n",
       "3                NaN                NaN          NaN           NaN     NaN   \n",
       "4                NaN                NaN          NaN           NaN     NaN   \n",
       "\n",
       "   phase  pop_lag_y  \n",
       "0    NaN  11.550173  \n",
       "1    NaN  11.550173  \n",
       "2    NaN  11.550173  \n",
       "3    NaN  11.550173  \n",
       "4    NaN  11.550173  \n",
       "\n",
       "[5 rows x 24 columns]"
      ]
     },
     "execution_count": 14,
     "metadata": {},
     "output_type": "execute_result"
    }
   ],
   "source": [
    "full_cym = full_cym.merge(int_pop, on=['geo_country', 'year'], how='left')\n",
    "full_cym.head()"
   ]
  },
  {
   "cell_type": "code",
   "execution_count": 15,
   "metadata": {
    "collapsed": false
   },
   "outputs": [
    {
     "name": "stdout",
     "output_type": "stream",
     "text": [
      "<class 'pandas.core.frame.DataFrame'>\n",
      "Int64Index: 8712 entries, 0 to 8711\n",
      "Data columns (total 23 columns):\n",
      "geo_country          8712 non-null object\n",
      "year                 8712 non-null int64\n",
      "month                8712 non-null int64\n",
      "fatal                546 non-null float64\n",
      "Boat                 546 non-null float64\n",
      "Boating              546 non-null float64\n",
      "Provoked             546 non-null float64\n",
      "Sea Disaster         546 non-null float64\n",
      "Unprovoked           546 non-null float64\n",
      "Boating_act          546 non-null float64\n",
      "Disaster_act         546 non-null float64\n",
      "Diving_act           546 non-null float64\n",
      "Filming_act          546 non-null float64\n",
      "Fishing_act          546 non-null float64\n",
      "Handling_act         546 non-null float64\n",
      "Rowing_act           546 non-null float64\n",
      "Shallow Water_act    546 non-null float64\n",
      "Spear Fishing_act    546 non-null float64\n",
      "Surfing_act          546 non-null float64\n",
      "Swimming_act         546 non-null float64\n",
      "attack               546 non-null float64\n",
      "phase                546 non-null float64\n",
      "log_pop              8712 non-null float64\n",
      "dtypes: float64(20), int64(2), object(1)\n",
      "memory usage: 1.6+ MB\n"
     ]
    }
   ],
   "source": [
    "del full_cym['pop_lag_x']\n",
    "full_cym.rename(columns={'pop_lag_y': 'log_pop'}, inplace=True)\n",
    "full_cym.info()"
   ]
  },
  {
   "cell_type": "code",
   "execution_count": 16,
   "metadata": {
    "collapsed": true
   },
   "outputs": [],
   "source": [
    "# fill everything else with 0s, because there was nothing that country-year-month\n",
    "full_cym.fillna(0, inplace=True)"
   ]
  },
  {
   "cell_type": "code",
   "execution_count": 17,
   "metadata": {
    "collapsed": false
   },
   "outputs": [
    {
     "data": {
      "text/html": [
       "<div>\n",
       "<style>\n",
       "    .dataframe thead tr:only-child th {\n",
       "        text-align: right;\n",
       "    }\n",
       "\n",
       "    .dataframe thead th {\n",
       "        text-align: left;\n",
       "    }\n",
       "\n",
       "    .dataframe tbody tr th {\n",
       "        vertical-align: top;\n",
       "    }\n",
       "</style>\n",
       "<table border=\"1\" class=\"dataframe\">\n",
       "  <thead>\n",
       "    <tr style=\"text-align: right;\">\n",
       "      <th></th>\n",
       "      <th>geo_country</th>\n",
       "      <th>year</th>\n",
       "      <th>month</th>\n",
       "      <th>fatal</th>\n",
       "      <th>Boat</th>\n",
       "      <th>Boating</th>\n",
       "      <th>Provoked</th>\n",
       "      <th>Sea Disaster</th>\n",
       "      <th>Unprovoked</th>\n",
       "      <th>Boating_act</th>\n",
       "      <th>...</th>\n",
       "      <th>Fishing_act</th>\n",
       "      <th>Handling_act</th>\n",
       "      <th>Rowing_act</th>\n",
       "      <th>Shallow Water_act</th>\n",
       "      <th>Spear Fishing_act</th>\n",
       "      <th>Surfing_act</th>\n",
       "      <th>Swimming_act</th>\n",
       "      <th>attack</th>\n",
       "      <th>phase</th>\n",
       "      <th>log_pop</th>\n",
       "    </tr>\n",
       "  </thead>\n",
       "  <tbody>\n",
       "    <tr>\n",
       "      <th>0</th>\n",
       "      <td>Aruba</td>\n",
       "      <td>2007</td>\n",
       "      <td>1</td>\n",
       "      <td>0.0</td>\n",
       "      <td>0.0</td>\n",
       "      <td>0.0</td>\n",
       "      <td>0.0</td>\n",
       "      <td>0.0</td>\n",
       "      <td>0.0</td>\n",
       "      <td>0.0</td>\n",
       "      <td>...</td>\n",
       "      <td>0.0</td>\n",
       "      <td>0.0</td>\n",
       "      <td>0.0</td>\n",
       "      <td>0.0</td>\n",
       "      <td>0.0</td>\n",
       "      <td>0.0</td>\n",
       "      <td>0.0</td>\n",
       "      <td>0.0</td>\n",
       "      <td>0.0</td>\n",
       "      <td>11.550173</td>\n",
       "    </tr>\n",
       "    <tr>\n",
       "      <th>1</th>\n",
       "      <td>Aruba</td>\n",
       "      <td>2007</td>\n",
       "      <td>2</td>\n",
       "      <td>0.0</td>\n",
       "      <td>0.0</td>\n",
       "      <td>0.0</td>\n",
       "      <td>0.0</td>\n",
       "      <td>0.0</td>\n",
       "      <td>0.0</td>\n",
       "      <td>0.0</td>\n",
       "      <td>...</td>\n",
       "      <td>0.0</td>\n",
       "      <td>0.0</td>\n",
       "      <td>0.0</td>\n",
       "      <td>0.0</td>\n",
       "      <td>0.0</td>\n",
       "      <td>0.0</td>\n",
       "      <td>0.0</td>\n",
       "      <td>0.0</td>\n",
       "      <td>0.0</td>\n",
       "      <td>11.550173</td>\n",
       "    </tr>\n",
       "    <tr>\n",
       "      <th>2</th>\n",
       "      <td>Aruba</td>\n",
       "      <td>2007</td>\n",
       "      <td>3</td>\n",
       "      <td>0.0</td>\n",
       "      <td>0.0</td>\n",
       "      <td>0.0</td>\n",
       "      <td>0.0</td>\n",
       "      <td>0.0</td>\n",
       "      <td>0.0</td>\n",
       "      <td>0.0</td>\n",
       "      <td>...</td>\n",
       "      <td>0.0</td>\n",
       "      <td>0.0</td>\n",
       "      <td>0.0</td>\n",
       "      <td>0.0</td>\n",
       "      <td>0.0</td>\n",
       "      <td>0.0</td>\n",
       "      <td>0.0</td>\n",
       "      <td>0.0</td>\n",
       "      <td>0.0</td>\n",
       "      <td>11.550173</td>\n",
       "    </tr>\n",
       "    <tr>\n",
       "      <th>3</th>\n",
       "      <td>Aruba</td>\n",
       "      <td>2007</td>\n",
       "      <td>4</td>\n",
       "      <td>0.0</td>\n",
       "      <td>0.0</td>\n",
       "      <td>0.0</td>\n",
       "      <td>0.0</td>\n",
       "      <td>0.0</td>\n",
       "      <td>0.0</td>\n",
       "      <td>0.0</td>\n",
       "      <td>...</td>\n",
       "      <td>0.0</td>\n",
       "      <td>0.0</td>\n",
       "      <td>0.0</td>\n",
       "      <td>0.0</td>\n",
       "      <td>0.0</td>\n",
       "      <td>0.0</td>\n",
       "      <td>0.0</td>\n",
       "      <td>0.0</td>\n",
       "      <td>0.0</td>\n",
       "      <td>11.550173</td>\n",
       "    </tr>\n",
       "    <tr>\n",
       "      <th>4</th>\n",
       "      <td>Aruba</td>\n",
       "      <td>2007</td>\n",
       "      <td>5</td>\n",
       "      <td>0.0</td>\n",
       "      <td>0.0</td>\n",
       "      <td>0.0</td>\n",
       "      <td>0.0</td>\n",
       "      <td>0.0</td>\n",
       "      <td>0.0</td>\n",
       "      <td>0.0</td>\n",
       "      <td>...</td>\n",
       "      <td>0.0</td>\n",
       "      <td>0.0</td>\n",
       "      <td>0.0</td>\n",
       "      <td>0.0</td>\n",
       "      <td>0.0</td>\n",
       "      <td>0.0</td>\n",
       "      <td>0.0</td>\n",
       "      <td>0.0</td>\n",
       "      <td>0.0</td>\n",
       "      <td>11.550173</td>\n",
       "    </tr>\n",
       "  </tbody>\n",
       "</table>\n",
       "<p>5 rows × 23 columns</p>\n",
       "</div>"
      ],
      "text/plain": [
       "  geo_country  year  month  fatal  Boat  Boating  Provoked  Sea Disaster  \\\n",
       "0       Aruba  2007      1    0.0   0.0      0.0       0.0           0.0   \n",
       "1       Aruba  2007      2    0.0   0.0      0.0       0.0           0.0   \n",
       "2       Aruba  2007      3    0.0   0.0      0.0       0.0           0.0   \n",
       "3       Aruba  2007      4    0.0   0.0      0.0       0.0           0.0   \n",
       "4       Aruba  2007      5    0.0   0.0      0.0       0.0           0.0   \n",
       "\n",
       "   Unprovoked  Boating_act    ...      Fishing_act  Handling_act  Rowing_act  \\\n",
       "0         0.0          0.0    ...              0.0           0.0         0.0   \n",
       "1         0.0          0.0    ...              0.0           0.0         0.0   \n",
       "2         0.0          0.0    ...              0.0           0.0         0.0   \n",
       "3         0.0          0.0    ...              0.0           0.0         0.0   \n",
       "4         0.0          0.0    ...              0.0           0.0         0.0   \n",
       "\n",
       "   Shallow Water_act  Spear Fishing_act  Surfing_act  Swimming_act  attack  \\\n",
       "0                0.0                0.0          0.0           0.0     0.0   \n",
       "1                0.0                0.0          0.0           0.0     0.0   \n",
       "2                0.0                0.0          0.0           0.0     0.0   \n",
       "3                0.0                0.0          0.0           0.0     0.0   \n",
       "4                0.0                0.0          0.0           0.0     0.0   \n",
       "\n",
       "   phase    log_pop  \n",
       "0    0.0  11.550173  \n",
       "1    0.0  11.550173  \n",
       "2    0.0  11.550173  \n",
       "3    0.0  11.550173  \n",
       "4    0.0  11.550173  \n",
       "\n",
       "[5 rows x 23 columns]"
      ]
     },
     "execution_count": 17,
     "metadata": {},
     "output_type": "execute_result"
    }
   ],
   "source": [
    "full_cym.head()"
   ]
  },
  {
   "cell_type": "code",
   "execution_count": 18,
   "metadata": {
    "collapsed": false
   },
   "outputs": [
    {
     "data": {
      "text/html": [
       "<div>\n",
       "<style>\n",
       "    .dataframe thead tr:only-child th {\n",
       "        text-align: right;\n",
       "    }\n",
       "\n",
       "    .dataframe thead th {\n",
       "        text-align: left;\n",
       "    }\n",
       "\n",
       "    .dataframe tbody tr th {\n",
       "        vertical-align: top;\n",
       "    }\n",
       "</style>\n",
       "<table border=\"1\" class=\"dataframe\">\n",
       "  <thead>\n",
       "    <tr style=\"text-align: right;\">\n",
       "      <th></th>\n",
       "      <th>geo_country</th>\n",
       "      <th>year</th>\n",
       "      <th>month</th>\n",
       "      <th>fatal</th>\n",
       "      <th>Boat</th>\n",
       "      <th>Boating</th>\n",
       "      <th>Provoked</th>\n",
       "      <th>Sea Disaster</th>\n",
       "      <th>Unprovoked</th>\n",
       "      <th>Boating_act</th>\n",
       "      <th>...</th>\n",
       "      <th>Handling_act</th>\n",
       "      <th>Rowing_act</th>\n",
       "      <th>Shallow Water_act</th>\n",
       "      <th>Spear Fishing_act</th>\n",
       "      <th>Surfing_act</th>\n",
       "      <th>Swimming_act</th>\n",
       "      <th>attack</th>\n",
       "      <th>phase</th>\n",
       "      <th>log_pop</th>\n",
       "      <th>log_pop_cat</th>\n",
       "    </tr>\n",
       "  </thead>\n",
       "  <tbody>\n",
       "    <tr>\n",
       "      <th>0</th>\n",
       "      <td>Aruba</td>\n",
       "      <td>2007</td>\n",
       "      <td>1</td>\n",
       "      <td>0.0</td>\n",
       "      <td>0.0</td>\n",
       "      <td>0.0</td>\n",
       "      <td>0.0</td>\n",
       "      <td>0.0</td>\n",
       "      <td>0.0</td>\n",
       "      <td>0.0</td>\n",
       "      <td>...</td>\n",
       "      <td>0.0</td>\n",
       "      <td>0.0</td>\n",
       "      <td>0.0</td>\n",
       "      <td>0.0</td>\n",
       "      <td>0.0</td>\n",
       "      <td>0.0</td>\n",
       "      <td>0.0</td>\n",
       "      <td>0.0</td>\n",
       "      <td>11.550173</td>\n",
       "      <td>2</td>\n",
       "    </tr>\n",
       "    <tr>\n",
       "      <th>1</th>\n",
       "      <td>Aruba</td>\n",
       "      <td>2007</td>\n",
       "      <td>2</td>\n",
       "      <td>0.0</td>\n",
       "      <td>0.0</td>\n",
       "      <td>0.0</td>\n",
       "      <td>0.0</td>\n",
       "      <td>0.0</td>\n",
       "      <td>0.0</td>\n",
       "      <td>0.0</td>\n",
       "      <td>...</td>\n",
       "      <td>0.0</td>\n",
       "      <td>0.0</td>\n",
       "      <td>0.0</td>\n",
       "      <td>0.0</td>\n",
       "      <td>0.0</td>\n",
       "      <td>0.0</td>\n",
       "      <td>0.0</td>\n",
       "      <td>0.0</td>\n",
       "      <td>11.550173</td>\n",
       "      <td>2</td>\n",
       "    </tr>\n",
       "    <tr>\n",
       "      <th>2</th>\n",
       "      <td>Aruba</td>\n",
       "      <td>2007</td>\n",
       "      <td>3</td>\n",
       "      <td>0.0</td>\n",
       "      <td>0.0</td>\n",
       "      <td>0.0</td>\n",
       "      <td>0.0</td>\n",
       "      <td>0.0</td>\n",
       "      <td>0.0</td>\n",
       "      <td>0.0</td>\n",
       "      <td>...</td>\n",
       "      <td>0.0</td>\n",
       "      <td>0.0</td>\n",
       "      <td>0.0</td>\n",
       "      <td>0.0</td>\n",
       "      <td>0.0</td>\n",
       "      <td>0.0</td>\n",
       "      <td>0.0</td>\n",
       "      <td>0.0</td>\n",
       "      <td>11.550173</td>\n",
       "      <td>2</td>\n",
       "    </tr>\n",
       "    <tr>\n",
       "      <th>3</th>\n",
       "      <td>Aruba</td>\n",
       "      <td>2007</td>\n",
       "      <td>4</td>\n",
       "      <td>0.0</td>\n",
       "      <td>0.0</td>\n",
       "      <td>0.0</td>\n",
       "      <td>0.0</td>\n",
       "      <td>0.0</td>\n",
       "      <td>0.0</td>\n",
       "      <td>0.0</td>\n",
       "      <td>...</td>\n",
       "      <td>0.0</td>\n",
       "      <td>0.0</td>\n",
       "      <td>0.0</td>\n",
       "      <td>0.0</td>\n",
       "      <td>0.0</td>\n",
       "      <td>0.0</td>\n",
       "      <td>0.0</td>\n",
       "      <td>0.0</td>\n",
       "      <td>11.550173</td>\n",
       "      <td>2</td>\n",
       "    </tr>\n",
       "    <tr>\n",
       "      <th>4</th>\n",
       "      <td>Aruba</td>\n",
       "      <td>2007</td>\n",
       "      <td>5</td>\n",
       "      <td>0.0</td>\n",
       "      <td>0.0</td>\n",
       "      <td>0.0</td>\n",
       "      <td>0.0</td>\n",
       "      <td>0.0</td>\n",
       "      <td>0.0</td>\n",
       "      <td>0.0</td>\n",
       "      <td>...</td>\n",
       "      <td>0.0</td>\n",
       "      <td>0.0</td>\n",
       "      <td>0.0</td>\n",
       "      <td>0.0</td>\n",
       "      <td>0.0</td>\n",
       "      <td>0.0</td>\n",
       "      <td>0.0</td>\n",
       "      <td>0.0</td>\n",
       "      <td>11.550173</td>\n",
       "      <td>2</td>\n",
       "    </tr>\n",
       "  </tbody>\n",
       "</table>\n",
       "<p>5 rows × 24 columns</p>\n",
       "</div>"
      ],
      "text/plain": [
       "  geo_country  year  month  fatal  Boat  Boating  Provoked  Sea Disaster  \\\n",
       "0       Aruba  2007      1    0.0   0.0      0.0       0.0           0.0   \n",
       "1       Aruba  2007      2    0.0   0.0      0.0       0.0           0.0   \n",
       "2       Aruba  2007      3    0.0   0.0      0.0       0.0           0.0   \n",
       "3       Aruba  2007      4    0.0   0.0      0.0       0.0           0.0   \n",
       "4       Aruba  2007      5    0.0   0.0      0.0       0.0           0.0   \n",
       "\n",
       "   Unprovoked  Boating_act     ...       Handling_act  Rowing_act  \\\n",
       "0         0.0          0.0     ...                0.0         0.0   \n",
       "1         0.0          0.0     ...                0.0         0.0   \n",
       "2         0.0          0.0     ...                0.0         0.0   \n",
       "3         0.0          0.0     ...                0.0         0.0   \n",
       "4         0.0          0.0     ...                0.0         0.0   \n",
       "\n",
       "   Shallow Water_act  Spear Fishing_act  Surfing_act  Swimming_act  attack  \\\n",
       "0                0.0                0.0          0.0           0.0     0.0   \n",
       "1                0.0                0.0          0.0           0.0     0.0   \n",
       "2                0.0                0.0          0.0           0.0     0.0   \n",
       "3                0.0                0.0          0.0           0.0     0.0   \n",
       "4                0.0                0.0          0.0           0.0     0.0   \n",
       "\n",
       "   phase    log_pop  log_pop_cat  \n",
       "0    0.0  11.550173            2  \n",
       "1    0.0  11.550173            2  \n",
       "2    0.0  11.550173            2  \n",
       "3    0.0  11.550173            2  \n",
       "4    0.0  11.550173            2  \n",
       "\n",
       "[5 rows x 24 columns]"
      ]
     },
     "execution_count": 18,
     "metadata": {},
     "output_type": "execute_result"
    }
   ],
   "source": [
    "# turn the log of population into a discrete variable for use in the Bayesian network\n",
    "full_cym['log_pop_cat'] = pd.cut(full_cym['log_pop'], 10, labels=range(10))\n",
    "full_cym.head()"
   ]
  },
  {
   "cell_type": "code",
   "execution_count": 19,
   "metadata": {
    "collapsed": false
   },
   "outputs": [
    {
     "data": {
      "text/plain": [
       "<matplotlib.axes._subplots.AxesSubplot at 0x11979c128>"
      ]
     },
     "execution_count": 19,
     "metadata": {},
     "output_type": "execute_result"
    },
    {
     "data": {
      "image/png": "[encoded data removed]",
      "text/plain": [
       "<matplotlib.figure.Figure at 0x11981fc88>"
      ]
     },
     "metadata": {},
     "output_type": "display_data"
    }
   ],
   "source": [
    "# do the bins look right? Yes they do.\n",
    "pop_cat = pd.DataFrame(full_cym.log_pop_cat.value_counts())\n",
    "pop_cat.reset_index(inplace=True)\n",
    "pop_cat.sort_values(by='index', inplace=True)\n",
    "pop_cat.plot(x='index', y='log_pop_cat', kind='bar', figsize=(5, 5))"
   ]
  },
  {
   "cell_type": "code",
   "execution_count": 20,
   "metadata": {
    "collapsed": false
   },
   "outputs": [
    {
     "data": {
      "text/html": [
       "<div>\n",
       "<style>\n",
       "    .dataframe thead tr:only-child th {\n",
       "        text-align: right;\n",
       "    }\n",
       "\n",
       "    .dataframe thead th {\n",
       "        text-align: left;\n",
       "    }\n",
       "\n",
       "    .dataframe tbody tr th {\n",
       "        vertical-align: top;\n",
       "    }\n",
       "</style>\n",
       "<table border=\"1\" class=\"dataframe\">\n",
       "  <thead>\n",
       "    <tr style=\"text-align: right;\">\n",
       "      <th></th>\n",
       "      <th>geo_country</th>\n",
       "      <th>year</th>\n",
       "      <th>month</th>\n",
       "      <th>fatal</th>\n",
       "      <th>Boat</th>\n",
       "      <th>Boating</th>\n",
       "      <th>Provoked</th>\n",
       "      <th>Sea Disaster</th>\n",
       "      <th>Unprovoked</th>\n",
       "      <th>Boating_act</th>\n",
       "      <th>...</th>\n",
       "      <th>Fishing_act</th>\n",
       "      <th>Handling_act</th>\n",
       "      <th>Rowing_act</th>\n",
       "      <th>Shallow Water_act</th>\n",
       "      <th>Spear Fishing_act</th>\n",
       "      <th>Surfing_act</th>\n",
       "      <th>Swimming_act</th>\n",
       "      <th>attack</th>\n",
       "      <th>phase</th>\n",
       "      <th>log_pop_cat</th>\n",
       "    </tr>\n",
       "  </thead>\n",
       "  <tbody>\n",
       "    <tr>\n",
       "      <th>0</th>\n",
       "      <td>Aruba</td>\n",
       "      <td>2007</td>\n",
       "      <td>1</td>\n",
       "      <td>0.0</td>\n",
       "      <td>0.0</td>\n",
       "      <td>0.0</td>\n",
       "      <td>0.0</td>\n",
       "      <td>0.0</td>\n",
       "      <td>0.0</td>\n",
       "      <td>0.0</td>\n",
       "      <td>...</td>\n",
       "      <td>0.0</td>\n",
       "      <td>0.0</td>\n",
       "      <td>0.0</td>\n",
       "      <td>0.0</td>\n",
       "      <td>0.0</td>\n",
       "      <td>0.0</td>\n",
       "      <td>0.0</td>\n",
       "      <td>0.0</td>\n",
       "      <td>0.0</td>\n",
       "      <td>2</td>\n",
       "    </tr>\n",
       "    <tr>\n",
       "      <th>1</th>\n",
       "      <td>Aruba</td>\n",
       "      <td>2007</td>\n",
       "      <td>2</td>\n",
       "      <td>0.0</td>\n",
       "      <td>0.0</td>\n",
       "      <td>0.0</td>\n",
       "      <td>0.0</td>\n",
       "      <td>0.0</td>\n",
       "      <td>0.0</td>\n",
       "      <td>0.0</td>\n",
       "      <td>...</td>\n",
       "      <td>0.0</td>\n",
       "      <td>0.0</td>\n",
       "      <td>0.0</td>\n",
       "      <td>0.0</td>\n",
       "      <td>0.0</td>\n",
       "      <td>0.0</td>\n",
       "      <td>0.0</td>\n",
       "      <td>0.0</td>\n",
       "      <td>0.0</td>\n",
       "      <td>2</td>\n",
       "    </tr>\n",
       "    <tr>\n",
       "      <th>2</th>\n",
       "      <td>Aruba</td>\n",
       "      <td>2007</td>\n",
       "      <td>3</td>\n",
       "      <td>0.0</td>\n",
       "      <td>0.0</td>\n",
       "      <td>0.0</td>\n",
       "      <td>0.0</td>\n",
       "      <td>0.0</td>\n",
       "      <td>0.0</td>\n",
       "      <td>0.0</td>\n",
       "      <td>...</td>\n",
       "      <td>0.0</td>\n",
       "      <td>0.0</td>\n",
       "      <td>0.0</td>\n",
       "      <td>0.0</td>\n",
       "      <td>0.0</td>\n",
       "      <td>0.0</td>\n",
       "      <td>0.0</td>\n",
       "      <td>0.0</td>\n",
       "      <td>0.0</td>\n",
       "      <td>2</td>\n",
       "    </tr>\n",
       "    <tr>\n",
       "      <th>3</th>\n",
       "      <td>Aruba</td>\n",
       "      <td>2007</td>\n",
       "      <td>4</td>\n",
       "      <td>0.0</td>\n",
       "      <td>0.0</td>\n",
       "      <td>0.0</td>\n",
       "      <td>0.0</td>\n",
       "      <td>0.0</td>\n",
       "      <td>0.0</td>\n",
       "      <td>0.0</td>\n",
       "      <td>...</td>\n",
       "      <td>0.0</td>\n",
       "      <td>0.0</td>\n",
       "      <td>0.0</td>\n",
       "      <td>0.0</td>\n",
       "      <td>0.0</td>\n",
       "      <td>0.0</td>\n",
       "      <td>0.0</td>\n",
       "      <td>0.0</td>\n",
       "      <td>0.0</td>\n",
       "      <td>2</td>\n",
       "    </tr>\n",
       "    <tr>\n",
       "      <th>4</th>\n",
       "      <td>Aruba</td>\n",
       "      <td>2007</td>\n",
       "      <td>5</td>\n",
       "      <td>0.0</td>\n",
       "      <td>0.0</td>\n",
       "      <td>0.0</td>\n",
       "      <td>0.0</td>\n",
       "      <td>0.0</td>\n",
       "      <td>0.0</td>\n",
       "      <td>0.0</td>\n",
       "      <td>...</td>\n",
       "      <td>0.0</td>\n",
       "      <td>0.0</td>\n",
       "      <td>0.0</td>\n",
       "      <td>0.0</td>\n",
       "      <td>0.0</td>\n",
       "      <td>0.0</td>\n",
       "      <td>0.0</td>\n",
       "      <td>0.0</td>\n",
       "      <td>0.0</td>\n",
       "      <td>2</td>\n",
       "    </tr>\n",
       "  </tbody>\n",
       "</table>\n",
       "<p>5 rows × 23 columns</p>\n",
       "</div>"
      ],
      "text/plain": [
       "  geo_country  year  month  fatal  Boat  Boating  Provoked  Sea Disaster  \\\n",
       "0       Aruba  2007      1    0.0   0.0      0.0       0.0           0.0   \n",
       "1       Aruba  2007      2    0.0   0.0      0.0       0.0           0.0   \n",
       "2       Aruba  2007      3    0.0   0.0      0.0       0.0           0.0   \n",
       "3       Aruba  2007      4    0.0   0.0      0.0       0.0           0.0   \n",
       "4       Aruba  2007      5    0.0   0.0      0.0       0.0           0.0   \n",
       "\n",
       "   Unprovoked  Boating_act     ...       Fishing_act  Handling_act  \\\n",
       "0         0.0          0.0     ...               0.0           0.0   \n",
       "1         0.0          0.0     ...               0.0           0.0   \n",
       "2         0.0          0.0     ...               0.0           0.0   \n",
       "3         0.0          0.0     ...               0.0           0.0   \n",
       "4         0.0          0.0     ...               0.0           0.0   \n",
       "\n",
       "   Rowing_act  Shallow Water_act  Spear Fishing_act  Surfing_act  \\\n",
       "0         0.0                0.0                0.0          0.0   \n",
       "1         0.0                0.0                0.0          0.0   \n",
       "2         0.0                0.0                0.0          0.0   \n",
       "3         0.0                0.0                0.0          0.0   \n",
       "4         0.0                0.0                0.0          0.0   \n",
       "\n",
       "   Swimming_act  attack  phase  log_pop_cat  \n",
       "0           0.0     0.0    0.0            2  \n",
       "1           0.0     0.0    0.0            2  \n",
       "2           0.0     0.0    0.0            2  \n",
       "3           0.0     0.0    0.0            2  \n",
       "4           0.0     0.0    0.0            2  \n",
       "\n",
       "[5 rows x 23 columns]"
      ]
     },
     "execution_count": 20,
     "metadata": {},
     "output_type": "execute_result"
    }
   ],
   "source": [
    "del full_cym['log_pop']\n",
    "full_cym.head()"
   ]
  },
  {
   "cell_type": "code",
   "execution_count": 21,
   "metadata": {
    "collapsed": false
   },
   "outputs": [
    {
     "data": {
      "text/html": [
       "<div>\n",
       "<style>\n",
       "    .dataframe thead tr:only-child th {\n",
       "        text-align: right;\n",
       "    }\n",
       "\n",
       "    .dataframe thead th {\n",
       "        text-align: left;\n",
       "    }\n",
       "\n",
       "    .dataframe tbody tr th {\n",
       "        vertical-align: top;\n",
       "    }\n",
       "</style>\n",
       "<table border=\"1\" class=\"dataframe\">\n",
       "  <thead>\n",
       "    <tr style=\"text-align: right;\">\n",
       "      <th></th>\n",
       "      <th>year</th>\n",
       "      <th>month</th>\n",
       "      <th>fatal</th>\n",
       "      <th>Boat</th>\n",
       "      <th>Boating</th>\n",
       "      <th>Provoked</th>\n",
       "      <th>Sea Disaster</th>\n",
       "      <th>Unprovoked</th>\n",
       "      <th>Boating_act</th>\n",
       "      <th>Disaster_act</th>\n",
       "      <th>...</th>\n",
       "      <th>Filming_act</th>\n",
       "      <th>Fishing_act</th>\n",
       "      <th>Handling_act</th>\n",
       "      <th>Rowing_act</th>\n",
       "      <th>Shallow Water_act</th>\n",
       "      <th>Spear Fishing_act</th>\n",
       "      <th>Surfing_act</th>\n",
       "      <th>Swimming_act</th>\n",
       "      <th>attack</th>\n",
       "      <th>phase</th>\n",
       "    </tr>\n",
       "  </thead>\n",
       "  <tbody>\n",
       "    <tr>\n",
       "      <th>count</th>\n",
       "      <td>8712.000000</td>\n",
       "      <td>8712.000000</td>\n",
       "      <td>8712.000000</td>\n",
       "      <td>8712.000000</td>\n",
       "      <td>8712.000000</td>\n",
       "      <td>8712.000000</td>\n",
       "      <td>8712.000000</td>\n",
       "      <td>8712.000000</td>\n",
       "      <td>8712.000000</td>\n",
       "      <td>8712.000000</td>\n",
       "      <td>...</td>\n",
       "      <td>8712.000000</td>\n",
       "      <td>8712.000000</td>\n",
       "      <td>8712.000000</td>\n",
       "      <td>8712.000000</td>\n",
       "      <td>8712.000000</td>\n",
       "      <td>8712.000000</td>\n",
       "      <td>8712.000000</td>\n",
       "      <td>8712.000000</td>\n",
       "      <td>8712.000000</td>\n",
       "      <td>8712.000000</td>\n",
       "    </tr>\n",
       "    <tr>\n",
       "      <th>mean</th>\n",
       "      <td>2012.000000</td>\n",
       "      <td>6.500000</td>\n",
       "      <td>0.011134</td>\n",
       "      <td>0.001492</td>\n",
       "      <td>0.006543</td>\n",
       "      <td>0.012282</td>\n",
       "      <td>0.001148</td>\n",
       "      <td>0.117424</td>\n",
       "      <td>0.000689</td>\n",
       "      <td>0.001033</td>\n",
       "      <td>...</td>\n",
       "      <td>0.000344</td>\n",
       "      <td>0.014463</td>\n",
       "      <td>0.003558</td>\n",
       "      <td>0.005165</td>\n",
       "      <td>0.009986</td>\n",
       "      <td>0.008494</td>\n",
       "      <td>0.054178</td>\n",
       "      <td>0.026056</td>\n",
       "      <td>0.138889</td>\n",
       "      <td>0.160698</td>\n",
       "    </tr>\n",
       "    <tr>\n",
       "      <th>std</th>\n",
       "      <td>3.162459</td>\n",
       "      <td>3.452251</td>\n",
       "      <td>0.111306</td>\n",
       "      <td>0.041470</td>\n",
       "      <td>0.096207</td>\n",
       "      <td>0.121070</td>\n",
       "      <td>0.033862</td>\n",
       "      <td>0.700532</td>\n",
       "      <td>0.026236</td>\n",
       "      <td>0.032126</td>\n",
       "      <td>...</td>\n",
       "      <td>0.018555</td>\n",
       "      <td>0.138119</td>\n",
       "      <td>0.063287</td>\n",
       "      <td>0.092645</td>\n",
       "      <td>0.140571</td>\n",
       "      <td>0.096650</td>\n",
       "      <td>0.387858</td>\n",
       "      <td>0.228566</td>\n",
       "      <td>0.784708</td>\n",
       "      <td>0.681607</td>\n",
       "    </tr>\n",
       "    <tr>\n",
       "      <th>min</th>\n",
       "      <td>2007.000000</td>\n",
       "      <td>1.000000</td>\n",
       "      <td>0.000000</td>\n",
       "      <td>0.000000</td>\n",
       "      <td>0.000000</td>\n",
       "      <td>0.000000</td>\n",
       "      <td>0.000000</td>\n",
       "      <td>0.000000</td>\n",
       "      <td>0.000000</td>\n",
       "      <td>0.000000</td>\n",
       "      <td>...</td>\n",
       "      <td>0.000000</td>\n",
       "      <td>0.000000</td>\n",
       "      <td>0.000000</td>\n",
       "      <td>0.000000</td>\n",
       "      <td>0.000000</td>\n",
       "      <td>0.000000</td>\n",
       "      <td>0.000000</td>\n",
       "      <td>0.000000</td>\n",
       "      <td>0.000000</td>\n",
       "      <td>0.000000</td>\n",
       "    </tr>\n",
       "    <tr>\n",
       "      <th>25%</th>\n",
       "      <td>2009.000000</td>\n",
       "      <td>3.750000</td>\n",
       "      <td>0.000000</td>\n",
       "      <td>0.000000</td>\n",
       "      <td>0.000000</td>\n",
       "      <td>0.000000</td>\n",
       "      <td>0.000000</td>\n",
       "      <td>0.000000</td>\n",
       "      <td>0.000000</td>\n",
       "      <td>0.000000</td>\n",
       "      <td>...</td>\n",
       "      <td>0.000000</td>\n",
       "      <td>0.000000</td>\n",
       "      <td>0.000000</td>\n",
       "      <td>0.000000</td>\n",
       "      <td>0.000000</td>\n",
       "      <td>0.000000</td>\n",
       "      <td>0.000000</td>\n",
       "      <td>0.000000</td>\n",
       "      <td>0.000000</td>\n",
       "      <td>0.000000</td>\n",
       "    </tr>\n",
       "    <tr>\n",
       "      <th>50%</th>\n",
       "      <td>2012.000000</td>\n",
       "      <td>6.500000</td>\n",
       "      <td>0.000000</td>\n",
       "      <td>0.000000</td>\n",
       "      <td>0.000000</td>\n",
       "      <td>0.000000</td>\n",
       "      <td>0.000000</td>\n",
       "      <td>0.000000</td>\n",
       "      <td>0.000000</td>\n",
       "      <td>0.000000</td>\n",
       "      <td>...</td>\n",
       "      <td>0.000000</td>\n",
       "      <td>0.000000</td>\n",
       "      <td>0.000000</td>\n",
       "      <td>0.000000</td>\n",
       "      <td>0.000000</td>\n",
       "      <td>0.000000</td>\n",
       "      <td>0.000000</td>\n",
       "      <td>0.000000</td>\n",
       "      <td>0.000000</td>\n",
       "      <td>0.000000</td>\n",
       "    </tr>\n",
       "    <tr>\n",
       "      <th>75%</th>\n",
       "      <td>2015.000000</td>\n",
       "      <td>9.250000</td>\n",
       "      <td>0.000000</td>\n",
       "      <td>0.000000</td>\n",
       "      <td>0.000000</td>\n",
       "      <td>0.000000</td>\n",
       "      <td>0.000000</td>\n",
       "      <td>0.000000</td>\n",
       "      <td>0.000000</td>\n",
       "      <td>0.000000</td>\n",
       "      <td>...</td>\n",
       "      <td>0.000000</td>\n",
       "      <td>0.000000</td>\n",
       "      <td>0.000000</td>\n",
       "      <td>0.000000</td>\n",
       "      <td>0.000000</td>\n",
       "      <td>0.000000</td>\n",
       "      <td>0.000000</td>\n",
       "      <td>0.000000</td>\n",
       "      <td>0.000000</td>\n",
       "      <td>0.000000</td>\n",
       "    </tr>\n",
       "    <tr>\n",
       "      <th>max</th>\n",
       "      <td>2017.000000</td>\n",
       "      <td>12.000000</td>\n",
       "      <td>2.000000</td>\n",
       "      <td>2.000000</td>\n",
       "      <td>3.000000</td>\n",
       "      <td>2.000000</td>\n",
       "      <td>1.000000</td>\n",
       "      <td>13.000000</td>\n",
       "      <td>1.000000</td>\n",
       "      <td>1.000000</td>\n",
       "      <td>...</td>\n",
       "      <td>1.000000</td>\n",
       "      <td>4.000000</td>\n",
       "      <td>2.000000</td>\n",
       "      <td>5.000000</td>\n",
       "      <td>6.000000</td>\n",
       "      <td>2.000000</td>\n",
       "      <td>9.000000</td>\n",
       "      <td>7.000000</td>\n",
       "      <td>15.000000</td>\n",
       "      <td>4.000000</td>\n",
       "    </tr>\n",
       "  </tbody>\n",
       "</table>\n",
       "<p>8 rows × 21 columns</p>\n",
       "</div>"
      ],
      "text/plain": [
       "              year        month        fatal         Boat      Boating  \\\n",
       "count  8712.000000  8712.000000  8712.000000  8712.000000  8712.000000   \n",
       "mean   2012.000000     6.500000     0.011134     0.001492     0.006543   \n",
       "std       3.162459     3.452251     0.111306     0.041470     0.096207   \n",
       "min    2007.000000     1.000000     0.000000     0.000000     0.000000   \n",
       "25%    2009.000000     3.750000     0.000000     0.000000     0.000000   \n",
       "50%    2012.000000     6.500000     0.000000     0.000000     0.000000   \n",
       "75%    2015.000000     9.250000     0.000000     0.000000     0.000000   \n",
       "max    2017.000000    12.000000     2.000000     2.000000     3.000000   \n",
       "\n",
       "          Provoked  Sea Disaster   Unprovoked  Boating_act  Disaster_act  \\\n",
       "count  8712.000000   8712.000000  8712.000000  8712.000000   8712.000000   \n",
       "mean      0.012282      0.001148     0.117424     0.000689      0.001033   \n",
       "std       0.121070      0.033862     0.700532     0.026236      0.032126   \n",
       "min       0.000000      0.000000     0.000000     0.000000      0.000000   \n",
       "25%       0.000000      0.000000     0.000000     0.000000      0.000000   \n",
       "50%       0.000000      0.000000     0.000000     0.000000      0.000000   \n",
       "75%       0.000000      0.000000     0.000000     0.000000      0.000000   \n",
       "max       2.000000      1.000000    13.000000     1.000000      1.000000   \n",
       "\n",
       "          ...       Filming_act  Fishing_act  Handling_act   Rowing_act  \\\n",
       "count     ...       8712.000000  8712.000000   8712.000000  8712.000000   \n",
       "mean      ...          0.000344     0.014463      0.003558     0.005165   \n",
       "std       ...          0.018555     0.138119      0.063287     0.092645   \n",
       "min       ...          0.000000     0.000000      0.000000     0.000000   \n",
       "25%       ...          0.000000     0.000000      0.000000     0.000000   \n",
       "50%       ...          0.000000     0.000000      0.000000     0.000000   \n",
       "75%       ...          0.000000     0.000000      0.000000     0.000000   \n",
       "max       ...          1.000000     4.000000      2.000000     5.000000   \n",
       "\n",
       "       Shallow Water_act  Spear Fishing_act  Surfing_act  Swimming_act  \\\n",
       "count        8712.000000        8712.000000  8712.000000   8712.000000   \n",
       "mean            0.009986           0.008494     0.054178      0.026056   \n",
       "std             0.140571           0.096650     0.387858      0.228566   \n",
       "min             0.000000           0.000000     0.000000      0.000000   \n",
       "25%             0.000000           0.000000     0.000000      0.000000   \n",
       "50%             0.000000           0.000000     0.000000      0.000000   \n",
       "75%             0.000000           0.000000     0.000000      0.000000   \n",
       "max             6.000000           2.000000     9.000000      7.000000   \n",
       "\n",
       "            attack        phase  \n",
       "count  8712.000000  8712.000000  \n",
       "mean      0.138889     0.160698  \n",
       "std       0.784708     0.681607  \n",
       "min       0.000000     0.000000  \n",
       "25%       0.000000     0.000000  \n",
       "50%       0.000000     0.000000  \n",
       "75%       0.000000     0.000000  \n",
       "max      15.000000     4.000000  \n",
       "\n",
       "[8 rows x 21 columns]"
      ]
     },
     "execution_count": 21,
     "metadata": {},
     "output_type": "execute_result"
    }
   ],
   "source": [
    "full_cym.describe()"
   ]
  },
  {
   "cell_type": "markdown",
   "metadata": {},
   "source": [
    "<b>DAG (pattern) construction</b><br>\n",
    "Given the set of conditional independencies in a probability distribution, we try to find a DAG for which the Markov condition entails all and only those conditional independencies (test for conditional independence using the Chi-squared test).\n",
    "\n",
    "1. Construct an undirected skeleton - estimate_skeleton()\n",
    "2. Orient compelled edges to obtain partially directed acyclid graph (PDAG; I-equivalence class of DAGs) - skeleton_to_pdag()\n",
    "3. Extend DAG pattern to a DAG by conservatively orienting the remaining edges - pdag_to_dag()\n",
    "    - Completes a PDAG to a DAG, without adding v-structures, if such a completion exists.\n",
    "    - http://www.jmlr.org/papers/volume2/chickering02a/chickering02a.pdf\n",
    "\n",
    "Step 1 and 2 form the so-called PC algorithm (page 550). PDAGs are DirectedGraphs, that may contain both-way edges, to indicate that the orientation for the edge is not determined."
   ]
  },
  {
   "cell_type": "markdown",
   "metadata": {},
   "source": [
    "http://www.cs.technion.ac.il/~dang/books/Learning%20Bayesian%20Networks(Neapolitan,%20Richard).pdf"
   ]
  },
  {
   "cell_type": "code",
   "execution_count": 22,
   "metadata": {
    "collapsed": true
   },
   "outputs": [],
   "source": [
    "# construct the estimator"
   ]
  },
  {
   "cell_type": "code",
   "execution_count": 23,
   "metadata": {
    "collapsed": false
   },
   "outputs": [
    {
     "data": {
      "text/plain": [
       "Index(['geo_country', 'year', 'month', 'fatal', 'Boat', 'Boating', 'Provoked',\n",
       "       'Sea Disaster', 'Unprovoked', 'Boating_act', 'Disaster_act',\n",
       "       'Diving_act', 'Filming_act', 'Fishing_act', 'Handling_act',\n",
       "       'Rowing_act', 'Shallow Water_act', 'Spear Fishing_act', 'Surfing_act',\n",
       "       'Swimming_act', 'attack', 'phase', 'log_pop_cat'],\n",
       "      dtype='object')"
      ]
     },
     "execution_count": 23,
     "metadata": {},
     "output_type": "execute_result"
    }
   ],
   "source": [
    "full_cym.columns"
   ]
  },
  {
   "cell_type": "code",
   "execution_count": 24,
   "metadata": {
    "collapsed": false,
    "scrolled": true
   },
   "outputs": [],
   "source": [
    "est = ConstraintBasedEstimator(full_cym)"
   ]
  },
  {
   "cell_type": "code",
   "execution_count": 25,
   "metadata": {
    "collapsed": false,
    "scrolled": true
   },
   "outputs": [
    {
     "name": "stdout",
     "output_type": "stream",
     "text": [
      "Undirected edges:  [('Rowing_act', 'Boating'), ('Unprovoked', 'Provoked'), ('Unprovoked', 'attack'), ('Unprovoked', 'Fishing_act'), ('phase', 'attack'), ('Sea Disaster', 'Disaster_act'), ('Filming_act', 'fatal'), ('geo_country', 'log_pop_cat'), ('attack', 'Boating')]\n",
      "PDAG edges:        [('phase', 'attack'), ('Rowing_act', 'Boating'), ('log_pop_cat', 'geo_country'), ('geo_country', 'log_pop_cat'), ('Provoked', 'Unprovoked'), ('Sea Disaster', 'Disaster_act'), ('Disaster_act', 'Sea Disaster'), ('attack', 'Boating'), ('attack', 'Unprovoked'), ('attack', 'phase'), ('Filming_act', 'fatal'), ('Fishing_act', 'Unprovoked'), ('fatal', 'Filming_act')]\n",
      "DAG edges:         [('Rowing_act', 'Boating'), ('log_pop_cat', 'geo_country'), ('Provoked', 'Unprovoked'), ('Disaster_act', 'Sea Disaster'), ('attack', 'phase'), ('attack', 'Unprovoked'), ('attack', 'Boating'), ('Fishing_act', 'Unprovoked'), ('fatal', 'Filming_act')]\n"
     ]
    }
   ],
   "source": [
    "# learn the structure of the network\n",
    "skel, seperating_sets = est.estimate_skeleton(significance_level=0.15)\n",
    "print(\"Undirected edges: \", skel.edges())\n",
    "\n",
    "pdag = est.skeleton_to_pdag(skel, seperating_sets)\n",
    "print(\"PDAG edges:       \", pdag.edges())\n",
    "\n",
    "model = est.pdag_to_dag(pdag)\n",
    "print(\"DAG edges:        \", model.edges())"
   ]
  },
  {
   "cell_type": "code",
   "execution_count": 26,
   "metadata": {
    "collapsed": false
   },
   "outputs": [
    {
     "name": "stdout",
     "output_type": "stream",
     "text": [
      "8276\n",
      "436\n"
     ]
    }
   ],
   "source": [
    "# train the model to learn the conditional probability distributions\n",
    "train_data, test_data = train_test_split(full_cym, test_size=0.05, random_state=1)\n",
    "print(len(train_data))\n",
    "print(len(test_data))"
   ]
  },
  {
   "cell_type": "code",
   "execution_count": 27,
   "metadata": {
    "collapsed": false
   },
   "outputs": [
    {
     "name": "stdout",
     "output_type": "stream",
     "text": [
      "1\n",
      "435\n"
     ]
    }
   ],
   "source": [
    "# can't predict on data that falls outside the categories for which the model is trained\n",
    "# shift data from the test set that is outside the train set back to the train set\n",
    "outside_data = pd.DataFrame()\n",
    "for col in train_data.columns:\n",
    "    drop = test_data.loc[~test_data[col].isin(train_data[col])]\n",
    "    if len(drop) > 0:\n",
    "        outside_data = pd.concat([outside_data, test_data.loc[~test_data[col].isin(train_data[col].tolist())]])\n",
    "        test_data = test_data.loc[test_data[col].isin(train_data[col].tolist())]\n",
    "print(len(outside_data))\n",
    "print(len(test_data))"
   ]
  },
  {
   "cell_type": "code",
   "execution_count": 28,
   "metadata": {
    "collapsed": false
   },
   "outputs": [
    {
     "name": "stdout",
     "output_type": "stream",
     "text": [
      "8277\n",
      "435\n"
     ]
    }
   ],
   "source": [
    "# add outside data back to train data\n",
    "train_data = pd.concat([train_data, outside_data])\n",
    "print(len(train_data))\n",
    "print(len(test_data))"
   ]
  },
  {
   "cell_type": "code",
   "execution_count": 29,
   "metadata": {
    "collapsed": false
   },
   "outputs": [
    {
     "name": "stdout",
     "output_type": "stream",
     "text": [
      "CPU times: user 368 ms, sys: 14.5 ms, total: 383 ms\n",
      "Wall time: 404 ms\n"
     ]
    },
    {
     "data": {
      "text/plain": [
       "[<TabularCPD representing P(Boat:3) at 0x11d5bbb70>,\n",
       " <TabularCPD representing P(Boating:4 | Rowing_act:5, attack:15) at 0x119a9c240>,\n",
       " <TabularCPD representing P(Boating_act:2) at 0x11d5bb7f0>,\n",
       " <TabularCPD representing P(Disaster_act:2) at 0x11d5bb4a8>,\n",
       " <TabularCPD representing P(Diving_act:3) at 0x11d4f6f98>,\n",
       " <TabularCPD representing P(Filming_act:2 | fatal:3) at 0x11d4f6e48>,\n",
       " <TabularCPD representing P(Fishing_act:5) at 0x11d4f6550>,\n",
       " <TabularCPD representing P(Handling_act:3) at 0x11d4f60f0>,\n",
       " <TabularCPD representing P(Provoked:3) at 0x11d4f6240>,\n",
       " <TabularCPD representing P(Rowing_act:5) at 0x11d5d3cc0>,\n",
       " <TabularCPD representing P(Sea Disaster:2 | Disaster_act:2) at 0x11d5d3400>,\n",
       " <TabularCPD representing P(Shallow Water_act:6) at 0x11d5d3358>,\n",
       " <TabularCPD representing P(Spear Fishing_act:3) at 0x11d5d3c50>,\n",
       " <TabularCPD representing P(Surfing_act:9) at 0x11d4f62e8>,\n",
       " <TabularCPD representing P(Swimming_act:8) at 0x11d4f66d8>,\n",
       " <TabularCPD representing P(Unprovoked:13 | Fishing_act:5, Provoked:3, attack:15) at 0x11d5e2d30>,\n",
       " <TabularCPD representing P(attack:15) at 0x11d5e2208>,\n",
       " <TabularCPD representing P(fatal:3) at 0x11d5e26d8>,\n",
       " <TabularCPD representing P(geo_country:66 | log_pop_cat:10) at 0x11d5e2e80>,\n",
       " <TabularCPD representing P(log_pop_cat:10) at 0x11d34de80>,\n",
       " <TabularCPD representing P(month:12) at 0x11d5bb470>,\n",
       " <TabularCPD representing P(phase:5 | attack:15) at 0x11d5bb550>,\n",
       " <TabularCPD representing P(year:11) at 0x11d5d3ef0>]"
      ]
     },
     "execution_count": 29,
     "metadata": {},
     "output_type": "execute_result"
    }
   ],
   "source": [
    "# train the model and find the conditional probability distributions\n",
    "%time model.fit(train_data)\n",
    "model.get_cpds()"
   ]
  },
  {
   "cell_type": "code",
   "execution_count": 30,
   "metadata": {
    "collapsed": false
   },
   "outputs": [
    {
     "name": "stdout",
     "output_type": "stream",
     "text": [
      "CPU times: user 2min, sys: 1.13 s, total: 2min 1s\n",
      "Wall time: 2min 4s\n"
     ]
    }
   ],
   "source": [
    "# test the model by predicting number of attacks\n",
    "test_data_drop = test_data.drop('attack', axis=1)\n",
    "%time preds = model.predict(test_data_drop)"
   ]
  },
  {
   "cell_type": "code",
   "execution_count": 31,
   "metadata": {
    "collapsed": false
   },
   "outputs": [
    {
     "data": {
      "text/plain": [
       "attack    57.0\n",
       "dtype: float64"
      ]
     },
     "execution_count": 31,
     "metadata": {},
     "output_type": "execute_result"
    }
   ],
   "source": [
    "preds.sum()"
   ]
  },
  {
   "cell_type": "code",
   "execution_count": 32,
   "metadata": {
    "collapsed": false
   },
   "outputs": [
    {
     "name": "stdout",
     "output_type": "stream",
     "text": [
      "100.0 accuracy\n"
     ]
    }
   ],
   "source": [
    "test_data['predicted'] = preds\n",
    "agree = sum(test_data['attack']==test_data['predicted'])\n",
    "print('{} accuracy'.format(round(agree/len(test_data)*100), 3))"
   ]
  },
  {
   "cell_type": "code",
   "execution_count": 33,
   "metadata": {
    "collapsed": false
   },
   "outputs": [
    {
     "name": "stdout",
     "output_type": "stream",
     "text": [
      "Variable Elimination\n",
      "╒═══════════╤═══════════════╕\n",
      "│ attack    │   phi(attack) │\n",
      "╞═══════════╪═══════════════╡\n",
      "│ attack_0  │        0.9372 │\n",
      "├───────────┼───────────────┤\n",
      "│ attack_1  │        0.0388 │\n",
      "├───────────┼───────────────┤\n",
      "│ attack_2  │        0.0082 │\n",
      "├───────────┼───────────────┤\n",
      "│ attack_3  │        0.0051 │\n",
      "├───────────┼───────────────┤\n",
      "│ attack_4  │        0.0030 │\n",
      "├───────────┼───────────────┤\n",
      "│ attack_5  │        0.0023 │\n",
      "├───────────┼───────────────┤\n",
      "│ attack_6  │        0.0017 │\n",
      "├───────────┼───────────────┤\n",
      "│ attack_7  │        0.0010 │\n",
      "├───────────┼───────────────┤\n",
      "│ attack_8  │        0.0010 │\n",
      "├───────────┼───────────────┤\n",
      "│ attack_9  │        0.0001 │\n",
      "├───────────┼───────────────┤\n",
      "│ attack_10 │        0.0005 │\n",
      "├───────────┼───────────────┤\n",
      "│ attack_11 │        0.0004 │\n",
      "├───────────┼───────────────┤\n",
      "│ attack_12 │        0.0004 │\n",
      "├───────────┼───────────────┤\n",
      "│ attack_13 │        0.0002 │\n",
      "├───────────┼───────────────┤\n",
      "│ attack_14 │        0.0002 │\n",
      "╘═══════════╧═══════════════╛\n",
      "╒═══════════╤═══════════════╕\n",
      "│ attack    │   phi(attack) │\n",
      "╞═══════════╪═══════════════╡\n",
      "│ attack_0  │        0.0000 │\n",
      "├───────────┼───────────────┤\n",
      "│ attack_1  │        0.6724 │\n",
      "├───────────┼───────────────┤\n",
      "│ attack_2  │        0.1207 │\n",
      "├───────────┼───────────────┤\n",
      "│ attack_3  │        0.0862 │\n",
      "├───────────┼───────────────┤\n",
      "│ attack_4  │        0.0259 │\n",
      "├───────────┼───────────────┤\n",
      "│ attack_5  │        0.0431 │\n",
      "├───────────┼───────────────┤\n",
      "│ attack_6  │        0.0259 │\n",
      "├───────────┼───────────────┤\n",
      "│ attack_7  │        0.0086 │\n",
      "├───────────┼───────────────┤\n",
      "│ attack_8  │        0.0000 │\n",
      "├───────────┼───────────────┤\n",
      "│ attack_9  │        0.0000 │\n",
      "├───────────┼───────────────┤\n",
      "│ attack_10 │        0.0086 │\n",
      "├───────────┼───────────────┤\n",
      "│ attack_11 │        0.0086 │\n",
      "├───────────┼───────────────┤\n",
      "│ attack_12 │        0.0000 │\n",
      "├───────────┼───────────────┤\n",
      "│ attack_13 │        0.0000 │\n",
      "├───────────┼───────────────┤\n",
      "│ attack_14 │        0.0000 │\n",
      "╘═══════════╧═══════════════╛\n"
     ]
    }
   ],
   "source": [
    "# conduct inference on the model (prop of outcomes given evidence)\n",
    "print('Variable Elimination')\n",
    "ve = VariableElimination(model)\n",
    "# unconditional probability of attack\n",
    "print(ve.query(variables=['attack'])['attack'])\n",
    "\n",
    "# conditional probability of attack given 1 Sea Disaster\n",
    "print(ve.query(variables=['attack'], evidence={'phase': 1})['attack'])"
   ]
  },
  {
   "cell_type": "code",
   "execution_count": 34,
   "metadata": {
    "collapsed": false
   },
   "outputs": [
    {
     "name": "stdout",
     "output_type": "stream",
     "text": [
      "╒════════════╤═════════════╤═════════════════════╤═════════════════════╤═════════════════════╤═════════════╤═════════════════════╤═════════════════════╤═════════════╤═════════════╤═════════════╤══════════════╤════════════════════╤════════════════════╤══════════════╤══════════════╕\n",
      "│ attack     │ attack(0.0) │ attack(1.0)         │ attack(2.0)         │ attack(3.0)         │ attack(4.0) │ attack(5.0)         │ attack(6.0)         │ attack(7.0) │ attack(8.0) │ attack(9.0) │ attack(10.0) │ attack(11.0)       │ attack(12.0)       │ attack(13.0) │ attack(15.0) │\n",
      "├────────────┼─────────────┼─────────────────────┼─────────────────────┼─────────────────────┼─────────────┼─────────────────────┼─────────────────────┼─────────────┼─────────────┼─────────────┼──────────────┼────────────────────┼────────────────────┼──────────────┼──────────────┤\n",
      "│ phase(0.0) │ 1.0         │ 0.0                 │ 0.0                 │ 0.0                 │ 0.0         │ 0.0                 │ 0.0                 │ 0.0         │ 0.0         │ 0.0         │ 0.0          │ 0.0                │ 0.0                │ 0.0          │ 0.0          │\n",
      "├────────────┼─────────────┼─────────────────────┼─────────────────────┼─────────────────────┼─────────────┼─────────────────────┼─────────────────────┼─────────────┼─────────────┼─────────────┼──────────────┼────────────────────┼────────────────────┼──────────────┼──────────────┤\n",
      "│ phase(1.0) │ 0.0         │ 0.24299065420560748 │ 0.20588235294117646 │ 0.23809523809523808 │ 0.12        │ 0.2631578947368421  │ 0.21428571428571427 │ 0.125       │ 0.0         │ 0.0         │ 0.25         │ 0.3333333333333333 │ 0.0                │ 0.0          │ 0.0          │\n",
      "├────────────┼─────────────┼─────────────────────┼─────────────────────┼─────────────────────┼─────────────┼─────────────────────┼─────────────────────┼─────────────┼─────────────┼─────────────┼──────────────┼────────────────────┼────────────────────┼──────────────┼──────────────┤\n",
      "│ phase(2.0) │ 0.0         │ 0.24922118380062305 │ 0.29411764705882354 │ 0.21428571428571427 │ 0.24        │ 0.3157894736842105  │ 0.14285714285714285 │ 0.625       │ 0.5         │ 0.0         │ 0.0          │ 0.3333333333333333 │ 0.3333333333333333 │ 0.0          │ 0.0          │\n",
      "├────────────┼─────────────┼─────────────────────┼─────────────────────┼─────────────────────┼─────────────┼─────────────────────┼─────────────────────┼─────────────┼─────────────┼─────────────┼──────────────┼────────────────────┼────────────────────┼──────────────┼──────────────┤\n",
      "│ phase(3.0) │ 0.0         │ 0.24922118380062305 │ 0.17647058823529413 │ 0.23809523809523808 │ 0.16        │ 0.21052631578947367 │ 0.5                 │ 0.125       │ 0.25        │ 0.0         │ 0.25         │ 0.3333333333333333 │ 0.3333333333333333 │ 0.0          │ 1.0          │\n",
      "├────────────┼─────────────┼─────────────────────┼─────────────────────┼─────────────────────┼─────────────┼─────────────────────┼─────────────────────┼─────────────┼─────────────┼─────────────┼──────────────┼────────────────────┼────────────────────┼──────────────┼──────────────┤\n",
      "│ phase(4.0) │ 0.0         │ 0.2585669781931464  │ 0.3235294117647059  │ 0.30952380952380953 │ 0.48        │ 0.21052631578947367 │ 0.14285714285714285 │ 0.125       │ 0.25        │ 1.0         │ 0.5          │ 0.0                │ 0.3333333333333333 │ 1.0          │ 0.0          │\n",
      "╘════════════╧═════════════╧═════════════════════╧═════════════════════╧═════════════════════╧═════════════╧═════════════════════╧═════════════════════╧═════════════╧═════════════╧═════════════╧══════════════╧════════════════════╧════════════════════╧══════════════╧══════════════╛\n"
     ]
    }
   ],
   "source": [
    "print(model.get_cpds('phase'))"
   ]
  },
  {
   "cell_type": "code",
   "execution_count": 55,
   "metadata": {
    "collapsed": false
   },
   "outputs": [
    {
     "data": {
      "image/png": "[encoded data removed]",
      "text/plain": [
       "<matplotlib.figure.Figure at 0x119c78278>"
      ]
     },
     "metadata": {},
     "output_type": "display_data"
    }
   ],
   "source": [
    "# graph the network\n",
    "import networkx as nx\n",
    "import matplotlib.pyplot as plt\n",
    "%matplotlib inline\n",
    "\n",
    "G = nx.DiGraph()\n",
    "G.add_edges_from(model.edges())\n",
    "\n",
    "pos = nx.spring_layout(G)\n",
    "nx.draw(G, pos)\n",
    "for k, v in pos.items():\n",
    "    pos[k][1] += 0.1\n",
    "nx.draw_networkx_labels(G, pos)\n",
    "\n",
    "plt.show()"
   ]
  },
  {
   "cell_type": "markdown",
   "metadata": {},
   "source": [
    "## Bayseian Network of Shark Attacks per Country-Year-Month"
   ]
  },
  {
   "cell_type": "code",
   "execution_count": 197,
   "metadata": {
    "collapsed": false
   },
   "outputs": [
    {
     "name": "stdout",
     "output_type": "stream",
     "text": [
      "╒═══════════╤═══════════════╕\n",
      "│ attack    │   phi(attack) │\n",
      "╞═══════════╪═══════════════╡\n",
      "│ attack_0  │        0.9372 │\n",
      "├───────────┼───────────────┤\n",
      "│ attack_1  │        0.0388 │\n",
      "├───────────┼───────────────┤\n",
      "│ attack_2  │        0.0082 │\n",
      "├───────────┼───────────────┤\n",
      "│ attack_3  │        0.0051 │\n",
      "├───────────┼───────────────┤\n",
      "│ attack_4  │        0.0030 │\n",
      "├───────────┼───────────────┤\n",
      "│ attack_5  │        0.0023 │\n",
      "├───────────┼───────────────┤\n",
      "│ attack_6  │        0.0017 │\n",
      "├───────────┼───────────────┤\n",
      "│ attack_7  │        0.0010 │\n",
      "├───────────┼───────────────┤\n",
      "│ attack_8  │        0.0010 │\n",
      "├───────────┼───────────────┤\n",
      "│ attack_9  │        0.0001 │\n",
      "├───────────┼───────────────┤\n",
      "│ attack_10 │        0.0005 │\n",
      "├───────────┼───────────────┤\n",
      "│ attack_11 │        0.0004 │\n",
      "├───────────┼───────────────┤\n",
      "│ attack_12 │        0.0004 │\n",
      "├───────────┼───────────────┤\n",
      "│ attack_13 │        0.0002 │\n",
      "├───────────┼───────────────┤\n",
      "│ attack_14 │        0.0002 │\n",
      "╘═══════════╧═══════════════╛\n"
     ]
    }
   ],
   "source": [
    "print(ve.query(variables=['attack'], evidence={'phase': 4})['attack'])"
   ]
  },
  {
   "cell_type": "code",
   "execution_count": 198,
   "metadata": {
    "collapsed": false
   },
   "outputs": [
    {
     "name": "stdout",
     "output_type": "stream",
     "text": [
      "╒════════════╤═════════════════╕\n",
      "│ Provoked   │   phi(Provoked) │\n",
      "╞════════════╪═════════════════╡\n",
      "│ Provoked_0 │          0.9767 │\n",
      "├────────────┼─────────────────┤\n",
      "│ Provoked_1 │          0.0204 │\n",
      "├────────────┼─────────────────┤\n",
      "│ Provoked_2 │          0.0028 │\n",
      "╘════════════╧═════════════════╛\n"
     ]
    }
   ],
   "source": [
    "# conditional probability of provoked attack, given an unprovoked attack\n",
    "print(ve.query(variables=['Provoked'], evidence={'Unprovoked': 1})['Provoked'])"
   ]
  },
  {
   "cell_type": "code",
   "execution_count": 199,
   "metadata": {
    "collapsed": false
   },
   "outputs": [
    {
     "name": "stdout",
     "output_type": "stream",
     "text": [
      "╒════════════╤═════════════════╕\n",
      "│ Provoked   │   phi(Provoked) │\n",
      "╞════════════╪═════════════════╡\n",
      "│ Provoked_0 │          0.9889 │\n",
      "├────────────┼─────────────────┤\n",
      "│ Provoked_1 │          0.0098 │\n",
      "├────────────┼─────────────────┤\n",
      "│ Provoked_2 │          0.0013 │\n",
      "╘════════════╧═════════════════╛\n"
     ]
    }
   ],
   "source": [
    "# compared to the straight probability for a prokoked attack, we see that when there was an unprovoked attack it is\n",
    "# also more likely that there was a provoked attack\n",
    "print(ve.query(variables=['Provoked'])['Provoked'])"
   ]
  },
  {
   "cell_type": "code",
   "execution_count": 200,
   "metadata": {
    "collapsed": false
   },
   "outputs": [
    {
     "data": {
      "text/plain": [
       "(array([39]),)"
      ]
     },
     "execution_count": 200,
     "metadata": {},
     "output_type": "execute_result"
    }
   ],
   "source": [
    "np.where(train_data['geo_country'].unique()=='United States')"
   ]
  },
  {
   "cell_type": "code",
   "execution_count": 201,
   "metadata": {
    "collapsed": false
   },
   "outputs": [
    {
     "name": "stdout",
     "output_type": "stream",
     "text": [
      "╒═══════════╤═══════════════╕\n",
      "│ attack    │   phi(attack) │\n",
      "╞═══════════╪═══════════════╡\n",
      "│ attack_0  │        0.9372 │\n",
      "├───────────┼───────────────┤\n",
      "│ attack_1  │        0.0388 │\n",
      "├───────────┼───────────────┤\n",
      "│ attack_2  │        0.0082 │\n",
      "├───────────┼───────────────┤\n",
      "│ attack_3  │        0.0051 │\n",
      "├───────────┼───────────────┤\n",
      "│ attack_4  │        0.0030 │\n",
      "├───────────┼───────────────┤\n",
      "│ attack_5  │        0.0023 │\n",
      "├───────────┼───────────────┤\n",
      "│ attack_6  │        0.0017 │\n",
      "├───────────┼───────────────┤\n",
      "│ attack_7  │        0.0010 │\n",
      "├───────────┼───────────────┤\n",
      "│ attack_8  │        0.0010 │\n",
      "├───────────┼───────────────┤\n",
      "│ attack_9  │        0.0001 │\n",
      "├───────────┼───────────────┤\n",
      "│ attack_10 │        0.0005 │\n",
      "├───────────┼───────────────┤\n",
      "│ attack_11 │        0.0004 │\n",
      "├───────────┼───────────────┤\n",
      "│ attack_12 │        0.0004 │\n",
      "├───────────┼───────────────┤\n",
      "│ attack_13 │        0.0002 │\n",
      "├───────────┼───────────────┤\n",
      "│ attack_14 │        0.0002 │\n",
      "╘═══════════╧═══════════════╛\n"
     ]
    }
   ],
   "source": [
    "# given that you're minding your own business, what happens to attacks\n",
    "print(ve.query(variables=['attack'], evidence={'geo_country': 10})['attack'])"
   ]
  },
  {
   "cell_type": "code",
   "execution_count": 35,
   "metadata": {
    "collapsed": false
   },
   "outputs": [
    {
     "name": "stdout",
     "output_type": "stream",
     "text": [
      "╒═══════════╤═══════════════╕\n",
      "│ attack    │   phi(attack) │\n",
      "╞═══════════╪═══════════════╡\n",
      "│ attack_0  │        0.9372 │\n",
      "├───────────┼───────────────┤\n",
      "│ attack_1  │        0.0388 │\n",
      "├───────────┼───────────────┤\n",
      "│ attack_2  │        0.0082 │\n",
      "├───────────┼───────────────┤\n",
      "│ attack_3  │        0.0051 │\n",
      "├───────────┼───────────────┤\n",
      "│ attack_4  │        0.0030 │\n",
      "├───────────┼───────────────┤\n",
      "│ attack_5  │        0.0023 │\n",
      "├───────────┼───────────────┤\n",
      "│ attack_6  │        0.0017 │\n",
      "├───────────┼───────────────┤\n",
      "│ attack_7  │        0.0010 │\n",
      "├───────────┼───────────────┤\n",
      "│ attack_8  │        0.0010 │\n",
      "├───────────┼───────────────┤\n",
      "│ attack_9  │        0.0001 │\n",
      "├───────────┼───────────────┤\n",
      "│ attack_10 │        0.0005 │\n",
      "├───────────┼───────────────┤\n",
      "│ attack_11 │        0.0004 │\n",
      "├───────────┼───────────────┤\n",
      "│ attack_12 │        0.0004 │\n",
      "├───────────┼───────────────┤\n",
      "│ attack_13 │        0.0002 │\n",
      "├───────────┼───────────────┤\n",
      "│ attack_14 │        0.0002 │\n",
      "╘═══════════╧═══════════════╛\n"
     ]
    }
   ],
   "source": [
    "print(ve.query(variables=['attack'])['attack'])"
   ]
  },
  {
   "cell_type": "code",
   "execution_count": 202,
   "metadata": {
    "collapsed": false
   },
   "outputs": [
    {
     "name": "stdout",
     "output_type": "stream",
     "text": [
      "╒═══════════════╤═══════════════════╕\n",
      "│ Unprovoked    │   phi(Unprovoked) │\n",
      "╞═══════════════╪═══════════════════╡\n",
      "│ Unprovoked_0  │            0.9191 │\n",
      "├───────────────┼───────────────────┤\n",
      "│ Unprovoked_1  │            0.0385 │\n",
      "├───────────────┼───────────────────┤\n",
      "│ Unprovoked_2  │            0.0099 │\n",
      "├───────────────┼───────────────────┤\n",
      "│ Unprovoked_3  │            0.0069 │\n",
      "├───────────────┼───────────────────┤\n",
      "│ Unprovoked_4  │            0.0047 │\n",
      "├───────────────┼───────────────────┤\n",
      "│ Unprovoked_5  │            0.0040 │\n",
      "├───────────────┼───────────────────┤\n",
      "│ Unprovoked_6  │            0.0037 │\n",
      "├───────────────┼───────────────────┤\n",
      "│ Unprovoked_7  │            0.0026 │\n",
      "├───────────────┼───────────────────┤\n",
      "│ Unprovoked_8  │            0.0026 │\n",
      "├───────────────┼───────────────────┤\n",
      "│ Unprovoked_9  │            0.0019 │\n",
      "├───────────────┼───────────────────┤\n",
      "│ Unprovoked_10 │            0.0019 │\n",
      "├───────────────┼───────────────────┤\n",
      "│ Unprovoked_11 │            0.0022 │\n",
      "├───────────────┼───────────────────┤\n",
      "│ Unprovoked_12 │            0.0021 │\n",
      "╘═══════════════╧═══════════════════╛\n"
     ]
    }
   ],
   "source": [
    "print(ve.query(variables=['Unprovoked'])['Unprovoked'])"
   ]
  },
  {
   "cell_type": "markdown",
   "metadata": {
    "collapsed": true
   },
   "source": [
    "## So we notice Surfing is not in our model. That is because there are few countries with high relative areas of recreational coastline. To make our model more relevant to us here in the United States, I will create a model with countries with the most instances of surfing/swimming/scubadiving activities."
   ]
  },
  {
   "cell_type": "code",
   "execution_count": 203,
   "metadata": {
    "collapsed": false
   },
   "outputs": [
    {
     "data": {
      "text/plain": [
       "Index(['geo_country', 'year', 'month', 'fatal', 'Boat', 'Boating', 'Provoked',\n",
       "       'Sea Disaster', 'Unprovoked', 'Boating_act', 'Disaster_act',\n",
       "       'Diving_act', 'Filming_act', 'Fishing_act', 'Handling_act',\n",
       "       'Rowing_act', 'Shallow Water_act', 'Spear Fishing_act', 'Surfing_act',\n",
       "       'Swimming_act', 'attack', 'phase', 'log_pop_cat'],\n",
       "      dtype='object')"
      ]
     },
     "execution_count": 203,
     "metadata": {},
     "output_type": "execute_result"
    }
   ],
   "source": [
    "full_cym.columns"
   ]
  },
  {
   "cell_type": "code",
   "execution_count": 204,
   "metadata": {
    "collapsed": false
   },
   "outputs": [
    {
     "data": {
      "text/plain": [
       "472.0"
      ]
     },
     "execution_count": 204,
     "metadata": {},
     "output_type": "execute_result"
    }
   ],
   "source": [
    "full_cym['Surfing_act'].sum()"
   ]
  },
  {
   "cell_type": "code",
   "execution_count": 205,
   "metadata": {
    "collapsed": false
   },
   "outputs": [],
   "source": [
    "rec_activities = ['Diving_act', 'Shallow Water_act', 'Surfing_act', 'Swimming_act', 'Rowing_act']\n",
    "recreation_list = []\n",
    "for i in range(0,len(full_cym)):\n",
    "    c = 0\n",
    "    for j in rec_activities:\n",
    "        if full_cym[j][i] > 0:\n",
    "            c += full_cym[j][i]\n",
    "    recreation_list.append(c)"
   ]
  },
  {
   "cell_type": "code",
   "execution_count": 206,
   "metadata": {
    "collapsed": true
   },
   "outputs": [],
   "source": [
    "full_cym['recreation'] = recreation_list"
   ]
  },
  {
   "cell_type": "code",
   "execution_count": 207,
   "metadata": {
    "collapsed": false
   },
   "outputs": [],
   "source": [
    "rec_df = full_cym[rec_activities + ['recreation','geo_country']]"
   ]
  },
  {
   "cell_type": "code",
   "execution_count": 208,
   "metadata": {
    "collapsed": false
   },
   "outputs": [
    {
     "data": {
      "text/plain": [
       "890.0"
      ]
     },
     "execution_count": 208,
     "metadata": {},
     "output_type": "execute_result"
    }
   ],
   "source": [
    "rec_df['recreation'].sum()"
   ]
  },
  {
   "cell_type": "code",
   "execution_count": 209,
   "metadata": {
    "collapsed": false
   },
   "outputs": [],
   "source": [
    "rec_countries = pd.DataFrame(rec_df.groupby('geo_country')['recreation'].sum())"
   ]
  },
  {
   "cell_type": "code",
   "execution_count": 210,
   "metadata": {
    "collapsed": false
   },
   "outputs": [
    {
     "name": "stdout",
     "output_type": "stream",
     "text": [
      "9.5\n"
     ]
    }
   ],
   "source": [
    "a = np.array(rec_countries['recreation'])\n",
    "p = np.percentile(a, 85)\n",
    "print(p)"
   ]
  },
  {
   "cell_type": "code",
   "execution_count": 211,
   "metadata": {
    "collapsed": false,
    "scrolled": true
   },
   "outputs": [],
   "source": [
    "rec_countries.sort_values('recreation', ascending = False, inplace = True)"
   ]
  },
  {
   "cell_type": "code",
   "execution_count": 212,
   "metadata": {
    "collapsed": false
   },
   "outputs": [
    {
     "data": {
      "text/plain": [
       "<matplotlib.axes._subplots.AxesSubplot at 0x11db894a8>"
      ]
     },
     "execution_count": 212,
     "metadata": {},
     "output_type": "execute_result"
    },
    {
     "data": {
      "image/png": "[encoded data removed]",
      "text/plain": [
       "<matplotlib.figure.Figure at 0x11f8cef28>"
      ]
     },
     "metadata": {},
     "output_type": "display_data"
    }
   ],
   "source": [
    "rec_countries[rec_countries['recreation']>p].plot(kind = 'bar', figsize = (20, 10), fontsize = 14)"
   ]
  },
  {
   "cell_type": "code",
   "execution_count": 213,
   "metadata": {
    "collapsed": true
   },
   "outputs": [],
   "source": [
    "#restrict data to just Countries in the 85th percentile of shark occurances and recreational activities."
   ]
  },
  {
   "cell_type": "code",
   "execution_count": 214,
   "metadata": {
    "collapsed": false
   },
   "outputs": [],
   "source": [
    "full_cym = full_cym[full_cym['geo_country'].isin(['United States', 'Australia', 'South Africa', 'Reunion', 'Egypt', 'New Caledonia',\n",
    "                                    'New Zealand', 'Mexico', 'Brazil', 'Bahamas'])]"
   ]
  },
  {
   "cell_type": "code",
   "execution_count": 215,
   "metadata": {
    "collapsed": true
   },
   "outputs": [],
   "source": [
    "del full_cym['recreation']"
   ]
  },
  {
   "cell_type": "code",
   "execution_count": 216,
   "metadata": {
    "collapsed": false
   },
   "outputs": [
    {
     "data": {
      "text/plain": [
       "Index(['geo_country', 'year', 'month', 'fatal', 'Boat', 'Boating', 'Provoked',\n",
       "       'Sea Disaster', 'Unprovoked', 'Boating_act', 'Disaster_act',\n",
       "       'Diving_act', 'Filming_act', 'Fishing_act', 'Handling_act',\n",
       "       'Rowing_act', 'Shallow Water_act', 'Spear Fishing_act', 'Surfing_act',\n",
       "       'Swimming_act', 'attack', 'phase', 'log_pop_cat'],\n",
       "      dtype='object')"
      ]
     },
     "execution_count": 216,
     "metadata": {},
     "output_type": "execute_result"
    }
   ],
   "source": [
    "full_cym.columns"
   ]
  },
  {
   "cell_type": "code",
   "execution_count": 217,
   "metadata": {
    "collapsed": true
   },
   "outputs": [],
   "source": [
    "del full_cym['Boat']\n",
    "del full_cym['Boating']\n",
    "del full_cym['Provoked']\n",
    "del full_cym['Sea Disaster']\n",
    "del full_cym['Unprovoked']"
   ]
  },
  {
   "cell_type": "code",
   "execution_count": 218,
   "metadata": {
    "collapsed": true
   },
   "outputs": [],
   "source": [
    "est = ConstraintBasedEstimator(full_cym)"
   ]
  },
  {
   "cell_type": "code",
   "execution_count": 219,
   "metadata": {
    "collapsed": false
   },
   "outputs": [
    {
     "name": "stdout",
     "output_type": "stream",
     "text": [
      "Undirected edges:  [('Spear Fishing_act', 'Filming_act'), ('log_pop_cat', 'geo_country'), ('attack', 'Surfing_act'), ('attack', 'phase'), ('attack', 'Swimming_act'), ('fatal', 'Diving_act')]\n",
      "PDAG edges:        [('Spear Fishing_act', 'Filming_act'), ('phase', 'attack'), ('log_pop_cat', 'geo_country'), ('attack', 'Surfing_act'), ('attack', 'Swimming_act'), ('attack', 'phase'), ('fatal', 'Diving_act'), ('Filming_act', 'Spear Fishing_act'), ('Surfing_act', 'attack'), ('Diving_act', 'fatal'), ('geo_country', 'log_pop_cat'), ('Swimming_act', 'attack')]\n",
      "DAG edges:         [('attack', 'Surfing_act'), ('attack', 'phase'), ('Filming_act', 'Spear Fishing_act'), ('Diving_act', 'fatal'), ('geo_country', 'log_pop_cat'), ('Swimming_act', 'attack')]\n"
     ]
    }
   ],
   "source": [
    "# learn the structure of the network\n",
    "skel, seperating_sets = est.estimate_skeleton(significance_level=0.15)\n",
    "print(\"Undirected edges: \", skel.edges())\n",
    "\n",
    "pdag = est.skeleton_to_pdag(skel, seperating_sets)\n",
    "print(\"PDAG edges:       \", pdag.edges())\n",
    "\n",
    "model = est.pdag_to_dag(pdag)\n",
    "print(\"DAG edges:        \", model.edges())"
   ]
  },
  {
   "cell_type": "code",
   "execution_count": 220,
   "metadata": {
    "collapsed": false
   },
   "outputs": [
    {
     "name": "stdout",
     "output_type": "stream",
     "text": [
      "1254\n",
      "66\n"
     ]
    }
   ],
   "source": [
    "# train the model to learn the conditional probability distributions\n",
    "train_data, test_data = train_test_split(full_cym, test_size=0.05, random_state=1)\n",
    "print(len(train_data))\n",
    "print(len(test_data))"
   ]
  },
  {
   "cell_type": "code",
   "execution_count": 221,
   "metadata": {
    "collapsed": false
   },
   "outputs": [
    {
     "name": "stdout",
     "output_type": "stream",
     "text": [
      "0\n",
      "66\n"
     ]
    }
   ],
   "source": [
    "# can't predict on data that falls outside the categories for which the model is trained\n",
    "# shift data from the test set that is outside the train set back to the train set\n",
    "outside_data = pd.DataFrame()\n",
    "for col in train_data.columns:\n",
    "    drop = test_data.loc[~test_data[col].isin(train_data[col])]\n",
    "    if len(drop) > 0:\n",
    "        outside_data = pd.concat([outside_data, test_data.loc[~test_data[col].isin(train_data[col].tolist())]])\n",
    "        test_data = test_data.loc[test_data[col].isin(train_data[col].tolist())]\n",
    "print(len(outside_data))\n",
    "print(len(test_data))"
   ]
  },
  {
   "cell_type": "code",
   "execution_count": 222,
   "metadata": {
    "collapsed": false
   },
   "outputs": [
    {
     "name": "stdout",
     "output_type": "stream",
     "text": [
      "1254\n",
      "66\n"
     ]
    }
   ],
   "source": [
    "# add outside data back to train data\n",
    "train_data = pd.concat([train_data, outside_data])\n",
    "print(len(train_data))\n",
    "print(len(test_data))"
   ]
  },
  {
   "cell_type": "code",
   "execution_count": 223,
   "metadata": {
    "collapsed": false
   },
   "outputs": [
    {
     "name": "stdout",
     "output_type": "stream",
     "text": [
      "CPU times: user 127 ms, sys: 1.71 ms, total: 129 ms\n",
      "Wall time: 140 ms\n"
     ]
    },
    {
     "data": {
      "text/plain": [
       "[<TabularCPD representing P(Boating_act:2) at 0x11f718da0>,\n",
       " <TabularCPD representing P(Disaster_act:2) at 0x11e9665c0>,\n",
       " <TabularCPD representing P(Diving_act:3) at 0x11db4f438>,\n",
       " <TabularCPD representing P(Filming_act:2) at 0x11e721400>,\n",
       " <TabularCPD representing P(Fishing_act:5) at 0x105fadcf8>,\n",
       " <TabularCPD representing P(Handling_act:3) at 0x11e956128>,\n",
       " <TabularCPD representing P(Rowing_act:5) at 0x11d990278>,\n",
       " <TabularCPD representing P(Shallow Water_act:6) at 0x1065070b8>,\n",
       " <TabularCPD representing P(Spear Fishing_act:3 | Filming_act:2) at 0x11f8a4da0>,\n",
       " <TabularCPD representing P(Surfing_act:9 | attack:15) at 0x11db5d828>,\n",
       " <TabularCPD representing P(Swimming_act:8) at 0x11f87a828>,\n",
       " <TabularCPD representing P(attack:15 | Swimming_act:8) at 0x11f87a668>,\n",
       " <TabularCPD representing P(fatal:3 | Diving_act:3) at 0x11e79b7b8>,\n",
       " <TabularCPD representing P(geo_country:10) at 0x11dfa1198>,\n",
       " <TabularCPD representing P(log_pop_cat:6 | geo_country:10) at 0x11d990438>,\n",
       " <TabularCPD representing P(month:12) at 0x119bbe3c8>,\n",
       " <TabularCPD representing P(phase:5 | attack:15) at 0x11d3ed0f0>,\n",
       " <TabularCPD representing P(year:11) at 0x11db160f0>]"
      ]
     },
     "execution_count": 223,
     "metadata": {},
     "output_type": "execute_result"
    }
   ],
   "source": [
    "# train the model and find the conditional probability distributions\n",
    "%time model.fit(train_data)\n",
    "model.get_cpds()"
   ]
  },
  {
   "cell_type": "code",
   "execution_count": 224,
   "metadata": {
    "collapsed": false
   },
   "outputs": [
    {
     "name": "stdout",
     "output_type": "stream",
     "text": [
      "CPU times: user 2.5 s, sys: 9.04 ms, total: 2.51 s\n",
      "Wall time: 2.51 s\n"
     ]
    }
   ],
   "source": [
    "# test the model by predicting number of attacks\n",
    "test_data_drop = test_data.drop('attack', axis=1)\n",
    "%time preds = model.predict(test_data_drop)"
   ]
  },
  {
   "cell_type": "code",
   "execution_count": 225,
   "metadata": {
    "collapsed": false
   },
   "outputs": [
    {
     "data": {
      "text/plain": [
       "attack    38.0\n",
       "dtype: float64"
      ]
     },
     "execution_count": 225,
     "metadata": {},
     "output_type": "execute_result"
    }
   ],
   "source": [
    "preds.sum()"
   ]
  },
  {
   "cell_type": "code",
   "execution_count": 226,
   "metadata": {
    "collapsed": false
   },
   "outputs": [
    {
     "name": "stdout",
     "output_type": "stream",
     "text": [
      "85.0 accuracy\n"
     ]
    }
   ],
   "source": [
    "test_data['predicted'] = preds\n",
    "agree = sum(test_data['attack']==test_data['predicted'])\n",
    "print('{} accuracy'.format(round(agree/len(test_data)*100), 3))"
   ]
  },
  {
   "cell_type": "code",
   "execution_count": 227,
   "metadata": {
    "collapsed": false
   },
   "outputs": [
    {
     "name": "stdout",
     "output_type": "stream",
     "text": [
      "Variable Elimination\n",
      "╒═══════════╤═══════════════╕\n",
      "│ attack    │   phi(attack) │\n",
      "╞═══════════╪═══════════════╡\n",
      "│ attack_0  │        0.6962 │\n",
      "├───────────┼───────────────┤\n",
      "│ attack_1  │        0.1587 │\n",
      "├───────────┼───────────────┤\n",
      "│ attack_2  │        0.0423 │\n",
      "├───────────┼───────────────┤\n",
      "│ attack_3  │        0.0327 │\n",
      "├───────────┼───────────────┤\n",
      "│ attack_4  │        0.0183 │\n",
      "├───────────┼───────────────┤\n",
      "│ attack_5  │        0.0152 │\n",
      "├───────────┼───────────────┤\n",
      "│ attack_6  │        0.0112 │\n",
      "├───────────┼───────────────┤\n",
      "│ attack_7  │        0.0064 │\n",
      "├───────────┼───────────────┤\n",
      "│ attack_8  │        0.0064 │\n",
      "├───────────┼───────────────┤\n",
      "│ attack_9  │        0.0016 │\n",
      "├───────────┼───────────────┤\n",
      "│ attack_10 │        0.0032 │\n",
      "├───────────┼───────────────┤\n",
      "│ attack_11 │        0.0024 │\n",
      "├───────────┼───────────────┤\n",
      "│ attack_12 │        0.0024 │\n",
      "├───────────┼───────────────┤\n",
      "│ attack_13 │        0.0016 │\n",
      "├───────────┼───────────────┤\n",
      "│ attack_14 │        0.0016 │\n",
      "╘═══════════╧═══════════════╛\n",
      "╒═══════════╤═══════════════╕\n",
      "│ attack    │   phi(attack) │\n",
      "╞═══════════╪═══════════════╡\n",
      "│ attack_0  │        0.0000 │\n",
      "├───────────┼───────────────┤\n",
      "│ attack_1  │        0.5515 │\n",
      "├───────────┼───────────────┤\n",
      "│ attack_2  │        0.2279 │\n",
      "├───────────┼───────────────┤\n",
      "│ attack_3  │        0.0882 │\n",
      "├───────────┼───────────────┤\n",
      "│ attack_4  │        0.0662 │\n",
      "├───────────┼───────────────┤\n",
      "│ attack_5  │        0.0147 │\n",
      "├───────────┼───────────────┤\n",
      "│ attack_6  │        0.0294 │\n",
      "├───────────┼───────────────┤\n",
      "│ attack_7  │        0.0074 │\n",
      "├───────────┼───────────────┤\n",
      "│ attack_8  │        0.0147 │\n",
      "├───────────┼───────────────┤\n",
      "│ attack_9  │        0.0000 │\n",
      "├───────────┼───────────────┤\n",
      "│ attack_10 │        0.0000 │\n",
      "├───────────┼───────────────┤\n",
      "│ attack_11 │        0.0000 │\n",
      "├───────────┼───────────────┤\n",
      "│ attack_12 │        0.0000 │\n",
      "├───────────┼───────────────┤\n",
      "│ attack_13 │        0.0000 │\n",
      "├───────────┼───────────────┤\n",
      "│ attack_14 │        0.0000 │\n",
      "╘═══════════╧═══════════════╛\n"
     ]
    }
   ],
   "source": [
    "# conduct inference on the model (prop of outcomes given evidence)\n",
    "print('Variable Elimination')\n",
    "ve = VariableElimination(model)\n",
    "# unconditional probability of attack\n",
    "print(ve.query(variables=['attack'])['attack'])\n",
    "\n",
    "# conditional probability of attack given 1 Sea Disaster\n",
    "print(ve.query(variables=['attack'], evidence={'Surfing_act': 1})['attack'])"
   ]
  },
  {
   "cell_type": "code",
   "execution_count": 154,
   "metadata": {
    "collapsed": false
   },
   "outputs": [
    {
     "data": {
      "image/png": "[encoded data removed]",
      "text/plain": [
       "<matplotlib.figure.Figure at 0x11d3c8898>"
      ]
     },
     "metadata": {},
     "output_type": "display_data"
    }
   ],
   "source": [
    "# graph the network\n",
    "import networkx as nx\n",
    "import matplotlib.pyplot as plt\n",
    "%matplotlib inline\n",
    "\n",
    "G = nx.DiGraph()\n",
    "G.add_edges_from(model.edges())\n",
    "\n",
    "pos = nx.spring_layout(G)\n",
    "nx.draw(G, pos)\n",
    "for k, v in pos.items():\n",
    "    pos[k][1] += 0.1\n",
    "nx.draw_networkx_labels(G, pos)\n",
    "\n",
    "plt.show()"
   ]
  },
  {
   "cell_type": "code",
   "execution_count": 160,
   "metadata": {
    "collapsed": false
   },
   "outputs": [
    {
     "data": {
      "text/html": [
       "<div>\n",
       "<style>\n",
       "    .dataframe thead tr:only-child th {\n",
       "        text-align: right;\n",
       "    }\n",
       "\n",
       "    .dataframe thead th {\n",
       "        text-align: left;\n",
       "    }\n",
       "\n",
       "    .dataframe tbody tr th {\n",
       "        vertical-align: top;\n",
       "    }\n",
       "</style>\n",
       "<table border=\"1\" class=\"dataframe\">\n",
       "  <thead>\n",
       "    <tr style=\"text-align: right;\">\n",
       "      <th></th>\n",
       "      <th>Boating_act</th>\n",
       "      <th>Disaster_act</th>\n",
       "      <th>Filming_act</th>\n",
       "      <th>Fishing_act</th>\n",
       "      <th>Handling_act</th>\n",
       "      <th>Diving_act</th>\n",
       "      <th>Rowing_act</th>\n",
       "      <th>Shallow Water_act</th>\n",
       "      <th>Spear Fishing_act</th>\n",
       "      <th>Surfing_act</th>\n",
       "      <th>Swimming_act</th>\n",
       "    </tr>\n",
       "    <tr>\n",
       "      <th>fatal</th>\n",
       "      <th></th>\n",
       "      <th></th>\n",
       "      <th></th>\n",
       "      <th></th>\n",
       "      <th></th>\n",
       "      <th></th>\n",
       "      <th></th>\n",
       "      <th></th>\n",
       "      <th></th>\n",
       "      <th></th>\n",
       "      <th></th>\n",
       "    </tr>\n",
       "  </thead>\n",
       "  <tbody>\n",
       "    <tr>\n",
       "      <th>0.0</th>\n",
       "      <td>4.0</td>\n",
       "      <td>1.0</td>\n",
       "      <td>2.0</td>\n",
       "      <td>92.0</td>\n",
       "      <td>25.0</td>\n",
       "      <td>29.0</td>\n",
       "      <td>41.0</td>\n",
       "      <td>72.0</td>\n",
       "      <td>48.0</td>\n",
       "      <td>383.0</td>\n",
       "      <td>161.0</td>\n",
       "    </tr>\n",
       "    <tr>\n",
       "      <th>1.0</th>\n",
       "      <td>1.0</td>\n",
       "      <td>1.0</td>\n",
       "      <td>1.0</td>\n",
       "      <td>8.0</td>\n",
       "      <td>1.0</td>\n",
       "      <td>9.0</td>\n",
       "      <td>3.0</td>\n",
       "      <td>5.0</td>\n",
       "      <td>7.0</td>\n",
       "      <td>59.0</td>\n",
       "      <td>31.0</td>\n",
       "    </tr>\n",
       "    <tr>\n",
       "      <th>2.0</th>\n",
       "      <td>0.0</td>\n",
       "      <td>0.0</td>\n",
       "      <td>0.0</td>\n",
       "      <td>1.0</td>\n",
       "      <td>0.0</td>\n",
       "      <td>2.0</td>\n",
       "      <td>0.0</td>\n",
       "      <td>0.0</td>\n",
       "      <td>2.0</td>\n",
       "      <td>4.0</td>\n",
       "      <td>3.0</td>\n",
       "    </tr>\n",
       "  </tbody>\n",
       "</table>\n",
       "</div>"
      ],
      "text/plain": [
       "       Boating_act  Disaster_act  Filming_act  Fishing_act  Handling_act  \\\n",
       "fatal                                                                      \n",
       "0.0            4.0           1.0          2.0         92.0          25.0   \n",
       "1.0            1.0           1.0          1.0          8.0           1.0   \n",
       "2.0            0.0           0.0          0.0          1.0           0.0   \n",
       "\n",
       "       Diving_act  Rowing_act  Shallow Water_act  Spear Fishing_act  \\\n",
       "fatal                                                                 \n",
       "0.0          29.0        41.0               72.0               48.0   \n",
       "1.0           9.0         3.0                5.0                7.0   \n",
       "2.0           2.0         0.0                0.0                2.0   \n",
       "\n",
       "       Surfing_act  Swimming_act  \n",
       "fatal                             \n",
       "0.0          383.0         161.0  \n",
       "1.0           59.0          31.0  \n",
       "2.0            4.0           3.0  "
      ]
     },
     "execution_count": 160,
     "metadata": {},
     "output_type": "execute_result"
    }
   ],
   "source": [
    "full_cym.groupby('fatal')[['Boating_act', 'Disaster_act', 'Filming_act', \"Fishing_act\", 'Handling_act', 'Diving_act',\n",
    "                           'Rowing_act', 'Shallow Water_act', 'Spear Fishing_act', 'Surfing_act','Swimming_act']].sum()"
   ]
  },
  {
   "cell_type": "code",
   "execution_count": 161,
   "metadata": {
    "collapsed": false
   },
   "outputs": [
    {
     "data": {
      "text/plain": [
       "0.30952380952380953"
      ]
     },
     "execution_count": 161,
     "metadata": {},
     "output_type": "execute_result"
    }
   ],
   "source": [
    "(9+4)/(9+29+4)"
   ]
  },
  {
   "cell_type": "code",
   "execution_count": 162,
   "metadata": {
    "collapsed": false
   },
   "outputs": [
    {
     "data": {
      "text/plain": [
       "0.14888888888888888"
      ]
     },
     "execution_count": 162,
     "metadata": {},
     "output_type": "execute_result"
    }
   ],
   "source": [
    "(8+59)/(8+59+383)"
   ]
  },
  {
   "cell_type": "code",
   "execution_count": 228,
   "metadata": {
    "collapsed": false
   },
   "outputs": [
    {
     "name": "stderr",
     "output_type": "stream",
     "text": [
      "WARNING:root:Replacing existing CPD for Boating_act\n",
      "WARNING:root:Replacing existing CPD for Disaster_act\n",
      "WARNING:root:Replacing existing CPD for Diving_act\n",
      "WARNING:root:Replacing existing CPD for Filming_act\n",
      "WARNING:root:Replacing existing CPD for Fishing_act\n",
      "WARNING:root:Replacing existing CPD for Handling_act\n",
      "WARNING:root:Replacing existing CPD for Rowing_act\n",
      "WARNING:root:Replacing existing CPD for Shallow Water_act\n",
      "WARNING:root:Replacing existing CPD for Spear Fishing_act\n",
      "WARNING:root:Replacing existing CPD for Surfing_act\n",
      "WARNING:root:Replacing existing CPD for Swimming_act\n",
      "WARNING:root:Replacing existing CPD for attack\n",
      "WARNING:root:Replacing existing CPD for fatal\n",
      "WARNING:root:Replacing existing CPD for geo_country\n",
      "WARNING:root:Replacing existing CPD for log_pop_cat\n",
      "WARNING:root:Replacing existing CPD for month\n",
      "WARNING:root:Replacing existing CPD for phase\n",
      "WARNING:root:Replacing existing CPD for year\n"
     ]
    },
    {
     "name": "stdout",
     "output_type": "stream",
     "text": [
      "CPU times: user 130 ms, sys: 5.1 ms, total: 135 ms\n",
      "Wall time: 142 ms\n"
     ]
    },
    {
     "data": {
      "text/plain": [
       "<TabularCPD representing P(phase:5 | attack:15) at 0x11d99dd30>"
      ]
     },
     "execution_count": 228,
     "metadata": {},
     "output_type": "execute_result"
    }
   ],
   "source": [
    "# train the model and find the conditional probability distributions\n",
    "%time model.fit(train_data)\n",
    "model.get_cpds('phase')"
   ]
  },
  {
   "cell_type": "code",
   "execution_count": 229,
   "metadata": {
    "collapsed": false
   },
   "outputs": [
    {
     "data": {
      "text/plain": [
       "<TabularCPD representing P(attack:15 | Swimming_act:8) at 0x11e782588>"
      ]
     },
     "execution_count": 229,
     "metadata": {},
     "output_type": "execute_result"
    }
   ],
   "source": [
    "model.get_cpds('attack')"
   ]
  },
  {
   "cell_type": "code",
   "execution_count": null,
   "metadata": {
    "collapsed": true
   },
   "outputs": [],
   "source": []
  }
 ],
 "metadata": {
  "anaconda-cloud": {},
  "kernelspec": {
   "display_name": "Python [default]",
   "language": "python",
   "name": "python3"
  },
  "language_info": {
   "codemirror_mode": {
    "name": "ipython",
    "version": 3
   },
   "file_extension": ".py",
   "mimetype": "text/x-python",
   "name": "python",
   "nbconvert_exporter": "python",
   "pygments_lexer": "ipython3",
   "version": "3.5.2"
  }
 },
 "nbformat": 4,
 "nbformat_minor": 0
}
